{
 "cells": [
  {
   "cell_type": "markdown",
   "metadata": {},
   "source": [
    "https://towardsdatascience.com/deep-learning-which-loss-and-activation-functions-should-i-use-ac02f1c56aa8"
   ]
  },
  {
   "cell_type": "markdown",
   "metadata": {},
   "source": [
    "* Tensorflow Classification"
   ]
  },
  {
   "cell_type": "code",
   "execution_count": 1,
   "metadata": {
    "executionInfo": {
     "elapsed": 991,
     "status": "ok",
     "timestamp": 1610201325502,
     "user": {
      "displayName": "Richard C",
      "photoUrl": "",
      "userId": "08040814671867660929"
     },
     "user_tz": -180
    },
    "id": "6VD4eWBQcze2"
   },
   "outputs": [],
   "source": [
    "import numpy as np\n",
    "import pandas as pd\n",
    "import seaborn as sns\n",
    "import matplotlib.pyplot as plt\n",
    "\n",
    "%matplotlib inline\n",
    "# %matplotlib notebook\n",
    "plt.rcParams[\"figure.figsize\"] = (12,6)\n",
    "# plt.rcParams['figure.dpi'] = 100\n",
    "sns.set_style(\"whitegrid\")\n",
    "import warnings\n",
    "warnings.filterwarnings(\"ignore\")\n",
    "warnings.warn(\"this will not show\")\n",
    "pd.set_option('display.float_format', lambda x: '%.3f' % x)"
   ]
  },
  {
   "cell_type": "code",
   "execution_count": 2,
   "metadata": {
    "colab": {
     "base_uri": "https://localhost:8080/"
    },
    "executionInfo": {
     "elapsed": 26126,
     "status": "ok",
     "timestamp": 1610201424744,
     "user": {
      "displayName": "Richard C",
      "photoUrl": "",
      "userId": "08040814671867660929"
     },
     "user_tz": -180
    },
    "id": "9Iddc6PUekQN",
    "outputId": "08ca25ef-a889-49b3-fa13-a75b4ed0e40b"
   },
   "outputs": [],
   "source": [
    "# from google.colab import drive\n",
    "# drive.mount('/content/drive')"
   ]
  },
  {
   "cell_type": "code",
   "execution_count": 3,
   "metadata": {
    "executionInfo": {
     "elapsed": 880,
     "status": "ok",
     "timestamp": 1610201474000,
     "user": {
      "displayName": "Richard C",
      "photoUrl": "",
      "userId": "08040814671867660929"
     },
     "user_tz": -180
    },
    "id": "hajOLJTPe-QR"
   },
   "outputs": [],
   "source": [
    "# df=pd.read_csv('drive/MyDrive/Colab Notebooks/DATA/cancer_classification.csv')\n",
    "df=pd.read_csv('cancer_classification.csv')"
   ]
  },
  {
   "cell_type": "markdown",
   "metadata": {},
   "source": [
    "* Exploratory Data Analysis and Visualization"
   ]
  },
  {
   "cell_type": "code",
   "execution_count": 4,
   "metadata": {
    "colab": {
     "base_uri": "https://localhost:8080/",
     "height": 257
    },
    "executionInfo": {
     "elapsed": 883,
     "status": "ok",
     "timestamp": 1610201485550,
     "user": {
      "displayName": "Richard C",
      "photoUrl": "",
      "userId": "08040814671867660929"
     },
     "user_tz": -180
    },
    "id": "JFGIW2pQfK6n",
    "outputId": "a39b3380-2c7f-4d4d-ab94-71dd420a3c44"
   },
   "outputs": [
    {
     "data": {
      "text/html": [
       "<div>\n",
       "<style scoped>\n",
       "    .dataframe tbody tr th:only-of-type {\n",
       "        vertical-align: middle;\n",
       "    }\n",
       "\n",
       "    .dataframe tbody tr th {\n",
       "        vertical-align: top;\n",
       "    }\n",
       "\n",
       "    .dataframe thead th {\n",
       "        text-align: right;\n",
       "    }\n",
       "</style>\n",
       "<table border=\"1\" class=\"dataframe\">\n",
       "  <thead>\n",
       "    <tr style=\"text-align: right;\">\n",
       "      <th></th>\n",
       "      <th>mean radius</th>\n",
       "      <th>mean texture</th>\n",
       "      <th>mean perimeter</th>\n",
       "      <th>mean area</th>\n",
       "      <th>mean smoothness</th>\n",
       "      <th>mean compactness</th>\n",
       "      <th>mean concavity</th>\n",
       "      <th>mean concave points</th>\n",
       "      <th>mean symmetry</th>\n",
       "      <th>mean fractal dimension</th>\n",
       "      <th>...</th>\n",
       "      <th>worst texture</th>\n",
       "      <th>worst perimeter</th>\n",
       "      <th>worst area</th>\n",
       "      <th>worst smoothness</th>\n",
       "      <th>worst compactness</th>\n",
       "      <th>worst concavity</th>\n",
       "      <th>worst concave points</th>\n",
       "      <th>worst symmetry</th>\n",
       "      <th>worst fractal dimension</th>\n",
       "      <th>benign_0__mal_1</th>\n",
       "    </tr>\n",
       "  </thead>\n",
       "  <tbody>\n",
       "    <tr>\n",
       "      <th>0</th>\n",
       "      <td>17.990</td>\n",
       "      <td>10.380</td>\n",
       "      <td>122.800</td>\n",
       "      <td>1001.000</td>\n",
       "      <td>0.118</td>\n",
       "      <td>0.278</td>\n",
       "      <td>0.300</td>\n",
       "      <td>0.147</td>\n",
       "      <td>0.242</td>\n",
       "      <td>0.079</td>\n",
       "      <td>...</td>\n",
       "      <td>17.330</td>\n",
       "      <td>184.600</td>\n",
       "      <td>2019.000</td>\n",
       "      <td>0.162</td>\n",
       "      <td>0.666</td>\n",
       "      <td>0.712</td>\n",
       "      <td>0.265</td>\n",
       "      <td>0.460</td>\n",
       "      <td>0.119</td>\n",
       "      <td>0</td>\n",
       "    </tr>\n",
       "    <tr>\n",
       "      <th>1</th>\n",
       "      <td>20.570</td>\n",
       "      <td>17.770</td>\n",
       "      <td>132.900</td>\n",
       "      <td>1326.000</td>\n",
       "      <td>0.085</td>\n",
       "      <td>0.079</td>\n",
       "      <td>0.087</td>\n",
       "      <td>0.070</td>\n",
       "      <td>0.181</td>\n",
       "      <td>0.057</td>\n",
       "      <td>...</td>\n",
       "      <td>23.410</td>\n",
       "      <td>158.800</td>\n",
       "      <td>1956.000</td>\n",
       "      <td>0.124</td>\n",
       "      <td>0.187</td>\n",
       "      <td>0.242</td>\n",
       "      <td>0.186</td>\n",
       "      <td>0.275</td>\n",
       "      <td>0.089</td>\n",
       "      <td>0</td>\n",
       "    </tr>\n",
       "    <tr>\n",
       "      <th>2</th>\n",
       "      <td>19.690</td>\n",
       "      <td>21.250</td>\n",
       "      <td>130.000</td>\n",
       "      <td>1203.000</td>\n",
       "      <td>0.110</td>\n",
       "      <td>0.160</td>\n",
       "      <td>0.197</td>\n",
       "      <td>0.128</td>\n",
       "      <td>0.207</td>\n",
       "      <td>0.060</td>\n",
       "      <td>...</td>\n",
       "      <td>25.530</td>\n",
       "      <td>152.500</td>\n",
       "      <td>1709.000</td>\n",
       "      <td>0.144</td>\n",
       "      <td>0.424</td>\n",
       "      <td>0.450</td>\n",
       "      <td>0.243</td>\n",
       "      <td>0.361</td>\n",
       "      <td>0.088</td>\n",
       "      <td>0</td>\n",
       "    </tr>\n",
       "    <tr>\n",
       "      <th>3</th>\n",
       "      <td>11.420</td>\n",
       "      <td>20.380</td>\n",
       "      <td>77.580</td>\n",
       "      <td>386.100</td>\n",
       "      <td>0.142</td>\n",
       "      <td>0.284</td>\n",
       "      <td>0.241</td>\n",
       "      <td>0.105</td>\n",
       "      <td>0.260</td>\n",
       "      <td>0.097</td>\n",
       "      <td>...</td>\n",
       "      <td>26.500</td>\n",
       "      <td>98.870</td>\n",
       "      <td>567.700</td>\n",
       "      <td>0.210</td>\n",
       "      <td>0.866</td>\n",
       "      <td>0.687</td>\n",
       "      <td>0.258</td>\n",
       "      <td>0.664</td>\n",
       "      <td>0.173</td>\n",
       "      <td>0</td>\n",
       "    </tr>\n",
       "    <tr>\n",
       "      <th>4</th>\n",
       "      <td>20.290</td>\n",
       "      <td>14.340</td>\n",
       "      <td>135.100</td>\n",
       "      <td>1297.000</td>\n",
       "      <td>0.100</td>\n",
       "      <td>0.133</td>\n",
       "      <td>0.198</td>\n",
       "      <td>0.104</td>\n",
       "      <td>0.181</td>\n",
       "      <td>0.059</td>\n",
       "      <td>...</td>\n",
       "      <td>16.670</td>\n",
       "      <td>152.200</td>\n",
       "      <td>1575.000</td>\n",
       "      <td>0.137</td>\n",
       "      <td>0.205</td>\n",
       "      <td>0.400</td>\n",
       "      <td>0.163</td>\n",
       "      <td>0.236</td>\n",
       "      <td>0.077</td>\n",
       "      <td>0</td>\n",
       "    </tr>\n",
       "  </tbody>\n",
       "</table>\n",
       "<p>5 rows × 31 columns</p>\n",
       "</div>"
      ],
      "text/plain": [
       "   mean radius  mean texture  mean perimeter  mean area  mean smoothness  \\\n",
       "0       17.990        10.380         122.800   1001.000            0.118   \n",
       "1       20.570        17.770         132.900   1326.000            0.085   \n",
       "2       19.690        21.250         130.000   1203.000            0.110   \n",
       "3       11.420        20.380          77.580    386.100            0.142   \n",
       "4       20.290        14.340         135.100   1297.000            0.100   \n",
       "\n",
       "   mean compactness  mean concavity  mean concave points  mean symmetry  \\\n",
       "0             0.278           0.300                0.147          0.242   \n",
       "1             0.079           0.087                0.070          0.181   \n",
       "2             0.160           0.197                0.128          0.207   \n",
       "3             0.284           0.241                0.105          0.260   \n",
       "4             0.133           0.198                0.104          0.181   \n",
       "\n",
       "   mean fractal dimension  ...  worst texture  worst perimeter  worst area  \\\n",
       "0                   0.079  ...         17.330          184.600    2019.000   \n",
       "1                   0.057  ...         23.410          158.800    1956.000   \n",
       "2                   0.060  ...         25.530          152.500    1709.000   \n",
       "3                   0.097  ...         26.500           98.870     567.700   \n",
       "4                   0.059  ...         16.670          152.200    1575.000   \n",
       "\n",
       "   worst smoothness  worst compactness  worst concavity  worst concave points  \\\n",
       "0             0.162              0.666            0.712                 0.265   \n",
       "1             0.124              0.187            0.242                 0.186   \n",
       "2             0.144              0.424            0.450                 0.243   \n",
       "3             0.210              0.866            0.687                 0.258   \n",
       "4             0.137              0.205            0.400                 0.163   \n",
       "\n",
       "   worst symmetry  worst fractal dimension  benign_0__mal_1  \n",
       "0           0.460                    0.119                0  \n",
       "1           0.275                    0.089                0  \n",
       "2           0.361                    0.088                0  \n",
       "3           0.664                    0.173                0  \n",
       "4           0.236                    0.077                0  \n",
       "\n",
       "[5 rows x 31 columns]"
      ]
     },
     "execution_count": 4,
     "metadata": {},
     "output_type": "execute_result"
    }
   ],
   "source": [
    "df.head()"
   ]
  },
  {
   "cell_type": "code",
   "execution_count": 5,
   "metadata": {
    "colab": {
     "base_uri": "https://localhost:8080/"
    },
    "executionInfo": {
     "elapsed": 798,
     "status": "ok",
     "timestamp": 1610201657421,
     "user": {
      "displayName": "Richard C",
      "photoUrl": "",
      "userId": "08040814671867660929"
     },
     "user_tz": -180
    },
    "id": "vPyMUnVWfM0o",
    "outputId": "7a294ad3-49d9-4cea-b6a2-9824e2c0ba4a"
   },
   "outputs": [
    {
     "data": {
      "text/html": [
       "<div>\n",
       "<style scoped>\n",
       "    .dataframe tbody tr th:only-of-type {\n",
       "        vertical-align: middle;\n",
       "    }\n",
       "\n",
       "    .dataframe tbody tr th {\n",
       "        vertical-align: top;\n",
       "    }\n",
       "\n",
       "    .dataframe thead th {\n",
       "        text-align: right;\n",
       "    }\n",
       "</style>\n",
       "<table border=\"1\" class=\"dataframe\">\n",
       "  <thead>\n",
       "    <tr style=\"text-align: right;\">\n",
       "      <th></th>\n",
       "      <th>count</th>\n",
       "      <th>mean</th>\n",
       "      <th>std</th>\n",
       "      <th>min</th>\n",
       "      <th>25%</th>\n",
       "      <th>50%</th>\n",
       "      <th>75%</th>\n",
       "      <th>max</th>\n",
       "    </tr>\n",
       "  </thead>\n",
       "  <tbody>\n",
       "    <tr>\n",
       "      <th>mean radius</th>\n",
       "      <td>569.000</td>\n",
       "      <td>14.127</td>\n",
       "      <td>3.524</td>\n",
       "      <td>6.981</td>\n",
       "      <td>11.700</td>\n",
       "      <td>13.370</td>\n",
       "      <td>15.780</td>\n",
       "      <td>28.110</td>\n",
       "    </tr>\n",
       "    <tr>\n",
       "      <th>mean texture</th>\n",
       "      <td>569.000</td>\n",
       "      <td>19.290</td>\n",
       "      <td>4.301</td>\n",
       "      <td>9.710</td>\n",
       "      <td>16.170</td>\n",
       "      <td>18.840</td>\n",
       "      <td>21.800</td>\n",
       "      <td>39.280</td>\n",
       "    </tr>\n",
       "    <tr>\n",
       "      <th>mean perimeter</th>\n",
       "      <td>569.000</td>\n",
       "      <td>91.969</td>\n",
       "      <td>24.299</td>\n",
       "      <td>43.790</td>\n",
       "      <td>75.170</td>\n",
       "      <td>86.240</td>\n",
       "      <td>104.100</td>\n",
       "      <td>188.500</td>\n",
       "    </tr>\n",
       "    <tr>\n",
       "      <th>mean area</th>\n",
       "      <td>569.000</td>\n",
       "      <td>654.889</td>\n",
       "      <td>351.914</td>\n",
       "      <td>143.500</td>\n",
       "      <td>420.300</td>\n",
       "      <td>551.100</td>\n",
       "      <td>782.700</td>\n",
       "      <td>2501.000</td>\n",
       "    </tr>\n",
       "    <tr>\n",
       "      <th>mean smoothness</th>\n",
       "      <td>569.000</td>\n",
       "      <td>0.096</td>\n",
       "      <td>0.014</td>\n",
       "      <td>0.053</td>\n",
       "      <td>0.086</td>\n",
       "      <td>0.096</td>\n",
       "      <td>0.105</td>\n",
       "      <td>0.163</td>\n",
       "    </tr>\n",
       "    <tr>\n",
       "      <th>mean compactness</th>\n",
       "      <td>569.000</td>\n",
       "      <td>0.104</td>\n",
       "      <td>0.053</td>\n",
       "      <td>0.019</td>\n",
       "      <td>0.065</td>\n",
       "      <td>0.093</td>\n",
       "      <td>0.130</td>\n",
       "      <td>0.345</td>\n",
       "    </tr>\n",
       "    <tr>\n",
       "      <th>mean concavity</th>\n",
       "      <td>569.000</td>\n",
       "      <td>0.089</td>\n",
       "      <td>0.080</td>\n",
       "      <td>0.000</td>\n",
       "      <td>0.030</td>\n",
       "      <td>0.062</td>\n",
       "      <td>0.131</td>\n",
       "      <td>0.427</td>\n",
       "    </tr>\n",
       "    <tr>\n",
       "      <th>mean concave points</th>\n",
       "      <td>569.000</td>\n",
       "      <td>0.049</td>\n",
       "      <td>0.039</td>\n",
       "      <td>0.000</td>\n",
       "      <td>0.020</td>\n",
       "      <td>0.034</td>\n",
       "      <td>0.074</td>\n",
       "      <td>0.201</td>\n",
       "    </tr>\n",
       "    <tr>\n",
       "      <th>mean symmetry</th>\n",
       "      <td>569.000</td>\n",
       "      <td>0.181</td>\n",
       "      <td>0.027</td>\n",
       "      <td>0.106</td>\n",
       "      <td>0.162</td>\n",
       "      <td>0.179</td>\n",
       "      <td>0.196</td>\n",
       "      <td>0.304</td>\n",
       "    </tr>\n",
       "    <tr>\n",
       "      <th>mean fractal dimension</th>\n",
       "      <td>569.000</td>\n",
       "      <td>0.063</td>\n",
       "      <td>0.007</td>\n",
       "      <td>0.050</td>\n",
       "      <td>0.058</td>\n",
       "      <td>0.062</td>\n",
       "      <td>0.066</td>\n",
       "      <td>0.097</td>\n",
       "    </tr>\n",
       "    <tr>\n",
       "      <th>radius error</th>\n",
       "      <td>569.000</td>\n",
       "      <td>0.405</td>\n",
       "      <td>0.277</td>\n",
       "      <td>0.112</td>\n",
       "      <td>0.232</td>\n",
       "      <td>0.324</td>\n",
       "      <td>0.479</td>\n",
       "      <td>2.873</td>\n",
       "    </tr>\n",
       "    <tr>\n",
       "      <th>texture error</th>\n",
       "      <td>569.000</td>\n",
       "      <td>1.217</td>\n",
       "      <td>0.552</td>\n",
       "      <td>0.360</td>\n",
       "      <td>0.834</td>\n",
       "      <td>1.108</td>\n",
       "      <td>1.474</td>\n",
       "      <td>4.885</td>\n",
       "    </tr>\n",
       "    <tr>\n",
       "      <th>perimeter error</th>\n",
       "      <td>569.000</td>\n",
       "      <td>2.866</td>\n",
       "      <td>2.022</td>\n",
       "      <td>0.757</td>\n",
       "      <td>1.606</td>\n",
       "      <td>2.287</td>\n",
       "      <td>3.357</td>\n",
       "      <td>21.980</td>\n",
       "    </tr>\n",
       "    <tr>\n",
       "      <th>area error</th>\n",
       "      <td>569.000</td>\n",
       "      <td>40.337</td>\n",
       "      <td>45.491</td>\n",
       "      <td>6.802</td>\n",
       "      <td>17.850</td>\n",
       "      <td>24.530</td>\n",
       "      <td>45.190</td>\n",
       "      <td>542.200</td>\n",
       "    </tr>\n",
       "    <tr>\n",
       "      <th>smoothness error</th>\n",
       "      <td>569.000</td>\n",
       "      <td>0.007</td>\n",
       "      <td>0.003</td>\n",
       "      <td>0.002</td>\n",
       "      <td>0.005</td>\n",
       "      <td>0.006</td>\n",
       "      <td>0.008</td>\n",
       "      <td>0.031</td>\n",
       "    </tr>\n",
       "    <tr>\n",
       "      <th>compactness error</th>\n",
       "      <td>569.000</td>\n",
       "      <td>0.025</td>\n",
       "      <td>0.018</td>\n",
       "      <td>0.002</td>\n",
       "      <td>0.013</td>\n",
       "      <td>0.020</td>\n",
       "      <td>0.032</td>\n",
       "      <td>0.135</td>\n",
       "    </tr>\n",
       "    <tr>\n",
       "      <th>concavity error</th>\n",
       "      <td>569.000</td>\n",
       "      <td>0.032</td>\n",
       "      <td>0.030</td>\n",
       "      <td>0.000</td>\n",
       "      <td>0.015</td>\n",
       "      <td>0.026</td>\n",
       "      <td>0.042</td>\n",
       "      <td>0.396</td>\n",
       "    </tr>\n",
       "    <tr>\n",
       "      <th>concave points error</th>\n",
       "      <td>569.000</td>\n",
       "      <td>0.012</td>\n",
       "      <td>0.006</td>\n",
       "      <td>0.000</td>\n",
       "      <td>0.008</td>\n",
       "      <td>0.011</td>\n",
       "      <td>0.015</td>\n",
       "      <td>0.053</td>\n",
       "    </tr>\n",
       "    <tr>\n",
       "      <th>symmetry error</th>\n",
       "      <td>569.000</td>\n",
       "      <td>0.021</td>\n",
       "      <td>0.008</td>\n",
       "      <td>0.008</td>\n",
       "      <td>0.015</td>\n",
       "      <td>0.019</td>\n",
       "      <td>0.023</td>\n",
       "      <td>0.079</td>\n",
       "    </tr>\n",
       "    <tr>\n",
       "      <th>fractal dimension error</th>\n",
       "      <td>569.000</td>\n",
       "      <td>0.004</td>\n",
       "      <td>0.003</td>\n",
       "      <td>0.001</td>\n",
       "      <td>0.002</td>\n",
       "      <td>0.003</td>\n",
       "      <td>0.005</td>\n",
       "      <td>0.030</td>\n",
       "    </tr>\n",
       "    <tr>\n",
       "      <th>worst radius</th>\n",
       "      <td>569.000</td>\n",
       "      <td>16.269</td>\n",
       "      <td>4.833</td>\n",
       "      <td>7.930</td>\n",
       "      <td>13.010</td>\n",
       "      <td>14.970</td>\n",
       "      <td>18.790</td>\n",
       "      <td>36.040</td>\n",
       "    </tr>\n",
       "    <tr>\n",
       "      <th>worst texture</th>\n",
       "      <td>569.000</td>\n",
       "      <td>25.677</td>\n",
       "      <td>6.146</td>\n",
       "      <td>12.020</td>\n",
       "      <td>21.080</td>\n",
       "      <td>25.410</td>\n",
       "      <td>29.720</td>\n",
       "      <td>49.540</td>\n",
       "    </tr>\n",
       "    <tr>\n",
       "      <th>worst perimeter</th>\n",
       "      <td>569.000</td>\n",
       "      <td>107.261</td>\n",
       "      <td>33.603</td>\n",
       "      <td>50.410</td>\n",
       "      <td>84.110</td>\n",
       "      <td>97.660</td>\n",
       "      <td>125.400</td>\n",
       "      <td>251.200</td>\n",
       "    </tr>\n",
       "    <tr>\n",
       "      <th>worst area</th>\n",
       "      <td>569.000</td>\n",
       "      <td>880.583</td>\n",
       "      <td>569.357</td>\n",
       "      <td>185.200</td>\n",
       "      <td>515.300</td>\n",
       "      <td>686.500</td>\n",
       "      <td>1084.000</td>\n",
       "      <td>4254.000</td>\n",
       "    </tr>\n",
       "    <tr>\n",
       "      <th>worst smoothness</th>\n",
       "      <td>569.000</td>\n",
       "      <td>0.132</td>\n",
       "      <td>0.023</td>\n",
       "      <td>0.071</td>\n",
       "      <td>0.117</td>\n",
       "      <td>0.131</td>\n",
       "      <td>0.146</td>\n",
       "      <td>0.223</td>\n",
       "    </tr>\n",
       "    <tr>\n",
       "      <th>worst compactness</th>\n",
       "      <td>569.000</td>\n",
       "      <td>0.254</td>\n",
       "      <td>0.157</td>\n",
       "      <td>0.027</td>\n",
       "      <td>0.147</td>\n",
       "      <td>0.212</td>\n",
       "      <td>0.339</td>\n",
       "      <td>1.058</td>\n",
       "    </tr>\n",
       "    <tr>\n",
       "      <th>worst concavity</th>\n",
       "      <td>569.000</td>\n",
       "      <td>0.272</td>\n",
       "      <td>0.209</td>\n",
       "      <td>0.000</td>\n",
       "      <td>0.115</td>\n",
       "      <td>0.227</td>\n",
       "      <td>0.383</td>\n",
       "      <td>1.252</td>\n",
       "    </tr>\n",
       "    <tr>\n",
       "      <th>worst concave points</th>\n",
       "      <td>569.000</td>\n",
       "      <td>0.115</td>\n",
       "      <td>0.066</td>\n",
       "      <td>0.000</td>\n",
       "      <td>0.065</td>\n",
       "      <td>0.100</td>\n",
       "      <td>0.161</td>\n",
       "      <td>0.291</td>\n",
       "    </tr>\n",
       "    <tr>\n",
       "      <th>worst symmetry</th>\n",
       "      <td>569.000</td>\n",
       "      <td>0.290</td>\n",
       "      <td>0.062</td>\n",
       "      <td>0.157</td>\n",
       "      <td>0.250</td>\n",
       "      <td>0.282</td>\n",
       "      <td>0.318</td>\n",
       "      <td>0.664</td>\n",
       "    </tr>\n",
       "    <tr>\n",
       "      <th>worst fractal dimension</th>\n",
       "      <td>569.000</td>\n",
       "      <td>0.084</td>\n",
       "      <td>0.018</td>\n",
       "      <td>0.055</td>\n",
       "      <td>0.071</td>\n",
       "      <td>0.080</td>\n",
       "      <td>0.092</td>\n",
       "      <td>0.207</td>\n",
       "    </tr>\n",
       "    <tr>\n",
       "      <th>benign_0__mal_1</th>\n",
       "      <td>569.000</td>\n",
       "      <td>0.627</td>\n",
       "      <td>0.484</td>\n",
       "      <td>0.000</td>\n",
       "      <td>0.000</td>\n",
       "      <td>1.000</td>\n",
       "      <td>1.000</td>\n",
       "      <td>1.000</td>\n",
       "    </tr>\n",
       "  </tbody>\n",
       "</table>\n",
       "</div>"
      ],
      "text/plain": [
       "                          count    mean     std     min     25%     50%  \\\n",
       "mean radius             569.000  14.127   3.524   6.981  11.700  13.370   \n",
       "mean texture            569.000  19.290   4.301   9.710  16.170  18.840   \n",
       "mean perimeter          569.000  91.969  24.299  43.790  75.170  86.240   \n",
       "mean area               569.000 654.889 351.914 143.500 420.300 551.100   \n",
       "mean smoothness         569.000   0.096   0.014   0.053   0.086   0.096   \n",
       "mean compactness        569.000   0.104   0.053   0.019   0.065   0.093   \n",
       "mean concavity          569.000   0.089   0.080   0.000   0.030   0.062   \n",
       "mean concave points     569.000   0.049   0.039   0.000   0.020   0.034   \n",
       "mean symmetry           569.000   0.181   0.027   0.106   0.162   0.179   \n",
       "mean fractal dimension  569.000   0.063   0.007   0.050   0.058   0.062   \n",
       "radius error            569.000   0.405   0.277   0.112   0.232   0.324   \n",
       "texture error           569.000   1.217   0.552   0.360   0.834   1.108   \n",
       "perimeter error         569.000   2.866   2.022   0.757   1.606   2.287   \n",
       "area error              569.000  40.337  45.491   6.802  17.850  24.530   \n",
       "smoothness error        569.000   0.007   0.003   0.002   0.005   0.006   \n",
       "compactness error       569.000   0.025   0.018   0.002   0.013   0.020   \n",
       "concavity error         569.000   0.032   0.030   0.000   0.015   0.026   \n",
       "concave points error    569.000   0.012   0.006   0.000   0.008   0.011   \n",
       "symmetry error          569.000   0.021   0.008   0.008   0.015   0.019   \n",
       "fractal dimension error 569.000   0.004   0.003   0.001   0.002   0.003   \n",
       "worst radius            569.000  16.269   4.833   7.930  13.010  14.970   \n",
       "worst texture           569.000  25.677   6.146  12.020  21.080  25.410   \n",
       "worst perimeter         569.000 107.261  33.603  50.410  84.110  97.660   \n",
       "worst area              569.000 880.583 569.357 185.200 515.300 686.500   \n",
       "worst smoothness        569.000   0.132   0.023   0.071   0.117   0.131   \n",
       "worst compactness       569.000   0.254   0.157   0.027   0.147   0.212   \n",
       "worst concavity         569.000   0.272   0.209   0.000   0.115   0.227   \n",
       "worst concave points    569.000   0.115   0.066   0.000   0.065   0.100   \n",
       "worst symmetry          569.000   0.290   0.062   0.157   0.250   0.282   \n",
       "worst fractal dimension 569.000   0.084   0.018   0.055   0.071   0.080   \n",
       "benign_0__mal_1         569.000   0.627   0.484   0.000   0.000   1.000   \n",
       "\n",
       "                             75%      max  \n",
       "mean radius               15.780   28.110  \n",
       "mean texture              21.800   39.280  \n",
       "mean perimeter           104.100  188.500  \n",
       "mean area                782.700 2501.000  \n",
       "mean smoothness            0.105    0.163  \n",
       "mean compactness           0.130    0.345  \n",
       "mean concavity             0.131    0.427  \n",
       "mean concave points        0.074    0.201  \n",
       "mean symmetry              0.196    0.304  \n",
       "mean fractal dimension     0.066    0.097  \n",
       "radius error               0.479    2.873  \n",
       "texture error              1.474    4.885  \n",
       "perimeter error            3.357   21.980  \n",
       "area error                45.190  542.200  \n",
       "smoothness error           0.008    0.031  \n",
       "compactness error          0.032    0.135  \n",
       "concavity error            0.042    0.396  \n",
       "concave points error       0.015    0.053  \n",
       "symmetry error             0.023    0.079  \n",
       "fractal dimension error    0.005    0.030  \n",
       "worst radius              18.790   36.040  \n",
       "worst texture             29.720   49.540  \n",
       "worst perimeter          125.400  251.200  \n",
       "worst area              1084.000 4254.000  \n",
       "worst smoothness           0.146    0.223  \n",
       "worst compactness          0.339    1.058  \n",
       "worst concavity            0.383    1.252  \n",
       "worst concave points       0.161    0.291  \n",
       "worst symmetry             0.318    0.664  \n",
       "worst fractal dimension    0.092    0.207  \n",
       "benign_0__mal_1            1.000    1.000  "
      ]
     },
     "execution_count": 5,
     "metadata": {},
     "output_type": "execute_result"
    }
   ],
   "source": [
    "df.describe().T"
   ]
  },
  {
   "cell_type": "code",
   "execution_count": 6,
   "metadata": {
    "executionInfo": {
     "elapsed": 1594,
     "status": "ok",
     "timestamp": 1610201844195,
     "user": {
      "displayName": "Richard C",
      "photoUrl": "",
      "userId": "08040814671867660929"
     },
     "user_tz": -180
    },
    "id": "q5Ie43jXgIea"
   },
   "outputs": [],
   "source": [
    "import seaborn as sns\n",
    "import matplotlib.pyplot as plt"
   ]
  },
  {
   "cell_type": "code",
   "execution_count": 7,
   "metadata": {
    "colab": {
     "base_uri": "https://localhost:8080/",
     "height": 297
    },
    "executionInfo": {
     "elapsed": 1052,
     "status": "ok",
     "timestamp": 1610201940310,
     "user": {
      "displayName": "Richard C",
      "photoUrl": "",
      "userId": "08040814671867660929"
     },
     "user_tz": -180
    },
    "id": "_7vHUi5Hgldj",
    "outputId": "0018aaa8-d479-40c3-f973-161c63e7a77b"
   },
   "outputs": [
    {
     "data": {
      "image/png": "[encoded data removed]",
      "text/plain": [
       "<Figure size 864x432 with 1 Axes>"
      ]
     },
     "metadata": {},
     "output_type": "display_data"
    }
   ],
   "source": [
    "sns.countplot(x=df.benign_0__mal_1);"
   ]
  },
  {
   "cell_type": "code",
   "execution_count": 8,
   "metadata": {
    "colab": {
     "base_uri": "https://localhost:8080/",
     "height": 613
    },
    "executionInfo": {
     "elapsed": 2341,
     "status": "ok",
     "timestamp": 1610202033836,
     "user": {
      "displayName": "Richard C",
      "photoUrl": "",
      "userId": "08040814671867660929"
     },
     "user_tz": -180
    },
    "id": "BYjUxEi3gucc",
    "outputId": "0de0efca-90a5-44c0-c4c1-f83762359cfa"
   },
   "outputs": [
    {
     "data": {
      "image/png": "[encoded data removed]",
      "text/plain": [
       "<Figure size 1440x1152 with 2 Axes>"
      ]
     },
     "metadata": {},
     "output_type": "display_data"
    }
   ],
   "source": [
    "plt.figure(figsize=(20,16))\n",
    "sns.heatmap(df.corr(), annot=True);"
   ]
  },
  {
   "cell_type": "code",
   "execution_count": null,
   "metadata": {
    "colab": {
     "base_uri": "https://localhost:8080/",
     "height": 981
    },
    "executionInfo": {
     "elapsed": 5978,
     "status": "ok",
     "timestamp": 1610202268770,
     "user": {
      "displayName": "Richard C",
      "photoUrl": "",
      "userId": "08040814671867660929"
     },
     "user_tz": -180
    },
    "id": "fNDK3HprhSU3",
    "outputId": "98fe8eba-dc36-4cc7-96ad-ff61182d12a2"
   },
   "outputs": [],
   "source": []
  },
  {
   "cell_type": "markdown",
   "metadata": {},
   "source": [
    "* Feature Engineering"
   ]
  },
  {
   "cell_type": "code",
   "execution_count": 9,
   "metadata": {
    "executionInfo": {
     "elapsed": 817,
     "status": "ok",
     "timestamp": 1610202546876,
     "user": {
      "displayName": "Richard C",
      "photoUrl": "",
      "userId": "08040814671867660929"
     },
     "user_tz": -180
    },
    "id": "K6M897UMiREU"
   },
   "outputs": [],
   "source": [
    "drop_list = [\"mean area\", \"mean perimeter\", \"worst area\", \"worst perimeter\", \"perimeter error\", \"area error\"]"
   ]
  },
  {
   "cell_type": "code",
   "execution_count": 10,
   "metadata": {
    "executionInfo": {
     "elapsed": 824,
     "status": "ok",
     "timestamp": 1610202597856,
     "user": {
      "displayName": "Richard C",
      "photoUrl": "",
      "userId": "08040814671867660929"
     },
     "user_tz": -180
    },
    "id": "8ZQl1unvjQXM"
   },
   "outputs": [],
   "source": [
    "df = df.drop(drop_list, axis=1)"
   ]
  },
  {
   "cell_type": "code",
   "execution_count": 11,
   "metadata": {
    "colab": {
     "base_uri": "https://localhost:8080/"
    },
    "executionInfo": {
     "elapsed": 551,
     "status": "ok",
     "timestamp": 1610202604629,
     "user": {
      "displayName": "Richard C",
      "photoUrl": "",
      "userId": "08040814671867660929"
     },
     "user_tz": -180
    },
    "id": "fnRFINNJjdYn",
    "outputId": "c7b41d21-2f73-4777-d329-5b2812f6823f"
   },
   "outputs": [
    {
     "data": {
      "text/html": [
       "<div>\n",
       "<style scoped>\n",
       "    .dataframe tbody tr th:only-of-type {\n",
       "        vertical-align: middle;\n",
       "    }\n",
       "\n",
       "    .dataframe tbody tr th {\n",
       "        vertical-align: top;\n",
       "    }\n",
       "\n",
       "    .dataframe thead th {\n",
       "        text-align: right;\n",
       "    }\n",
       "</style>\n",
       "<table border=\"1\" class=\"dataframe\">\n",
       "  <thead>\n",
       "    <tr style=\"text-align: right;\">\n",
       "      <th></th>\n",
       "      <th>mean radius</th>\n",
       "      <th>mean texture</th>\n",
       "      <th>mean smoothness</th>\n",
       "      <th>mean compactness</th>\n",
       "      <th>mean concavity</th>\n",
       "      <th>mean concave points</th>\n",
       "      <th>mean symmetry</th>\n",
       "      <th>mean fractal dimension</th>\n",
       "      <th>radius error</th>\n",
       "      <th>texture error</th>\n",
       "      <th>...</th>\n",
       "      <th>fractal dimension error</th>\n",
       "      <th>worst radius</th>\n",
       "      <th>worst texture</th>\n",
       "      <th>worst smoothness</th>\n",
       "      <th>worst compactness</th>\n",
       "      <th>worst concavity</th>\n",
       "      <th>worst concave points</th>\n",
       "      <th>worst symmetry</th>\n",
       "      <th>worst fractal dimension</th>\n",
       "      <th>benign_0__mal_1</th>\n",
       "    </tr>\n",
       "  </thead>\n",
       "  <tbody>\n",
       "    <tr>\n",
       "      <th>0</th>\n",
       "      <td>17.990</td>\n",
       "      <td>10.380</td>\n",
       "      <td>0.118</td>\n",
       "      <td>0.278</td>\n",
       "      <td>0.300</td>\n",
       "      <td>0.147</td>\n",
       "      <td>0.242</td>\n",
       "      <td>0.079</td>\n",
       "      <td>1.095</td>\n",
       "      <td>0.905</td>\n",
       "      <td>...</td>\n",
       "      <td>0.006</td>\n",
       "      <td>25.380</td>\n",
       "      <td>17.330</td>\n",
       "      <td>0.162</td>\n",
       "      <td>0.666</td>\n",
       "      <td>0.712</td>\n",
       "      <td>0.265</td>\n",
       "      <td>0.460</td>\n",
       "      <td>0.119</td>\n",
       "      <td>0</td>\n",
       "    </tr>\n",
       "    <tr>\n",
       "      <th>1</th>\n",
       "      <td>20.570</td>\n",
       "      <td>17.770</td>\n",
       "      <td>0.085</td>\n",
       "      <td>0.079</td>\n",
       "      <td>0.087</td>\n",
       "      <td>0.070</td>\n",
       "      <td>0.181</td>\n",
       "      <td>0.057</td>\n",
       "      <td>0.543</td>\n",
       "      <td>0.734</td>\n",
       "      <td>...</td>\n",
       "      <td>0.004</td>\n",
       "      <td>24.990</td>\n",
       "      <td>23.410</td>\n",
       "      <td>0.124</td>\n",
       "      <td>0.187</td>\n",
       "      <td>0.242</td>\n",
       "      <td>0.186</td>\n",
       "      <td>0.275</td>\n",
       "      <td>0.089</td>\n",
       "      <td>0</td>\n",
       "    </tr>\n",
       "    <tr>\n",
       "      <th>2</th>\n",
       "      <td>19.690</td>\n",
       "      <td>21.250</td>\n",
       "      <td>0.110</td>\n",
       "      <td>0.160</td>\n",
       "      <td>0.197</td>\n",
       "      <td>0.128</td>\n",
       "      <td>0.207</td>\n",
       "      <td>0.060</td>\n",
       "      <td>0.746</td>\n",
       "      <td>0.787</td>\n",
       "      <td>...</td>\n",
       "      <td>0.005</td>\n",
       "      <td>23.570</td>\n",
       "      <td>25.530</td>\n",
       "      <td>0.144</td>\n",
       "      <td>0.424</td>\n",
       "      <td>0.450</td>\n",
       "      <td>0.243</td>\n",
       "      <td>0.361</td>\n",
       "      <td>0.088</td>\n",
       "      <td>0</td>\n",
       "    </tr>\n",
       "    <tr>\n",
       "      <th>3</th>\n",
       "      <td>11.420</td>\n",
       "      <td>20.380</td>\n",
       "      <td>0.142</td>\n",
       "      <td>0.284</td>\n",
       "      <td>0.241</td>\n",
       "      <td>0.105</td>\n",
       "      <td>0.260</td>\n",
       "      <td>0.097</td>\n",
       "      <td>0.496</td>\n",
       "      <td>1.156</td>\n",
       "      <td>...</td>\n",
       "      <td>0.009</td>\n",
       "      <td>14.910</td>\n",
       "      <td>26.500</td>\n",
       "      <td>0.210</td>\n",
       "      <td>0.866</td>\n",
       "      <td>0.687</td>\n",
       "      <td>0.258</td>\n",
       "      <td>0.664</td>\n",
       "      <td>0.173</td>\n",
       "      <td>0</td>\n",
       "    </tr>\n",
       "    <tr>\n",
       "      <th>4</th>\n",
       "      <td>20.290</td>\n",
       "      <td>14.340</td>\n",
       "      <td>0.100</td>\n",
       "      <td>0.133</td>\n",
       "      <td>0.198</td>\n",
       "      <td>0.104</td>\n",
       "      <td>0.181</td>\n",
       "      <td>0.059</td>\n",
       "      <td>0.757</td>\n",
       "      <td>0.781</td>\n",
       "      <td>...</td>\n",
       "      <td>0.005</td>\n",
       "      <td>22.540</td>\n",
       "      <td>16.670</td>\n",
       "      <td>0.137</td>\n",
       "      <td>0.205</td>\n",
       "      <td>0.400</td>\n",
       "      <td>0.163</td>\n",
       "      <td>0.236</td>\n",
       "      <td>0.077</td>\n",
       "      <td>0</td>\n",
       "    </tr>\n",
       "  </tbody>\n",
       "</table>\n",
       "<p>5 rows × 25 columns</p>\n",
       "</div>"
      ],
      "text/plain": [
       "   mean radius  mean texture  mean smoothness  mean compactness  \\\n",
       "0       17.990        10.380            0.118             0.278   \n",
       "1       20.570        17.770            0.085             0.079   \n",
       "2       19.690        21.250            0.110             0.160   \n",
       "3       11.420        20.380            0.142             0.284   \n",
       "4       20.290        14.340            0.100             0.133   \n",
       "\n",
       "   mean concavity  mean concave points  mean symmetry  mean fractal dimension  \\\n",
       "0           0.300                0.147          0.242                   0.079   \n",
       "1           0.087                0.070          0.181                   0.057   \n",
       "2           0.197                0.128          0.207                   0.060   \n",
       "3           0.241                0.105          0.260                   0.097   \n",
       "4           0.198                0.104          0.181                   0.059   \n",
       "\n",
       "   radius error  texture error  ...  fractal dimension error  worst radius  \\\n",
       "0         1.095          0.905  ...                    0.006        25.380   \n",
       "1         0.543          0.734  ...                    0.004        24.990   \n",
       "2         0.746          0.787  ...                    0.005        23.570   \n",
       "3         0.496          1.156  ...                    0.009        14.910   \n",
       "4         0.757          0.781  ...                    0.005        22.540   \n",
       "\n",
       "   worst texture  worst smoothness  worst compactness  worst concavity  \\\n",
       "0         17.330             0.162              0.666            0.712   \n",
       "1         23.410             0.124              0.187            0.242   \n",
       "2         25.530             0.144              0.424            0.450   \n",
       "3         26.500             0.210              0.866            0.687   \n",
       "4         16.670             0.137              0.205            0.400   \n",
       "\n",
       "   worst concave points  worst symmetry  worst fractal dimension  \\\n",
       "0                 0.265           0.460                    0.119   \n",
       "1                 0.186           0.275                    0.089   \n",
       "2                 0.243           0.361                    0.088   \n",
       "3                 0.258           0.664                    0.173   \n",
       "4                 0.163           0.236                    0.077   \n",
       "\n",
       "   benign_0__mal_1  \n",
       "0                0  \n",
       "1                0  \n",
       "2                0  \n",
       "3                0  \n",
       "4                0  \n",
       "\n",
       "[5 rows x 25 columns]"
      ]
     },
     "execution_count": 11,
     "metadata": {},
     "output_type": "execute_result"
    }
   ],
   "source": [
    "df.head()"
   ]
  },
  {
   "cell_type": "code",
   "execution_count": 12,
   "metadata": {
    "colab": {
     "base_uri": "https://localhost:8080/",
     "height": 391
    },
    "executionInfo": {
     "elapsed": 1405,
     "status": "ok",
     "timestamp": 1610203065835,
     "user": {
      "displayName": "Richard C",
      "photoUrl": "",
      "userId": "08040814671867660929"
     },
     "user_tz": -180
    },
    "id": "IasR3c8ajeC0",
    "outputId": "4742bedb-e6bc-4967-f1cd-c36f7610f33e"
   },
   "outputs": [
    {
     "data": {
      "image/png": "[encoded data removed]",
      "text/plain": [
       "<Figure size 864x432 with 1 Axes>"
      ]
     },
     "metadata": {},
     "output_type": "display_data"
    }
   ],
   "source": [
    "df.corr()[\"benign_0__mal_1\"].sort_values()[:-1].plot(kind=\"bar\");"
   ]
  },
  {
   "cell_type": "markdown",
   "metadata": {
    "id": "DmNrHNZdluXi"
   },
   "source": [
    "* Train Test Split"
   ]
  },
  {
   "cell_type": "code",
   "execution_count": 13,
   "metadata": {
    "executionInfo": {
     "elapsed": 1126,
     "status": "ok",
     "timestamp": 1610203246314,
     "user": {
      "displayName": "Richard C",
      "photoUrl": "",
      "userId": "08040814671867660929"
     },
     "user_tz": -180
    },
    "id": "kjyTH753lq7M"
   },
   "outputs": [],
   "source": [
    "X = df.drop(\"benign_0__mal_1\", axis=1)\n",
    "y = df.benign_0__mal_1"
   ]
  },
  {
   "cell_type": "code",
   "execution_count": 14,
   "metadata": {
    "executionInfo": {
     "elapsed": 764,
     "status": "ok",
     "timestamp": 1610203310512,
     "user": {
      "displayName": "Richard C",
      "photoUrl": "",
      "userId": "08040814671867660929"
     },
     "user_tz": -180
    },
    "id": "DjY-ZSPWka7D"
   },
   "outputs": [],
   "source": [
    "from sklearn.model_selection import train_test_split"
   ]
  },
  {
   "cell_type": "code",
   "execution_count": 15,
   "metadata": {
    "executionInfo": {
     "elapsed": 945,
     "status": "ok",
     "timestamp": 1610203457442,
     "user": {
      "displayName": "Richard C",
      "photoUrl": "",
      "userId": "08040814671867660929"
     },
     "user_tz": -180
    },
    "id": "-U7qM3NxmKZX"
   },
   "outputs": [],
   "source": [
    "X_train, X_test, y_train, y_test = train_test_split(X, y, test_size=0.2, random_state=42)"
   ]
  },
  {
   "cell_type": "markdown",
   "metadata": {
    "id": "F5xH_QwNmy6I"
   },
   "source": [
    "* Scaling"
   ]
  },
  {
   "cell_type": "code",
   "execution_count": 16,
   "metadata": {
    "executionInfo": {
     "elapsed": 696,
     "status": "ok",
     "timestamp": 1610203508023,
     "user": {
      "displayName": "Richard C",
      "photoUrl": "",
      "userId": "08040814671867660929"
     },
     "user_tz": -180
    },
    "id": "Fgy3D9SBmWcq"
   },
   "outputs": [],
   "source": [
    "from sklearn.preprocessing import MinMaxScaler"
   ]
  },
  {
   "cell_type": "code",
   "execution_count": 17,
   "metadata": {
    "executionInfo": {
     "elapsed": 1066,
     "status": "ok",
     "timestamp": 1610203547403,
     "user": {
      "displayName": "Richard C",
      "photoUrl": "",
      "userId": "08040814671867660929"
     },
     "user_tz": -180
    },
    "id": "f3SncOwDm6ou"
   },
   "outputs": [],
   "source": [
    "scaler = MinMaxScaler()"
   ]
  },
  {
   "cell_type": "code",
   "execution_count": 18,
   "metadata": {
    "colab": {
     "base_uri": "https://localhost:8080/"
    },
    "executionInfo": {
     "elapsed": 954,
     "status": "ok",
     "timestamp": 1610203614599,
     "user": {
      "displayName": "Richard C",
      "photoUrl": "",
      "userId": "08040814671867660929"
     },
     "user_tz": -180
    },
    "id": "p9zcJbDAnFBC",
    "outputId": "04fa53f5-3bd3-43d2-8ce5-4a8a82df9aca"
   },
   "outputs": [],
   "source": [
    "X_train = scaler.fit_transform(X_train)"
   ]
  },
  {
   "cell_type": "code",
   "execution_count": 19,
   "metadata": {
    "executionInfo": {
     "elapsed": 769,
     "status": "ok",
     "timestamp": 1610203763697,
     "user": {
      "displayName": "Richard C",
      "photoUrl": "",
      "userId": "08040814671867660929"
     },
     "user_tz": -180
    },
    "id": "EFNPUjDQnVYp"
   },
   "outputs": [],
   "source": [
    "X_test = scaler.transform(X_test)"
   ]
  },
  {
   "cell_type": "markdown",
   "metadata": {
    "id": "Ha9hDt_AoGaE"
   },
   "source": [
    "* Creating the Model"
   ]
  },
  {
   "cell_type": "code",
   "execution_count": 20,
   "metadata": {
    "executionInfo": {
     "elapsed": 829,
     "status": "ok",
     "timestamp": 1610204616389,
     "user": {
      "displayName": "Richard C",
      "photoUrl": "",
      "userId": "08040814671867660929"
     },
     "user_tz": -180
    },
    "id": "YzzxpfNaoFyZ"
   },
   "outputs": [],
   "source": [
    "from tensorflow.keras.models import Sequential\n",
    "from tensorflow.keras.layers import Dense, Activation\n",
    "from tensorflow.keras.losses import binary_crossentropy"
   ]
  },
  {
   "cell_type": "code",
   "execution_count": 21,
   "metadata": {
    "colab": {
     "base_uri": "https://localhost:8080/"
    },
    "executionInfo": {
     "elapsed": 699,
     "status": "ok",
     "timestamp": 1610204637552,
     "user": {
      "displayName": "Richard C",
      "photoUrl": "",
      "userId": "08040814671867660929"
     },
     "user_tz": -180
    },
    "id": "53becHwOn549",
    "outputId": "2e558a0d-f10e-426f-ae9b-0937c35ccdd7"
   },
   "outputs": [
    {
     "data": {
      "text/plain": [
       "(455, 24)"
      ]
     },
     "execution_count": 21,
     "metadata": {},
     "output_type": "execute_result"
    }
   ],
   "source": [
    "X_train.shape"
   ]
  },
  {
   "cell_type": "code",
   "execution_count": 22,
   "metadata": {
    "colab": {
     "base_uri": "https://localhost:8080/"
    },
    "executionInfo": {
     "elapsed": 829,
     "status": "ok",
     "timestamp": 1610204650451,
     "user": {
      "displayName": "Richard C",
      "photoUrl": "",
      "userId": "08040814671867660929"
     },
     "user_tz": -180
    },
    "id": "TX7hyUw5rOZc",
    "outputId": "90d240eb-1271-4374-ab8f-eb8fcc0f0eed"
   },
   "outputs": [
    {
     "data": {
      "text/plain": [
       "(455,)"
      ]
     },
     "execution_count": 22,
     "metadata": {},
     "output_type": "execute_result"
    }
   ],
   "source": [
    "y_train.shape"
   ]
  },
  {
   "cell_type": "code",
   "execution_count": 23,
   "metadata": {
    "executionInfo": {
     "elapsed": 813,
     "status": "ok",
     "timestamp": 1610205209912,
     "user": {
      "displayName": "Richard C",
      "photoUrl": "",
      "userId": "08040814671867660929"
     },
     "user_tz": -180
    },
    "id": "GG2glFRNrQcv"
   },
   "outputs": [],
   "source": [
    "model = Sequential()\n",
    "model.add(Dense(24, activation=\"relu\"))\n",
    "model.add(Dense(12, activation=\"relu\"))\n",
    "model.add(Dense(1, activation=\"sigmoid\"))\n",
    "model.compile(loss=\"binary_crossentropy\", optimizer=\"adam\", metrics=\"accuracy\")"
   ]
  },
  {
   "cell_type": "code",
   "execution_count": 24,
   "metadata": {
    "colab": {
     "base_uri": "https://localhost:8080/"
    },
    "executionInfo": {
     "elapsed": 46960,
     "status": "ok",
     "timestamp": 1610205358241,
     "user": {
      "displayName": "Richard C",
      "photoUrl": "",
      "userId": "08040814671867660929"
     },
     "user_tz": -180
    },
    "id": "hw5J9o-mtbkj",
    "outputId": "0b760bf3-0ef2-4afa-c80d-b81d9675b07b"
   },
   "outputs": [
    {
     "name": "stdout",
     "output_type": "stream",
     "text": [
      "Epoch 1/500\n",
      "15/15 [==============================] - 0s 9ms/step - loss: 0.6982 - accuracy: 0.5077 - val_loss: 0.6854 - val_accuracy: 0.7456\n",
      "Epoch 2/500\n",
      "15/15 [==============================] - 0s 2ms/step - loss: 0.6798 - accuracy: 0.7429 - val_loss: 0.6705 - val_accuracy: 0.7544\n",
      "Epoch 3/500\n",
      "15/15 [==============================] - 0s 2ms/step - loss: 0.6645 - accuracy: 0.7956 - val_loss: 0.6505 - val_accuracy: 0.7807\n",
      "Epoch 4/500\n",
      "15/15 [==============================] - 0s 2ms/step - loss: 0.6452 - accuracy: 0.8549 - val_loss: 0.6264 - val_accuracy: 0.8158\n",
      "Epoch 5/500\n",
      "15/15 [==============================] - 0s 2ms/step - loss: 0.6218 - accuracy: 0.8571 - val_loss: 0.5984 - val_accuracy: 0.8333\n",
      "Epoch 6/500\n",
      "15/15 [==============================] - 0s 2ms/step - loss: 0.5923 - accuracy: 0.8549 - val_loss: 0.5629 - val_accuracy: 0.8596\n",
      "Epoch 7/500\n",
      "15/15 [==============================] - 0s 2ms/step - loss: 0.5538 - accuracy: 0.8703 - val_loss: 0.5162 - val_accuracy: 0.8772\n",
      "Epoch 8/500\n",
      "15/15 [==============================] - 0s 2ms/step - loss: 0.5112 - accuracy: 0.8857 - val_loss: 0.4711 - val_accuracy: 0.8947\n",
      "Epoch 9/500\n",
      "15/15 [==============================] - 0s 2ms/step - loss: 0.4664 - accuracy: 0.8901 - val_loss: 0.4263 - val_accuracy: 0.9211\n",
      "Epoch 10/500\n",
      "15/15 [==============================] - 0s 2ms/step - loss: 0.4261 - accuracy: 0.8967 - val_loss: 0.3862 - val_accuracy: 0.9123\n",
      "Epoch 11/500\n",
      "15/15 [==============================] - 0s 2ms/step - loss: 0.3837 - accuracy: 0.8945 - val_loss: 0.3489 - val_accuracy: 0.9123\n",
      "Epoch 12/500\n",
      "15/15 [==============================] - 0s 2ms/step - loss: 0.3494 - accuracy: 0.9011 - val_loss: 0.3156 - val_accuracy: 0.9298\n",
      "Epoch 13/500\n",
      "15/15 [==============================] - 0s 2ms/step - loss: 0.3204 - accuracy: 0.9165 - val_loss: 0.2895 - val_accuracy: 0.9211\n",
      "Epoch 14/500\n",
      "15/15 [==============================] - 0s 2ms/step - loss: 0.2961 - accuracy: 0.9033 - val_loss: 0.2661 - val_accuracy: 0.9386\n",
      "Epoch 15/500\n",
      "15/15 [==============================] - 0s 2ms/step - loss: 0.2731 - accuracy: 0.9165 - val_loss: 0.2462 - val_accuracy: 0.9298\n",
      "Epoch 16/500\n",
      "15/15 [==============================] - 0s 2ms/step - loss: 0.2542 - accuracy: 0.9165 - val_loss: 0.2285 - val_accuracy: 0.9386\n",
      "Epoch 17/500\n",
      "15/15 [==============================] - 0s 2ms/step - loss: 0.2394 - accuracy: 0.9187 - val_loss: 0.2134 - val_accuracy: 0.9474\n",
      "Epoch 18/500\n",
      "15/15 [==============================] - 0s 2ms/step - loss: 0.2257 - accuracy: 0.9253 - val_loss: 0.2018 - val_accuracy: 0.9298\n",
      "Epoch 19/500\n",
      "15/15 [==============================] - 0s 2ms/step - loss: 0.2142 - accuracy: 0.9275 - val_loss: 0.1906 - val_accuracy: 0.9474\n",
      "Epoch 20/500\n",
      "15/15 [==============================] - 0s 2ms/step - loss: 0.2049 - accuracy: 0.9253 - val_loss: 0.1814 - val_accuracy: 0.9386\n",
      "Epoch 21/500\n",
      "15/15 [==============================] - 0s 2ms/step - loss: 0.1969 - accuracy: 0.9253 - val_loss: 0.1731 - val_accuracy: 0.9474\n",
      "Epoch 22/500\n",
      "15/15 [==============================] - 0s 2ms/step - loss: 0.1871 - accuracy: 0.9231 - val_loss: 0.1635 - val_accuracy: 0.9298\n",
      "Epoch 23/500\n",
      "15/15 [==============================] - 0s 2ms/step - loss: 0.1764 - accuracy: 0.9275 - val_loss: 0.1541 - val_accuracy: 0.9474\n",
      "Epoch 24/500\n",
      "15/15 [==============================] - 0s 2ms/step - loss: 0.1683 - accuracy: 0.9275 - val_loss: 0.1465 - val_accuracy: 0.9386\n",
      "Epoch 25/500\n",
      "15/15 [==============================] - 0s 2ms/step - loss: 0.1623 - accuracy: 0.9275 - val_loss: 0.1424 - val_accuracy: 0.9474\n",
      "Epoch 26/500\n",
      "15/15 [==============================] - 0s 2ms/step - loss: 0.1550 - accuracy: 0.9429 - val_loss: 0.1360 - val_accuracy: 0.9386\n",
      "Epoch 27/500\n",
      "15/15 [==============================] - 0s 2ms/step - loss: 0.1503 - accuracy: 0.9516 - val_loss: 0.1316 - val_accuracy: 0.9474\n",
      "Epoch 28/500\n",
      "15/15 [==============================] - 0s 2ms/step - loss: 0.1452 - accuracy: 0.9495 - val_loss: 0.1288 - val_accuracy: 0.9474\n",
      "Epoch 29/500\n",
      "15/15 [==============================] - 0s 2ms/step - loss: 0.1434 - accuracy: 0.9429 - val_loss: 0.1231 - val_accuracy: 0.9561\n",
      "Epoch 30/500\n",
      "15/15 [==============================] - 0s 2ms/step - loss: 0.1367 - accuracy: 0.9560 - val_loss: 0.1203 - val_accuracy: 0.9561\n",
      "Epoch 31/500\n",
      "15/15 [==============================] - 0s 2ms/step - loss: 0.1326 - accuracy: 0.9451 - val_loss: 0.1198 - val_accuracy: 0.9649\n",
      "Epoch 32/500\n",
      "15/15 [==============================] - 0s 2ms/step - loss: 0.1272 - accuracy: 0.9648 - val_loss: 0.1143 - val_accuracy: 0.9649\n",
      "Epoch 33/500\n",
      "15/15 [==============================] - 0s 2ms/step - loss: 0.1264 - accuracy: 0.9604 - val_loss: 0.1134 - val_accuracy: 0.9737\n",
      "Epoch 34/500\n",
      "15/15 [==============================] - 0s 2ms/step - loss: 0.1217 - accuracy: 0.9582 - val_loss: 0.1100 - val_accuracy: 0.9737\n",
      "Epoch 35/500\n",
      "15/15 [==============================] - 0s 2ms/step - loss: 0.1168 - accuracy: 0.9670 - val_loss: 0.1075 - val_accuracy: 0.9737\n",
      "Epoch 36/500\n",
      "15/15 [==============================] - 0s 2ms/step - loss: 0.1155 - accuracy: 0.9648 - val_loss: 0.1065 - val_accuracy: 0.9737\n",
      "Epoch 37/500\n",
      "15/15 [==============================] - 0s 2ms/step - loss: 0.1124 - accuracy: 0.9648 - val_loss: 0.1051 - val_accuracy: 0.9737\n",
      "Epoch 38/500\n",
      "15/15 [==============================] - 0s 2ms/step - loss: 0.1096 - accuracy: 0.9692 - val_loss: 0.1004 - val_accuracy: 0.9649\n",
      "Epoch 39/500\n",
      "15/15 [==============================] - 0s 2ms/step - loss: 0.1066 - accuracy: 0.9714 - val_loss: 0.1008 - val_accuracy: 0.9737\n",
      "Epoch 40/500\n",
      "15/15 [==============================] - 0s 2ms/step - loss: 0.1035 - accuracy: 0.9670 - val_loss: 0.0988 - val_accuracy: 0.9737\n",
      "Epoch 41/500\n",
      "15/15 [==============================] - 0s 2ms/step - loss: 0.1022 - accuracy: 0.9692 - val_loss: 0.0977 - val_accuracy: 0.9737\n",
      "Epoch 42/500\n",
      "15/15 [==============================] - 0s 2ms/step - loss: 0.1004 - accuracy: 0.9758 - val_loss: 0.0961 - val_accuracy: 0.9737\n",
      "Epoch 43/500\n",
      "15/15 [==============================] - 0s 2ms/step - loss: 0.0979 - accuracy: 0.9736 - val_loss: 0.0947 - val_accuracy: 0.9737\n",
      "Epoch 44/500\n",
      "15/15 [==============================] - 0s 2ms/step - loss: 0.0955 - accuracy: 0.9780 - val_loss: 0.0948 - val_accuracy: 0.9737\n",
      "Epoch 45/500\n",
      "15/15 [==============================] - 0s 2ms/step - loss: 0.0945 - accuracy: 0.9758 - val_loss: 0.0914 - val_accuracy: 0.9737\n",
      "Epoch 46/500\n",
      "15/15 [==============================] - 0s 2ms/step - loss: 0.0925 - accuracy: 0.9780 - val_loss: 0.0896 - val_accuracy: 0.9737\n",
      "Epoch 47/500\n",
      "15/15 [==============================] - 0s 2ms/step - loss: 0.0900 - accuracy: 0.9780 - val_loss: 0.0915 - val_accuracy: 0.9737\n",
      "Epoch 48/500\n",
      "15/15 [==============================] - 0s 2ms/step - loss: 0.0896 - accuracy: 0.9780 - val_loss: 0.0879 - val_accuracy: 0.9737\n",
      "Epoch 49/500\n",
      "15/15 [==============================] - 0s 2ms/step - loss: 0.0872 - accuracy: 0.9780 - val_loss: 0.0878 - val_accuracy: 0.9737\n",
      "Epoch 50/500\n",
      "15/15 [==============================] - 0s 904us/step - loss: 0.0860 - accuracy: 0.9802 - val_loss: 0.0879 - val_accuracy: 0.9737\n",
      "Epoch 51/500\n",
      "15/15 [==============================] - 0s 2ms/step - loss: 0.0850 - accuracy: 0.9802 - val_loss: 0.0877 - val_accuracy: 0.9737\n",
      "Epoch 52/500\n",
      "15/15 [==============================] - 0s 2ms/step - loss: 0.0828 - accuracy: 0.9824 - val_loss: 0.0842 - val_accuracy: 0.9737\n",
      "Epoch 53/500\n",
      "15/15 [==============================] - 0s 2ms/step - loss: 0.0823 - accuracy: 0.9802 - val_loss: 0.0860 - val_accuracy: 0.9737\n",
      "Epoch 54/500\n",
      "15/15 [==============================] - 0s 2ms/step - loss: 0.0809 - accuracy: 0.9780 - val_loss: 0.0848 - val_accuracy: 0.9737\n",
      "Epoch 55/500\n",
      "15/15 [==============================] - 0s 2ms/step - loss: 0.0834 - accuracy: 0.9736 - val_loss: 0.0835 - val_accuracy: 0.9737\n",
      "Epoch 56/500\n",
      "15/15 [==============================] - 0s 2ms/step - loss: 0.0804 - accuracy: 0.9780 - val_loss: 0.0840 - val_accuracy: 0.9737\n",
      "Epoch 57/500\n",
      "15/15 [==============================] - 0s 2ms/step - loss: 0.0786 - accuracy: 0.9802 - val_loss: 0.0819 - val_accuracy: 0.9737\n",
      "Epoch 58/500\n",
      "15/15 [==============================] - 0s 2ms/step - loss: 0.0771 - accuracy: 0.9802 - val_loss: 0.0839 - val_accuracy: 0.9737\n"
     ]
    },
    {
     "name": "stdout",
     "output_type": "stream",
     "text": [
      "Epoch 59/500\n",
      "15/15 [==============================] - 0s 2ms/step - loss: 0.0779 - accuracy: 0.9780 - val_loss: 0.0824 - val_accuracy: 0.9737\n",
      "Epoch 60/500\n",
      "15/15 [==============================] - 0s 2ms/step - loss: 0.0750 - accuracy: 0.9758 - val_loss: 0.0806 - val_accuracy: 0.9737\n",
      "Epoch 61/500\n",
      "15/15 [==============================] - 0s 2ms/step - loss: 0.0736 - accuracy: 0.9802 - val_loss: 0.0812 - val_accuracy: 0.9737\n",
      "Epoch 62/500\n",
      "15/15 [==============================] - 0s 2ms/step - loss: 0.0759 - accuracy: 0.9758 - val_loss: 0.0817 - val_accuracy: 0.9737\n",
      "Epoch 63/500\n",
      "15/15 [==============================] - 0s 2ms/step - loss: 0.0738 - accuracy: 0.9802 - val_loss: 0.0805 - val_accuracy: 0.9737\n",
      "Epoch 64/500\n",
      "15/15 [==============================] - 0s 2ms/step - loss: 0.0710 - accuracy: 0.9824 - val_loss: 0.0790 - val_accuracy: 0.9737\n",
      "Epoch 65/500\n",
      "15/15 [==============================] - 0s 2ms/step - loss: 0.0747 - accuracy: 0.9824 - val_loss: 0.0789 - val_accuracy: 0.9737\n",
      "Epoch 66/500\n",
      "15/15 [==============================] - 0s 2ms/step - loss: 0.0791 - accuracy: 0.9670 - val_loss: 0.0794 - val_accuracy: 0.9737\n",
      "Epoch 67/500\n",
      "15/15 [==============================] - 0s 2ms/step - loss: 0.0790 - accuracy: 0.9714 - val_loss: 0.0788 - val_accuracy: 0.9737\n",
      "Epoch 68/500\n",
      "15/15 [==============================] - 0s 2ms/step - loss: 0.0713 - accuracy: 0.9824 - val_loss: 0.0763 - val_accuracy: 0.9737\n",
      "Epoch 69/500\n",
      "15/15 [==============================] - 0s 2ms/step - loss: 0.0670 - accuracy: 0.9802 - val_loss: 0.0766 - val_accuracy: 0.9737\n",
      "Epoch 70/500\n",
      "15/15 [==============================] - 0s 2ms/step - loss: 0.0676 - accuracy: 0.9824 - val_loss: 0.0758 - val_accuracy: 0.9737\n",
      "Epoch 71/500\n",
      "15/15 [==============================] - 0s 2ms/step - loss: 0.0668 - accuracy: 0.9846 - val_loss: 0.0763 - val_accuracy: 0.9737\n",
      "Epoch 72/500\n",
      "15/15 [==============================] - 0s 2ms/step - loss: 0.0654 - accuracy: 0.9824 - val_loss: 0.0734 - val_accuracy: 0.9737\n",
      "Epoch 73/500\n",
      "15/15 [==============================] - 0s 2ms/step - loss: 0.0650 - accuracy: 0.9824 - val_loss: 0.0768 - val_accuracy: 0.9737\n",
      "Epoch 74/500\n",
      "15/15 [==============================] - 0s 2ms/step - loss: 0.0649 - accuracy: 0.9824 - val_loss: 0.0740 - val_accuracy: 0.9737\n",
      "Epoch 75/500\n",
      "15/15 [==============================] - 0s 2ms/step - loss: 0.0638 - accuracy: 0.9846 - val_loss: 0.0736 - val_accuracy: 0.9737\n",
      "Epoch 76/500\n",
      "15/15 [==============================] - 0s 2ms/step - loss: 0.0632 - accuracy: 0.9868 - val_loss: 0.0740 - val_accuracy: 0.9737\n",
      "Epoch 77/500\n",
      "15/15 [==============================] - 0s 2ms/step - loss: 0.0642 - accuracy: 0.9846 - val_loss: 0.0733 - val_accuracy: 0.9737\n",
      "Epoch 78/500\n",
      "15/15 [==============================] - 0s 2ms/step - loss: 0.0624 - accuracy: 0.9846 - val_loss: 0.0737 - val_accuracy: 0.9737\n",
      "Epoch 79/500\n",
      "15/15 [==============================] - 0s 2ms/step - loss: 0.0622 - accuracy: 0.9824 - val_loss: 0.0721 - val_accuracy: 0.9737\n",
      "Epoch 80/500\n",
      "15/15 [==============================] - 0s 2ms/step - loss: 0.0656 - accuracy: 0.9824 - val_loss: 0.0725 - val_accuracy: 0.9737\n",
      "Epoch 81/500\n",
      "15/15 [==============================] - 0s 2ms/step - loss: 0.0611 - accuracy: 0.9890 - val_loss: 0.0742 - val_accuracy: 0.9737\n",
      "Epoch 82/500\n",
      "15/15 [==============================] - 0s 2ms/step - loss: 0.0611 - accuracy: 0.9824 - val_loss: 0.0704 - val_accuracy: 0.9737\n",
      "Epoch 83/500\n",
      "15/15 [==============================] - 0s 2ms/step - loss: 0.0608 - accuracy: 0.9846 - val_loss: 0.0713 - val_accuracy: 0.9737\n",
      "Epoch 84/500\n",
      "15/15 [==============================] - 0s 2ms/step - loss: 0.0599 - accuracy: 0.9824 - val_loss: 0.0702 - val_accuracy: 0.9737\n",
      "Epoch 85/500\n",
      "15/15 [==============================] - 0s 2ms/step - loss: 0.0591 - accuracy: 0.9868 - val_loss: 0.0723 - val_accuracy: 0.9737\n",
      "Epoch 86/500\n",
      "15/15 [==============================] - 0s 2ms/step - loss: 0.0603 - accuracy: 0.9824 - val_loss: 0.0719 - val_accuracy: 0.9737\n",
      "Epoch 87/500\n",
      "15/15 [==============================] - 0s 2ms/step - loss: 0.0619 - accuracy: 0.9846 - val_loss: 0.0692 - val_accuracy: 0.9737\n",
      "Epoch 88/500\n",
      "15/15 [==============================] - 0s 2ms/step - loss: 0.0638 - accuracy: 0.9758 - val_loss: 0.0750 - val_accuracy: 0.9737\n",
      "Epoch 89/500\n",
      "15/15 [==============================] - 0s 2ms/step - loss: 0.0574 - accuracy: 0.9868 - val_loss: 0.0679 - val_accuracy: 0.9737\n",
      "Epoch 90/500\n",
      "15/15 [==============================] - 0s 2ms/step - loss: 0.0582 - accuracy: 0.9846 - val_loss: 0.0747 - val_accuracy: 0.9737\n",
      "Epoch 91/500\n",
      "15/15 [==============================] - 0s 2ms/step - loss: 0.0581 - accuracy: 0.9868 - val_loss: 0.0675 - val_accuracy: 0.9737\n",
      "Epoch 92/500\n",
      "15/15 [==============================] - 0s 2ms/step - loss: 0.0594 - accuracy: 0.9802 - val_loss: 0.0717 - val_accuracy: 0.9737\n",
      "Epoch 93/500\n",
      "15/15 [==============================] - 0s 2ms/step - loss: 0.0562 - accuracy: 0.9868 - val_loss: 0.0699 - val_accuracy: 0.9737\n",
      "Epoch 94/500\n",
      "15/15 [==============================] - 0s 2ms/step - loss: 0.0547 - accuracy: 0.9868 - val_loss: 0.0664 - val_accuracy: 0.9737\n",
      "Epoch 95/500\n",
      "15/15 [==============================] - 0s 2ms/step - loss: 0.0575 - accuracy: 0.9846 - val_loss: 0.0696 - val_accuracy: 0.9737\n",
      "Epoch 96/500\n",
      "15/15 [==============================] - 0s 2ms/step - loss: 0.0548 - accuracy: 0.9890 - val_loss: 0.0686 - val_accuracy: 0.9737\n",
      "Epoch 97/500\n",
      "15/15 [==============================] - 0s 2ms/step - loss: 0.0555 - accuracy: 0.9868 - val_loss: 0.0688 - val_accuracy: 0.9737\n",
      "Epoch 98/500\n",
      "15/15 [==============================] - 0s 2ms/step - loss: 0.0542 - accuracy: 0.9868 - val_loss: 0.0688 - val_accuracy: 0.9737\n",
      "Epoch 99/500\n",
      "15/15 [==============================] - 0s 2ms/step - loss: 0.0536 - accuracy: 0.9868 - val_loss: 0.0655 - val_accuracy: 0.9737\n",
      "Epoch 100/500\n",
      "15/15 [==============================] - 0s 2ms/step - loss: 0.0540 - accuracy: 0.9868 - val_loss: 0.0681 - val_accuracy: 0.9737\n",
      "Epoch 101/500\n",
      "15/15 [==============================] - 0s 2ms/step - loss: 0.0542 - accuracy: 0.9868 - val_loss: 0.0676 - val_accuracy: 0.9737\n",
      "Epoch 102/500\n",
      "15/15 [==============================] - 0s 2ms/step - loss: 0.0554 - accuracy: 0.9824 - val_loss: 0.0672 - val_accuracy: 0.9737\n",
      "Epoch 103/500\n",
      "15/15 [==============================] - 0s 2ms/step - loss: 0.0661 - accuracy: 0.9802 - val_loss: 0.0781 - val_accuracy: 0.9737\n",
      "Epoch 104/500\n",
      "15/15 [==============================] - 0s 2ms/step - loss: 0.0578 - accuracy: 0.9868 - val_loss: 0.0659 - val_accuracy: 0.9649\n",
      "Epoch 105/500\n",
      "15/15 [==============================] - 0s 2ms/step - loss: 0.0557 - accuracy: 0.9824 - val_loss: 0.0714 - val_accuracy: 0.9737\n",
      "Epoch 106/500\n",
      "15/15 [==============================] - 0s 2ms/step - loss: 0.0535 - accuracy: 0.9890 - val_loss: 0.0654 - val_accuracy: 0.9737\n",
      "Epoch 107/500\n",
      "15/15 [==============================] - 0s 1ms/step - loss: 0.0528 - accuracy: 0.9846 - val_loss: 0.0715 - val_accuracy: 0.9737\n",
      "Epoch 108/500\n",
      "15/15 [==============================] - 0s 2ms/step - loss: 0.0558 - accuracy: 0.9824 - val_loss: 0.0661 - val_accuracy: 0.9737\n",
      "Epoch 109/500\n",
      "15/15 [==============================] - 0s 2ms/step - loss: 0.0524 - accuracy: 0.9846 - val_loss: 0.0683 - val_accuracy: 0.9737\n",
      "Epoch 110/500\n",
      "15/15 [==============================] - 0s 2ms/step - loss: 0.0507 - accuracy: 0.9890 - val_loss: 0.0667 - val_accuracy: 0.9737\n",
      "Epoch 111/500\n",
      "15/15 [==============================] - 0s 2ms/step - loss: 0.0520 - accuracy: 0.9868 - val_loss: 0.0693 - val_accuracy: 0.9737\n",
      "Epoch 112/500\n",
      "15/15 [==============================] - 0s 2ms/step - loss: 0.0510 - accuracy: 0.9846 - val_loss: 0.0654 - val_accuracy: 0.9737\n",
      "Epoch 113/500\n",
      "15/15 [==============================] - 0s 2ms/step - loss: 0.0495 - accuracy: 0.9890 - val_loss: 0.0688 - val_accuracy: 0.9737\n",
      "Epoch 114/500\n",
      "15/15 [==============================] - 0s 2ms/step - loss: 0.0507 - accuracy: 0.9890 - val_loss: 0.0679 - val_accuracy: 0.9737\n",
      "Epoch 115/500\n",
      "15/15 [==============================] - 0s 1ms/step - loss: 0.0506 - accuracy: 0.9868 - val_loss: 0.0687 - val_accuracy: 0.9737\n",
      "Epoch 116/500\n"
     ]
    },
    {
     "name": "stdout",
     "output_type": "stream",
     "text": [
      "15/15 [==============================] - 0s 2ms/step - loss: 0.0514 - accuracy: 0.9868 - val_loss: 0.0667 - val_accuracy: 0.9737\n",
      "Epoch 117/500\n",
      "15/15 [==============================] - 0s 2ms/step - loss: 0.0562 - accuracy: 0.9758 - val_loss: 0.0650 - val_accuracy: 0.9737\n",
      "Epoch 118/500\n",
      "15/15 [==============================] - 0s 2ms/step - loss: 0.0496 - accuracy: 0.9868 - val_loss: 0.0652 - val_accuracy: 0.9737\n",
      "Epoch 119/500\n",
      "15/15 [==============================] - 0s 2ms/step - loss: 0.0490 - accuracy: 0.9868 - val_loss: 0.0663 - val_accuracy: 0.9737\n",
      "Epoch 120/500\n",
      "15/15 [==============================] - 0s 2ms/step - loss: 0.0490 - accuracy: 0.9890 - val_loss: 0.0658 - val_accuracy: 0.9737\n",
      "Epoch 121/500\n",
      "15/15 [==============================] - 0s 2ms/step - loss: 0.0487 - accuracy: 0.9868 - val_loss: 0.0652 - val_accuracy: 0.9737\n",
      "Epoch 122/500\n",
      "15/15 [==============================] - 0s 2ms/step - loss: 0.0480 - accuracy: 0.9890 - val_loss: 0.0671 - val_accuracy: 0.9737\n",
      "Epoch 123/500\n",
      "15/15 [==============================] - 0s 2ms/step - loss: 0.0473 - accuracy: 0.9890 - val_loss: 0.0644 - val_accuracy: 0.9737\n",
      "Epoch 124/500\n",
      "15/15 [==============================] - 0s 2ms/step - loss: 0.0486 - accuracy: 0.9868 - val_loss: 0.0663 - val_accuracy: 0.9737\n",
      "Epoch 125/500\n",
      "15/15 [==============================] - 0s 2ms/step - loss: 0.0485 - accuracy: 0.9890 - val_loss: 0.0687 - val_accuracy: 0.9737\n",
      "Epoch 126/500\n",
      "15/15 [==============================] - 0s 2ms/step - loss: 0.0481 - accuracy: 0.9868 - val_loss: 0.0701 - val_accuracy: 0.9737\n",
      "Epoch 127/500\n",
      "15/15 [==============================] - 0s 2ms/step - loss: 0.0490 - accuracy: 0.9868 - val_loss: 0.0668 - val_accuracy: 0.9737\n",
      "Epoch 128/500\n",
      "15/15 [==============================] - 0s 2ms/step - loss: 0.0468 - accuracy: 0.9912 - val_loss: 0.0641 - val_accuracy: 0.9737\n",
      "Epoch 129/500\n",
      "15/15 [==============================] - 0s 2ms/step - loss: 0.0466 - accuracy: 0.9890 - val_loss: 0.0662 - val_accuracy: 0.9737\n",
      "Epoch 130/500\n",
      "15/15 [==============================] - 0s 2ms/step - loss: 0.0464 - accuracy: 0.9890 - val_loss: 0.0665 - val_accuracy: 0.9737\n",
      "Epoch 131/500\n",
      "15/15 [==============================] - 0s 2ms/step - loss: 0.0467 - accuracy: 0.9890 - val_loss: 0.0652 - val_accuracy: 0.9737\n",
      "Epoch 132/500\n",
      "15/15 [==============================] - 0s 2ms/step - loss: 0.0465 - accuracy: 0.9890 - val_loss: 0.0658 - val_accuracy: 0.9737\n",
      "Epoch 133/500\n",
      "15/15 [==============================] - 0s 2ms/step - loss: 0.0474 - accuracy: 0.9890 - val_loss: 0.0659 - val_accuracy: 0.9737\n",
      "Epoch 134/500\n",
      "15/15 [==============================] - 0s 2ms/step - loss: 0.0454 - accuracy: 0.9890 - val_loss: 0.0682 - val_accuracy: 0.9737\n",
      "Epoch 135/500\n",
      "15/15 [==============================] - 0s 2ms/step - loss: 0.0476 - accuracy: 0.9868 - val_loss: 0.0621 - val_accuracy: 0.9737\n",
      "Epoch 136/500\n",
      "15/15 [==============================] - 0s 2ms/step - loss: 0.0467 - accuracy: 0.9890 - val_loss: 0.0642 - val_accuracy: 0.9737\n",
      "Epoch 137/500\n",
      "15/15 [==============================] - 0s 2ms/step - loss: 0.0479 - accuracy: 0.9890 - val_loss: 0.0644 - val_accuracy: 0.9737\n",
      "Epoch 138/500\n",
      "15/15 [==============================] - 0s 2ms/step - loss: 0.0447 - accuracy: 0.9890 - val_loss: 0.0671 - val_accuracy: 0.9737\n",
      "Epoch 139/500\n",
      "15/15 [==============================] - 0s 2ms/step - loss: 0.0452 - accuracy: 0.9912 - val_loss: 0.0673 - val_accuracy: 0.9737\n",
      "Epoch 140/500\n",
      "15/15 [==============================] - 0s 2ms/step - loss: 0.0474 - accuracy: 0.9868 - val_loss: 0.0665 - val_accuracy: 0.9737\n",
      "Epoch 141/500\n",
      "15/15 [==============================] - 0s 2ms/step - loss: 0.0455 - accuracy: 0.9868 - val_loss: 0.0657 - val_accuracy: 0.9737\n",
      "Epoch 142/500\n",
      "15/15 [==============================] - 0s 2ms/step - loss: 0.0467 - accuracy: 0.9868 - val_loss: 0.0673 - val_accuracy: 0.9737\n",
      "Epoch 143/500\n",
      "15/15 [==============================] - 0s 2ms/step - loss: 0.0435 - accuracy: 0.9912 - val_loss: 0.0626 - val_accuracy: 0.9649\n",
      "Epoch 144/500\n",
      "15/15 [==============================] - 0s 2ms/step - loss: 0.0459 - accuracy: 0.9890 - val_loss: 0.0696 - val_accuracy: 0.9737\n",
      "Epoch 145/500\n",
      "15/15 [==============================] - 0s 2ms/step - loss: 0.0457 - accuracy: 0.9868 - val_loss: 0.0678 - val_accuracy: 0.9737\n",
      "Epoch 146/500\n",
      "15/15 [==============================] - 0s 2ms/step - loss: 0.0443 - accuracy: 0.9868 - val_loss: 0.0666 - val_accuracy: 0.9737\n",
      "Epoch 147/500\n",
      "15/15 [==============================] - 0s 2ms/step - loss: 0.0434 - accuracy: 0.9912 - val_loss: 0.0645 - val_accuracy: 0.9737\n",
      "Epoch 148/500\n",
      "15/15 [==============================] - 0s 2ms/step - loss: 0.0446 - accuracy: 0.9912 - val_loss: 0.0648 - val_accuracy: 0.9737\n",
      "Epoch 149/500\n",
      "15/15 [==============================] - 0s 2ms/step - loss: 0.0433 - accuracy: 0.9868 - val_loss: 0.0633 - val_accuracy: 0.9649\n",
      "Epoch 150/500\n",
      "15/15 [==============================] - 0s 2ms/step - loss: 0.0430 - accuracy: 0.9912 - val_loss: 0.0663 - val_accuracy: 0.9737\n",
      "Epoch 151/500\n",
      "15/15 [==============================] - 0s 2ms/step - loss: 0.0465 - accuracy: 0.9890 - val_loss: 0.0637 - val_accuracy: 0.9649\n",
      "Epoch 152/500\n",
      "15/15 [==============================] - 0s 2ms/step - loss: 0.0431 - accuracy: 0.9912 - val_loss: 0.0661 - val_accuracy: 0.9737\n",
      "Epoch 153/500\n",
      "15/15 [==============================] - 0s 2ms/step - loss: 0.0424 - accuracy: 0.9912 - val_loss: 0.0651 - val_accuracy: 0.9737\n",
      "Epoch 154/500\n",
      "15/15 [==============================] - 0s 2ms/step - loss: 0.0437 - accuracy: 0.9868 - val_loss: 0.0653 - val_accuracy: 0.9737\n",
      "Epoch 155/500\n",
      "15/15 [==============================] - 0s 2ms/step - loss: 0.0473 - accuracy: 0.9846 - val_loss: 0.0664 - val_accuracy: 0.9737\n",
      "Epoch 156/500\n",
      "15/15 [==============================] - 0s 2ms/step - loss: 0.0429 - accuracy: 0.9868 - val_loss: 0.0644 - val_accuracy: 0.9649\n",
      "Epoch 157/500\n",
      "15/15 [==============================] - 0s 2ms/step - loss: 0.0426 - accuracy: 0.9890 - val_loss: 0.0664 - val_accuracy: 0.9737\n",
      "Epoch 158/500\n",
      "15/15 [==============================] - 0s 2ms/step - loss: 0.0462 - accuracy: 0.9846 - val_loss: 0.0624 - val_accuracy: 0.9649\n",
      "Epoch 159/500\n",
      "15/15 [==============================] - 0s 2ms/step - loss: 0.0420 - accuracy: 0.9868 - val_loss: 0.0688 - val_accuracy: 0.9737\n",
      "Epoch 160/500\n",
      "15/15 [==============================] - 0s 2ms/step - loss: 0.0445 - accuracy: 0.9868 - val_loss: 0.0650 - val_accuracy: 0.9737\n",
      "Epoch 161/500\n",
      "15/15 [==============================] - 0s 2ms/step - loss: 0.0421 - accuracy: 0.9934 - val_loss: 0.0642 - val_accuracy: 0.9737\n",
      "Epoch 162/500\n",
      "15/15 [==============================] - 0s 2ms/step - loss: 0.0411 - accuracy: 0.9912 - val_loss: 0.0660 - val_accuracy: 0.9737\n",
      "Epoch 163/500\n",
      "15/15 [==============================] - 0s 2ms/step - loss: 0.0407 - accuracy: 0.9868 - val_loss: 0.0633 - val_accuracy: 0.9649\n",
      "Epoch 164/500\n",
      "15/15 [==============================] - 0s 2ms/step - loss: 0.0407 - accuracy: 0.9890 - val_loss: 0.0667 - val_accuracy: 0.9737\n",
      "Epoch 165/500\n",
      "15/15 [==============================] - 0s 2ms/step - loss: 0.0465 - accuracy: 0.9846 - val_loss: 0.0644 - val_accuracy: 0.9649\n",
      "Epoch 166/500\n",
      "15/15 [==============================] - 0s 2ms/step - loss: 0.0434 - accuracy: 0.9868 - val_loss: 0.0638 - val_accuracy: 0.9649\n",
      "Epoch 167/500\n",
      "15/15 [==============================] - 0s 2ms/step - loss: 0.0415 - accuracy: 0.9890 - val_loss: 0.0679 - val_accuracy: 0.9737\n",
      "Epoch 168/500\n",
      "15/15 [==============================] - 0s 2ms/step - loss: 0.0424 - accuracy: 0.9890 - val_loss: 0.0665 - val_accuracy: 0.9737\n",
      "Epoch 169/500\n",
      "15/15 [==============================] - 0s 2ms/step - loss: 0.0451 - accuracy: 0.9868 - val_loss: 0.0653 - val_accuracy: 0.9737\n",
      "Epoch 170/500\n",
      "15/15 [==============================] - 0s 2ms/step - loss: 0.0422 - accuracy: 0.9890 - val_loss: 0.0651 - val_accuracy: 0.9649\n",
      "Epoch 171/500\n",
      "15/15 [==============================] - 0s 2ms/step - loss: 0.0442 - accuracy: 0.9868 - val_loss: 0.0643 - val_accuracy: 0.9649\n",
      "Epoch 172/500\n",
      "15/15 [==============================] - 0s 2ms/step - loss: 0.0403 - accuracy: 0.9890 - val_loss: 0.0648 - val_accuracy: 0.9649\n",
      "Epoch 173/500\n"
     ]
    },
    {
     "name": "stdout",
     "output_type": "stream",
     "text": [
      "15/15 [==============================] - 0s 2ms/step - loss: 0.0417 - accuracy: 0.9890 - val_loss: 0.0656 - val_accuracy: 0.9737\n",
      "Epoch 174/500\n",
      "15/15 [==============================] - 0s 2ms/step - loss: 0.0404 - accuracy: 0.9890 - val_loss: 0.0636 - val_accuracy: 0.9649\n",
      "Epoch 175/500\n",
      "15/15 [==============================] - 0s 2ms/step - loss: 0.0395 - accuracy: 0.9912 - val_loss: 0.0643 - val_accuracy: 0.9737\n",
      "Epoch 176/500\n",
      "15/15 [==============================] - 0s 2ms/step - loss: 0.0404 - accuracy: 0.9912 - val_loss: 0.0690 - val_accuracy: 0.9737\n",
      "Epoch 177/500\n",
      "15/15 [==============================] - 0s 2ms/step - loss: 0.0405 - accuracy: 0.9890 - val_loss: 0.0637 - val_accuracy: 0.9737\n",
      "Epoch 178/500\n",
      "15/15 [==============================] - 0s 2ms/step - loss: 0.0401 - accuracy: 0.9890 - val_loss: 0.0646 - val_accuracy: 0.9737\n",
      "Epoch 179/500\n",
      "15/15 [==============================] - 0s 2ms/step - loss: 0.0402 - accuracy: 0.9890 - val_loss: 0.0644 - val_accuracy: 0.9649\n",
      "Epoch 180/500\n",
      "15/15 [==============================] - 0s 2ms/step - loss: 0.0427 - accuracy: 0.9868 - val_loss: 0.0630 - val_accuracy: 0.9649\n",
      "Epoch 181/500\n",
      "15/15 [==============================] - 0s 2ms/step - loss: 0.0403 - accuracy: 0.9890 - val_loss: 0.0633 - val_accuracy: 0.9737\n",
      "Epoch 182/500\n",
      "15/15 [==============================] - 0s 2ms/step - loss: 0.0396 - accuracy: 0.9868 - val_loss: 0.0629 - val_accuracy: 0.9737\n",
      "Epoch 183/500\n",
      "15/15 [==============================] - 0s 2ms/step - loss: 0.0413 - accuracy: 0.9846 - val_loss: 0.0683 - val_accuracy: 0.9737\n",
      "Epoch 184/500\n",
      "15/15 [==============================] - 0s 2ms/step - loss: 0.0467 - accuracy: 0.9846 - val_loss: 0.0623 - val_accuracy: 0.9737\n",
      "Epoch 185/500\n",
      "15/15 [==============================] - 0s 2ms/step - loss: 0.0383 - accuracy: 0.9934 - val_loss: 0.0724 - val_accuracy: 0.9737\n",
      "Epoch 186/500\n",
      "15/15 [==============================] - 0s 2ms/step - loss: 0.0418 - accuracy: 0.9868 - val_loss: 0.0624 - val_accuracy: 0.9737\n",
      "Epoch 187/500\n",
      "15/15 [==============================] - 0s 2ms/step - loss: 0.0394 - accuracy: 0.9868 - val_loss: 0.0650 - val_accuracy: 0.9737\n",
      "Epoch 188/500\n",
      "15/15 [==============================] - 0s 2ms/step - loss: 0.0381 - accuracy: 0.9912 - val_loss: 0.0672 - val_accuracy: 0.9737\n",
      "Epoch 189/500\n",
      "15/15 [==============================] - 0s 2ms/step - loss: 0.0381 - accuracy: 0.9912 - val_loss: 0.0637 - val_accuracy: 0.9649\n",
      "Epoch 190/500\n",
      "15/15 [==============================] - 0s 2ms/step - loss: 0.0378 - accuracy: 0.9890 - val_loss: 0.0652 - val_accuracy: 0.9737\n",
      "Epoch 191/500\n",
      "15/15 [==============================] - 0s 2ms/step - loss: 0.0416 - accuracy: 0.9868 - val_loss: 0.0663 - val_accuracy: 0.9737\n",
      "Epoch 192/500\n",
      "15/15 [==============================] - 0s 2ms/step - loss: 0.0401 - accuracy: 0.9868 - val_loss: 0.0656 - val_accuracy: 0.9737\n",
      "Epoch 193/500\n",
      "15/15 [==============================] - 0s 2ms/step - loss: 0.0462 - accuracy: 0.9868 - val_loss: 0.0704 - val_accuracy: 0.9737\n",
      "Epoch 194/500\n",
      "15/15 [==============================] - 0s 2ms/step - loss: 0.0373 - accuracy: 0.9912 - val_loss: 0.0647 - val_accuracy: 0.9649\n",
      "Epoch 195/500\n",
      "15/15 [==============================] - 0s 2ms/step - loss: 0.0385 - accuracy: 0.9890 - val_loss: 0.0648 - val_accuracy: 0.9649\n",
      "Epoch 196/500\n",
      "15/15 [==============================] - 0s 2ms/step - loss: 0.0383 - accuracy: 0.9868 - val_loss: 0.0651 - val_accuracy: 0.9737\n",
      "Epoch 197/500\n",
      "15/15 [==============================] - 0s 2ms/step - loss: 0.0368 - accuracy: 0.9912 - val_loss: 0.0671 - val_accuracy: 0.9737\n",
      "Epoch 198/500\n",
      "15/15 [==============================] - 0s 2ms/step - loss: 0.0392 - accuracy: 0.9890 - val_loss: 0.0652 - val_accuracy: 0.9737\n",
      "Epoch 199/500\n",
      "15/15 [==============================] - 0s 2ms/step - loss: 0.0368 - accuracy: 0.9912 - val_loss: 0.0697 - val_accuracy: 0.9737\n",
      "Epoch 200/500\n",
      "15/15 [==============================] - 0s 2ms/step - loss: 0.0381 - accuracy: 0.9890 - val_loss: 0.0634 - val_accuracy: 0.9737\n",
      "Epoch 201/500\n",
      "15/15 [==============================] - 0s 2ms/step - loss: 0.0386 - accuracy: 0.9890 - val_loss: 0.0661 - val_accuracy: 0.9737\n",
      "Epoch 202/500\n",
      "15/15 [==============================] - 0s 2ms/step - loss: 0.0364 - accuracy: 0.9912 - val_loss: 0.0715 - val_accuracy: 0.9737\n",
      "Epoch 203/500\n",
      "15/15 [==============================] - 0s 2ms/step - loss: 0.0399 - accuracy: 0.9912 - val_loss: 0.0668 - val_accuracy: 0.9649\n",
      "Epoch 204/500\n",
      "15/15 [==============================] - 0s 2ms/step - loss: 0.0382 - accuracy: 0.9890 - val_loss: 0.0664 - val_accuracy: 0.9737\n",
      "Epoch 205/500\n",
      "15/15 [==============================] - 0s 2ms/step - loss: 0.0372 - accuracy: 0.9912 - val_loss: 0.0646 - val_accuracy: 0.9737\n",
      "Epoch 206/500\n",
      "15/15 [==============================] - 0s 2ms/step - loss: 0.0356 - accuracy: 0.9912 - val_loss: 0.0680 - val_accuracy: 0.9737\n",
      "Epoch 207/500\n",
      "15/15 [==============================] - 0s 2ms/step - loss: 0.0356 - accuracy: 0.9912 - val_loss: 0.0663 - val_accuracy: 0.9737\n",
      "Epoch 208/500\n",
      "15/15 [==============================] - 0s 2ms/step - loss: 0.0357 - accuracy: 0.9912 - val_loss: 0.0645 - val_accuracy: 0.9737\n",
      "Epoch 209/500\n",
      "15/15 [==============================] - 0s 2ms/step - loss: 0.0358 - accuracy: 0.9912 - val_loss: 0.0663 - val_accuracy: 0.9737\n",
      "Epoch 210/500\n",
      "15/15 [==============================] - 0s 2ms/step - loss: 0.0387 - accuracy: 0.9890 - val_loss: 0.0652 - val_accuracy: 0.9825\n",
      "Epoch 211/500\n",
      "15/15 [==============================] - 0s 2ms/step - loss: 0.0363 - accuracy: 0.9912 - val_loss: 0.0667 - val_accuracy: 0.9649\n",
      "Epoch 212/500\n",
      "15/15 [==============================] - 0s 2ms/step - loss: 0.0363 - accuracy: 0.9912 - val_loss: 0.0660 - val_accuracy: 0.9737\n",
      "Epoch 213/500\n",
      "15/15 [==============================] - 0s 2ms/step - loss: 0.0347 - accuracy: 0.9912 - val_loss: 0.0676 - val_accuracy: 0.9649\n",
      "Epoch 214/500\n",
      "15/15 [==============================] - 0s 2ms/step - loss: 0.0347 - accuracy: 0.9912 - val_loss: 0.0670 - val_accuracy: 0.9737\n",
      "Epoch 215/500\n",
      "15/15 [==============================] - 0s 2ms/step - loss: 0.0352 - accuracy: 0.9912 - val_loss: 0.0687 - val_accuracy: 0.9737\n",
      "Epoch 216/500\n",
      "15/15 [==============================] - 0s 2ms/step - loss: 0.0343 - accuracy: 0.9912 - val_loss: 0.0647 - val_accuracy: 0.9737\n",
      "Epoch 217/500\n",
      "15/15 [==============================] - 0s 2ms/step - loss: 0.0355 - accuracy: 0.9912 - val_loss: 0.0685 - val_accuracy: 0.9737\n",
      "Epoch 218/500\n",
      "15/15 [==============================] - 0s 2ms/step - loss: 0.0343 - accuracy: 0.9912 - val_loss: 0.0642 - val_accuracy: 0.9737\n",
      "Epoch 219/500\n",
      "15/15 [==============================] - 0s 2ms/step - loss: 0.0346 - accuracy: 0.9912 - val_loss: 0.0685 - val_accuracy: 0.9737\n",
      "Epoch 220/500\n",
      "15/15 [==============================] - 0s 2ms/step - loss: 0.0355 - accuracy: 0.9912 - val_loss: 0.0696 - val_accuracy: 0.9737\n",
      "Epoch 221/500\n",
      "15/15 [==============================] - 0s 2ms/step - loss: 0.0347 - accuracy: 0.9912 - val_loss: 0.0658 - val_accuracy: 0.9737\n",
      "Epoch 222/500\n",
      "15/15 [==============================] - 0s 2ms/step - loss: 0.0339 - accuracy: 0.9912 - val_loss: 0.0670 - val_accuracy: 0.9737\n",
      "Epoch 223/500\n",
      "15/15 [==============================] - 0s 2ms/step - loss: 0.0348 - accuracy: 0.9912 - val_loss: 0.0655 - val_accuracy: 0.9737\n",
      "Epoch 224/500\n",
      "15/15 [==============================] - 0s 2ms/step - loss: 0.0335 - accuracy: 0.9912 - val_loss: 0.0651 - val_accuracy: 0.9737\n",
      "Epoch 225/500\n",
      "15/15 [==============================] - 0s 2ms/step - loss: 0.0350 - accuracy: 0.9890 - val_loss: 0.0634 - val_accuracy: 0.9737\n",
      "Epoch 226/500\n",
      "15/15 [==============================] - 0s 2ms/step - loss: 0.0339 - accuracy: 0.9912 - val_loss: 0.0712 - val_accuracy: 0.9737\n",
      "Epoch 227/500\n",
      "15/15 [==============================] - 0s 2ms/step - loss: 0.0361 - accuracy: 0.9934 - val_loss: 0.0669 - val_accuracy: 0.9737\n",
      "Epoch 228/500\n",
      "15/15 [==============================] - 0s 2ms/step - loss: 0.0341 - accuracy: 0.9912 - val_loss: 0.0671 - val_accuracy: 0.9737\n",
      "Epoch 229/500\n",
      "15/15 [==============================] - 0s 2ms/step - loss: 0.0331 - accuracy: 0.9912 - val_loss: 0.0678 - val_accuracy: 0.9825\n",
      "Epoch 230/500\n"
     ]
    },
    {
     "name": "stdout",
     "output_type": "stream",
     "text": [
      "15/15 [==============================] - 0s 2ms/step - loss: 0.0327 - accuracy: 0.9912 - val_loss: 0.0650 - val_accuracy: 0.9737\n",
      "Epoch 231/500\n",
      "15/15 [==============================] - 0s 2ms/step - loss: 0.0360 - accuracy: 0.9868 - val_loss: 0.0738 - val_accuracy: 0.9649\n",
      "Epoch 232/500\n",
      "15/15 [==============================] - 0s 2ms/step - loss: 0.0345 - accuracy: 0.9934 - val_loss: 0.0667 - val_accuracy: 0.9737\n",
      "Epoch 233/500\n",
      "15/15 [==============================] - 0s 2ms/step - loss: 0.0343 - accuracy: 0.9912 - val_loss: 0.0650 - val_accuracy: 0.9737\n",
      "Epoch 234/500\n",
      "15/15 [==============================] - 0s 2ms/step - loss: 0.0334 - accuracy: 0.9912 - val_loss: 0.0677 - val_accuracy: 0.9737\n",
      "Epoch 235/500\n",
      "15/15 [==============================] - 0s 2ms/step - loss: 0.0329 - accuracy: 0.9912 - val_loss: 0.0692 - val_accuracy: 0.9825\n",
      "Epoch 236/500\n",
      "15/15 [==============================] - 0s 2ms/step - loss: 0.0335 - accuracy: 0.9890 - val_loss: 0.0646 - val_accuracy: 0.9737\n",
      "Epoch 237/500\n",
      "15/15 [==============================] - 0s 2ms/step - loss: 0.0327 - accuracy: 0.9912 - val_loss: 0.0672 - val_accuracy: 0.9737\n",
      "Epoch 238/500\n",
      "15/15 [==============================] - 0s 2ms/step - loss: 0.0334 - accuracy: 0.9912 - val_loss: 0.0662 - val_accuracy: 0.9737\n",
      "Epoch 239/500\n",
      "15/15 [==============================] - 0s 2ms/step - loss: 0.0326 - accuracy: 0.9912 - val_loss: 0.0703 - val_accuracy: 0.9825\n",
      "Epoch 240/500\n",
      "15/15 [==============================] - 0s 2ms/step - loss: 0.0320 - accuracy: 0.9934 - val_loss: 0.0667 - val_accuracy: 0.9737\n",
      "Epoch 241/500\n",
      "15/15 [==============================] - 0s 2ms/step - loss: 0.0320 - accuracy: 0.9912 - val_loss: 0.0667 - val_accuracy: 0.9737\n",
      "Epoch 242/500\n",
      "15/15 [==============================] - 0s 2ms/step - loss: 0.0318 - accuracy: 0.9934 - val_loss: 0.0681 - val_accuracy: 0.9737\n",
      "Epoch 243/500\n",
      "15/15 [==============================] - 0s 2ms/step - loss: 0.0316 - accuracy: 0.9912 - val_loss: 0.0660 - val_accuracy: 0.9737\n",
      "Epoch 244/500\n",
      "15/15 [==============================] - 0s 2ms/step - loss: 0.0314 - accuracy: 0.9912 - val_loss: 0.0720 - val_accuracy: 0.9825\n",
      "Epoch 245/500\n",
      "15/15 [==============================] - 0s 2ms/step - loss: 0.0326 - accuracy: 0.9934 - val_loss: 0.0670 - val_accuracy: 0.9737\n",
      "Epoch 246/500\n",
      "15/15 [==============================] - 0s 2ms/step - loss: 0.0331 - accuracy: 0.9912 - val_loss: 0.0739 - val_accuracy: 0.9649\n",
      "Epoch 247/500\n",
      "15/15 [==============================] - 0s 2ms/step - loss: 0.0318 - accuracy: 0.9912 - val_loss: 0.0667 - val_accuracy: 0.9737\n",
      "Epoch 248/500\n",
      "15/15 [==============================] - 0s 2ms/step - loss: 0.0326 - accuracy: 0.9912 - val_loss: 0.0683 - val_accuracy: 0.9737\n",
      "Epoch 249/500\n",
      "15/15 [==============================] - 0s 2ms/step - loss: 0.0323 - accuracy: 0.9912 - val_loss: 0.0692 - val_accuracy: 0.9737\n",
      "Epoch 250/500\n",
      "15/15 [==============================] - 0s 2ms/step - loss: 0.0307 - accuracy: 0.9912 - val_loss: 0.0677 - val_accuracy: 0.9737\n",
      "Epoch 251/500\n",
      "15/15 [==============================] - 0s 2ms/step - loss: 0.0309 - accuracy: 0.9912 - val_loss: 0.0680 - val_accuracy: 0.9737\n",
      "Epoch 252/500\n",
      "15/15 [==============================] - 0s 2ms/step - loss: 0.0324 - accuracy: 0.9934 - val_loss: 0.0674 - val_accuracy: 0.9737\n",
      "Epoch 253/500\n",
      "15/15 [==============================] - 0s 2ms/step - loss: 0.0307 - accuracy: 0.9912 - val_loss: 0.0706 - val_accuracy: 0.9825\n",
      "Epoch 254/500\n",
      "15/15 [==============================] - 0s 2ms/step - loss: 0.0304 - accuracy: 0.9912 - val_loss: 0.0684 - val_accuracy: 0.9737\n",
      "Epoch 255/500\n",
      "15/15 [==============================] - 0s 2ms/step - loss: 0.0311 - accuracy: 0.9912 - val_loss: 0.0682 - val_accuracy: 0.9737\n",
      "Epoch 256/500\n",
      "15/15 [==============================] - 0s 2ms/step - loss: 0.0327 - accuracy: 0.9890 - val_loss: 0.0755 - val_accuracy: 0.9737\n",
      "Epoch 257/500\n",
      "15/15 [==============================] - 0s 2ms/step - loss: 0.0300 - accuracy: 0.9934 - val_loss: 0.0691 - val_accuracy: 0.9737\n",
      "Epoch 258/500\n",
      "15/15 [==============================] - 0s 2ms/step - loss: 0.0308 - accuracy: 0.9912 - val_loss: 0.0700 - val_accuracy: 0.9737\n",
      "Epoch 259/500\n",
      "15/15 [==============================] - 0s 2ms/step - loss: 0.0318 - accuracy: 0.9912 - val_loss: 0.0687 - val_accuracy: 0.9737\n",
      "Epoch 260/500\n",
      "15/15 [==============================] - 0s 2ms/step - loss: 0.0309 - accuracy: 0.9912 - val_loss: 0.0690 - val_accuracy: 0.9737\n",
      "Epoch 261/500\n",
      "15/15 [==============================] - 0s 2ms/step - loss: 0.0314 - accuracy: 0.9912 - val_loss: 0.0743 - val_accuracy: 0.9649\n",
      "Epoch 262/500\n",
      "15/15 [==============================] - 0s 2ms/step - loss: 0.0308 - accuracy: 0.9934 - val_loss: 0.0687 - val_accuracy: 0.9737\n",
      "Epoch 263/500\n",
      "15/15 [==============================] - 0s 2ms/step - loss: 0.0293 - accuracy: 0.9934 - val_loss: 0.0722 - val_accuracy: 0.9737\n",
      "Epoch 264/500\n",
      "15/15 [==============================] - 0s 2ms/step - loss: 0.0302 - accuracy: 0.9912 - val_loss: 0.0700 - val_accuracy: 0.9737\n",
      "Epoch 265/500\n",
      "15/15 [==============================] - 0s 2ms/step - loss: 0.0312 - accuracy: 0.9934 - val_loss: 0.0689 - val_accuracy: 0.9737\n",
      "Epoch 266/500\n",
      "15/15 [==============================] - 0s 2ms/step - loss: 0.0299 - accuracy: 0.9912 - val_loss: 0.0705 - val_accuracy: 0.9737\n",
      "Epoch 267/500\n",
      "15/15 [==============================] - 0s 2ms/step - loss: 0.0307 - accuracy: 0.9934 - val_loss: 0.0714 - val_accuracy: 0.9737\n",
      "Epoch 268/500\n",
      "15/15 [==============================] - 0s 582us/step - loss: 0.0288 - accuracy: 0.9934 - val_loss: 0.0710 - val_accuracy: 0.9737\n",
      "Epoch 269/500\n",
      "15/15 [==============================] - 0s 2ms/step - loss: 0.0298 - accuracy: 0.9912 - val_loss: 0.0729 - val_accuracy: 0.9649\n",
      "Epoch 270/500\n",
      "15/15 [==============================] - 0s 2ms/step - loss: 0.0291 - accuracy: 0.9934 - val_loss: 0.0717 - val_accuracy: 0.9737\n",
      "Epoch 271/500\n",
      "15/15 [==============================] - 0s 2ms/step - loss: 0.0290 - accuracy: 0.9912 - val_loss: 0.0694 - val_accuracy: 0.9737\n",
      "Epoch 272/500\n",
      "15/15 [==============================] - 0s 2ms/step - loss: 0.0290 - accuracy: 0.9934 - val_loss: 0.0738 - val_accuracy: 0.9737\n",
      "Epoch 273/500\n",
      "15/15 [==============================] - 0s 2ms/step - loss: 0.0318 - accuracy: 0.9890 - val_loss: 0.0714 - val_accuracy: 0.9737\n",
      "Epoch 274/500\n",
      "15/15 [==============================] - 0s 2ms/step - loss: 0.0302 - accuracy: 0.9934 - val_loss: 0.0723 - val_accuracy: 0.9737\n",
      "Epoch 275/500\n",
      "15/15 [==============================] - 0s 2ms/step - loss: 0.0286 - accuracy: 0.9912 - val_loss: 0.0694 - val_accuracy: 0.9737\n",
      "Epoch 276/500\n",
      "15/15 [==============================] - 0s 2ms/step - loss: 0.0310 - accuracy: 0.9912 - val_loss: 0.0770 - val_accuracy: 0.9737\n",
      "Epoch 277/500\n",
      "15/15 [==============================] - 0s 2ms/step - loss: 0.0291 - accuracy: 0.9934 - val_loss: 0.0697 - val_accuracy: 0.9737\n",
      "Epoch 278/500\n",
      "15/15 [==============================] - 0s 2ms/step - loss: 0.0310 - accuracy: 0.9912 - val_loss: 0.0722 - val_accuracy: 0.9737\n",
      "Epoch 279/500\n",
      "15/15 [==============================] - 0s 2ms/step - loss: 0.0278 - accuracy: 0.9934 - val_loss: 0.0708 - val_accuracy: 0.9737\n",
      "Epoch 280/500\n",
      "15/15 [==============================] - 0s 2ms/step - loss: 0.0286 - accuracy: 0.9912 - val_loss: 0.0722 - val_accuracy: 0.9737\n",
      "Epoch 281/500\n",
      "15/15 [==============================] - 0s 2ms/step - loss: 0.0279 - accuracy: 0.9934 - val_loss: 0.0709 - val_accuracy: 0.9737\n",
      "Epoch 282/500\n",
      "15/15 [==============================] - 0s 2ms/step - loss: 0.0276 - accuracy: 0.9934 - val_loss: 0.0696 - val_accuracy: 0.9737\n",
      "Epoch 283/500\n",
      "15/15 [==============================] - 0s 2ms/step - loss: 0.0276 - accuracy: 0.9934 - val_loss: 0.0719 - val_accuracy: 0.9737\n",
      "Epoch 284/500\n",
      "15/15 [==============================] - 0s 2ms/step - loss: 0.0292 - accuracy: 0.9934 - val_loss: 0.0721 - val_accuracy: 0.9737\n",
      "Epoch 285/500\n",
      "15/15 [==============================] - 0s 2ms/step - loss: 0.0287 - accuracy: 0.9934 - val_loss: 0.0723 - val_accuracy: 0.9737\n",
      "Epoch 286/500\n",
      "15/15 [==============================] - 0s 2ms/step - loss: 0.0285 - accuracy: 0.9934 - val_loss: 0.0784 - val_accuracy: 0.9737\n",
      "Epoch 287/500\n"
     ]
    },
    {
     "name": "stdout",
     "output_type": "stream",
     "text": [
      "15/15 [==============================] - 0s 2ms/step - loss: 0.0276 - accuracy: 0.9934 - val_loss: 0.0713 - val_accuracy: 0.9737\n",
      "Epoch 288/500\n",
      "15/15 [==============================] - 0s 2ms/step - loss: 0.0298 - accuracy: 0.9912 - val_loss: 0.0753 - val_accuracy: 0.9737\n",
      "Epoch 289/500\n",
      "15/15 [==============================] - 0s 2ms/step - loss: 0.0464 - accuracy: 0.9846 - val_loss: 0.0696 - val_accuracy: 0.9737\n",
      "Epoch 290/500\n",
      "15/15 [==============================] - 0s 2ms/step - loss: 0.0299 - accuracy: 0.9912 - val_loss: 0.0757 - val_accuracy: 0.9649\n",
      "Epoch 291/500\n",
      "15/15 [==============================] - 0s 2ms/step - loss: 0.0274 - accuracy: 0.9934 - val_loss: 0.0701 - val_accuracy: 0.9737\n",
      "Epoch 292/500\n",
      "15/15 [==============================] - 0s 2ms/step - loss: 0.0276 - accuracy: 0.9934 - val_loss: 0.0717 - val_accuracy: 0.9737\n",
      "Epoch 293/500\n",
      "15/15 [==============================] - 0s 2ms/step - loss: 0.0270 - accuracy: 0.9934 - val_loss: 0.0786 - val_accuracy: 0.9737\n",
      "Epoch 294/500\n",
      "15/15 [==============================] - 0s 2ms/step - loss: 0.0266 - accuracy: 0.9934 - val_loss: 0.0703 - val_accuracy: 0.9737\n",
      "Epoch 295/500\n",
      "15/15 [==============================] - 0s 2ms/step - loss: 0.0288 - accuracy: 0.9934 - val_loss: 0.0749 - val_accuracy: 0.9649\n",
      "Epoch 296/500\n",
      "15/15 [==============================] - 0s 2ms/step - loss: 0.0294 - accuracy: 0.9912 - val_loss: 0.0705 - val_accuracy: 0.9737\n",
      "Epoch 297/500\n",
      "15/15 [==============================] - 0s 2ms/step - loss: 0.0265 - accuracy: 0.9934 - val_loss: 0.0736 - val_accuracy: 0.9737\n",
      "Epoch 298/500\n",
      "15/15 [==============================] - 0s 2ms/step - loss: 0.0260 - accuracy: 0.9934 - val_loss: 0.0715 - val_accuracy: 0.9737\n",
      "Epoch 299/500\n",
      "15/15 [==============================] - 0s 2ms/step - loss: 0.0268 - accuracy: 0.9934 - val_loss: 0.0731 - val_accuracy: 0.9737\n",
      "Epoch 300/500\n",
      "15/15 [==============================] - 0s 2ms/step - loss: 0.0269 - accuracy: 0.9934 - val_loss: 0.0722 - val_accuracy: 0.9737\n",
      "Epoch 301/500\n",
      "15/15 [==============================] - 0s 2ms/step - loss: 0.0288 - accuracy: 0.9912 - val_loss: 0.0744 - val_accuracy: 0.9737\n",
      "Epoch 302/500\n",
      "15/15 [==============================] - 0s 2ms/step - loss: 0.0270 - accuracy: 0.9934 - val_loss: 0.0751 - val_accuracy: 0.9649\n",
      "Epoch 303/500\n",
      "15/15 [==============================] - 0s 2ms/step - loss: 0.0256 - accuracy: 0.9934 - val_loss: 0.0736 - val_accuracy: 0.9737\n",
      "Epoch 304/500\n",
      "15/15 [==============================] - 0s 2ms/step - loss: 0.0262 - accuracy: 0.9934 - val_loss: 0.0733 - val_accuracy: 0.9737\n",
      "Epoch 305/500\n",
      "15/15 [==============================] - 0s 2ms/step - loss: 0.0261 - accuracy: 0.9934 - val_loss: 0.0737 - val_accuracy: 0.9737\n",
      "Epoch 306/500\n",
      "15/15 [==============================] - 0s 2ms/step - loss: 0.0255 - accuracy: 0.9934 - val_loss: 0.0775 - val_accuracy: 0.9737\n",
      "Epoch 307/500\n",
      "15/15 [==============================] - 0s 2ms/step - loss: 0.0260 - accuracy: 0.9934 - val_loss: 0.0722 - val_accuracy: 0.9737\n",
      "Epoch 308/500\n",
      "15/15 [==============================] - 0s 2ms/step - loss: 0.0254 - accuracy: 0.9934 - val_loss: 0.0750 - val_accuracy: 0.9649\n",
      "Epoch 309/500\n",
      "15/15 [==============================] - 0s 2ms/step - loss: 0.0291 - accuracy: 0.9890 - val_loss: 0.0728 - val_accuracy: 0.9737\n",
      "Epoch 310/500\n",
      "15/15 [==============================] - 0s 2ms/step - loss: 0.0281 - accuracy: 0.9934 - val_loss: 0.0773 - val_accuracy: 0.9649\n",
      "Epoch 311/500\n",
      "15/15 [==============================] - 0s 2ms/step - loss: 0.0275 - accuracy: 0.9934 - val_loss: 0.0741 - val_accuracy: 0.9737\n",
      "Epoch 312/500\n",
      "15/15 [==============================] - 0s 2ms/step - loss: 0.0293 - accuracy: 0.9890 - val_loss: 0.0740 - val_accuracy: 0.9737\n",
      "Epoch 313/500\n",
      "15/15 [==============================] - 0s 2ms/step - loss: 0.0284 - accuracy: 0.9934 - val_loss: 0.0754 - val_accuracy: 0.9649\n",
      "Epoch 314/500\n",
      "15/15 [==============================] - 0s 2ms/step - loss: 0.0247 - accuracy: 0.9934 - val_loss: 0.0724 - val_accuracy: 0.9737\n",
      "Epoch 315/500\n",
      "15/15 [==============================] - 0s 2ms/step - loss: 0.0257 - accuracy: 0.9934 - val_loss: 0.0795 - val_accuracy: 0.9737\n",
      "Epoch 316/500\n",
      "15/15 [==============================] - 0s 2ms/step - loss: 0.0241 - accuracy: 0.9934 - val_loss: 0.0731 - val_accuracy: 0.9737\n",
      "Epoch 317/500\n",
      "15/15 [==============================] - 0s 2ms/step - loss: 0.0265 - accuracy: 0.9934 - val_loss: 0.0755 - val_accuracy: 0.9649\n",
      "Epoch 318/500\n",
      "15/15 [==============================] - 0s 2ms/step - loss: 0.0287 - accuracy: 0.9912 - val_loss: 0.0752 - val_accuracy: 0.9649\n",
      "Epoch 319/500\n",
      "15/15 [==============================] - 0s 2ms/step - loss: 0.0246 - accuracy: 0.9934 - val_loss: 0.0770 - val_accuracy: 0.9649\n",
      "Epoch 320/500\n",
      "15/15 [==============================] - 0s 2ms/step - loss: 0.0254 - accuracy: 0.9934 - val_loss: 0.0743 - val_accuracy: 0.9737\n",
      "Epoch 321/500\n",
      "15/15 [==============================] - 0s 2ms/step - loss: 0.0259 - accuracy: 0.9934 - val_loss: 0.0749 - val_accuracy: 0.9737\n",
      "Epoch 322/500\n",
      "15/15 [==============================] - 0s 2ms/step - loss: 0.0258 - accuracy: 0.9934 - val_loss: 0.0763 - val_accuracy: 0.9649\n",
      "Epoch 323/500\n",
      "15/15 [==============================] - 0s 2ms/step - loss: 0.0253 - accuracy: 0.9934 - val_loss: 0.0747 - val_accuracy: 0.9737\n",
      "Epoch 324/500\n",
      "15/15 [==============================] - 0s 2ms/step - loss: 0.0240 - accuracy: 0.9934 - val_loss: 0.0785 - val_accuracy: 0.9649\n",
      "Epoch 325/500\n",
      "15/15 [==============================] - 0s 2ms/step - loss: 0.0243 - accuracy: 0.9934 - val_loss: 0.0767 - val_accuracy: 0.9649\n",
      "Epoch 326/500\n",
      "15/15 [==============================] - 0s 2ms/step - loss: 0.0240 - accuracy: 0.9934 - val_loss: 0.0777 - val_accuracy: 0.9649\n",
      "Epoch 327/500\n",
      "15/15 [==============================] - 0s 2ms/step - loss: 0.0249 - accuracy: 0.9934 - val_loss: 0.0735 - val_accuracy: 0.9737\n",
      "Epoch 328/500\n",
      "15/15 [==============================] - 0s 2ms/step - loss: 0.0261 - accuracy: 0.9934 - val_loss: 0.0852 - val_accuracy: 0.9737\n",
      "Epoch 329/500\n",
      "15/15 [==============================] - 0s 976us/step - loss: 0.0248 - accuracy: 0.9934 - val_loss: 0.0762 - val_accuracy: 0.9649\n",
      "Epoch 330/500\n",
      "15/15 [==============================] - 0s 2ms/step - loss: 0.0239 - accuracy: 0.9934 - val_loss: 0.0773 - val_accuracy: 0.9649\n",
      "Epoch 331/500\n",
      "15/15 [==============================] - 0s 2ms/step - loss: 0.0239 - accuracy: 0.9934 - val_loss: 0.0752 - val_accuracy: 0.9737\n",
      "Epoch 332/500\n",
      "15/15 [==============================] - 0s 2ms/step - loss: 0.0244 - accuracy: 0.9934 - val_loss: 0.0794 - val_accuracy: 0.9649\n",
      "Epoch 333/500\n",
      "15/15 [==============================] - 0s 2ms/step - loss: 0.0232 - accuracy: 0.9934 - val_loss: 0.0768 - val_accuracy: 0.9649\n",
      "Epoch 334/500\n",
      "15/15 [==============================] - 0s 2ms/step - loss: 0.0236 - accuracy: 0.9934 - val_loss: 0.0782 - val_accuracy: 0.9649\n",
      "Epoch 335/500\n",
      "15/15 [==============================] - 0s 2ms/step - loss: 0.0250 - accuracy: 0.9934 - val_loss: 0.0745 - val_accuracy: 0.9737\n",
      "Epoch 336/500\n",
      "15/15 [==============================] - 0s 1ms/step - loss: 0.0238 - accuracy: 0.9934 - val_loss: 0.0771 - val_accuracy: 0.9649\n",
      "Epoch 337/500\n",
      "15/15 [==============================] - 0s 2ms/step - loss: 0.0233 - accuracy: 0.9934 - val_loss: 0.0787 - val_accuracy: 0.9649\n",
      "Epoch 338/500\n",
      "15/15 [==============================] - 0s 1ms/step - loss: 0.0231 - accuracy: 0.9934 - val_loss: 0.0772 - val_accuracy: 0.9649\n",
      "Epoch 339/500\n",
      "15/15 [==============================] - 0s 2ms/step - loss: 0.0241 - accuracy: 0.9934 - val_loss: 0.0822 - val_accuracy: 0.9649\n",
      "Epoch 340/500\n",
      "15/15 [==============================] - 0s 2ms/step - loss: 0.0230 - accuracy: 0.9934 - val_loss: 0.0776 - val_accuracy: 0.9649\n",
      "Epoch 341/500\n",
      "15/15 [==============================] - 0s 2ms/step - loss: 0.0226 - accuracy: 0.9934 - val_loss: 0.0792 - val_accuracy: 0.9649\n",
      "Epoch 342/500\n",
      "15/15 [==============================] - 0s 962us/step - loss: 0.0256 - accuracy: 0.9934 - val_loss: 0.0776 - val_accuracy: 0.9737\n",
      "Epoch 343/500\n",
      "15/15 [==============================] - 0s 2ms/step - loss: 0.0223 - accuracy: 0.9934 - val_loss: 0.0784 - val_accuracy: 0.9649\n",
      "Epoch 344/500\n"
     ]
    },
    {
     "name": "stdout",
     "output_type": "stream",
     "text": [
      "15/15 [==============================] - 0s 2ms/step - loss: 0.0227 - accuracy: 0.9934 - val_loss: 0.0872 - val_accuracy: 0.9737\n",
      "Epoch 345/500\n",
      "15/15 [==============================] - 0s 2ms/step - loss: 0.0228 - accuracy: 0.9934 - val_loss: 0.0775 - val_accuracy: 0.9737\n",
      "Epoch 346/500\n",
      "15/15 [==============================] - 0s 2ms/step - loss: 0.0230 - accuracy: 0.9934 - val_loss: 0.0826 - val_accuracy: 0.9649\n",
      "Epoch 347/500\n",
      "15/15 [==============================] - 0s 2ms/step - loss: 0.0237 - accuracy: 0.9934 - val_loss: 0.0834 - val_accuracy: 0.9649\n",
      "Epoch 348/500\n",
      "15/15 [==============================] - 0s 2ms/step - loss: 0.0224 - accuracy: 0.9934 - val_loss: 0.0799 - val_accuracy: 0.9649\n",
      "Epoch 349/500\n",
      "15/15 [==============================] - 0s 2ms/step - loss: 0.0219 - accuracy: 0.9934 - val_loss: 0.0828 - val_accuracy: 0.9737\n",
      "Epoch 350/500\n",
      "15/15 [==============================] - 0s 2ms/step - loss: 0.0218 - accuracy: 0.9934 - val_loss: 0.0801 - val_accuracy: 0.9649\n",
      "Epoch 351/500\n",
      "15/15 [==============================] - 0s 2ms/step - loss: 0.0213 - accuracy: 0.9934 - val_loss: 0.0793 - val_accuracy: 0.9649\n",
      "Epoch 352/500\n",
      "15/15 [==============================] - 0s 2ms/step - loss: 0.0214 - accuracy: 0.9934 - val_loss: 0.0801 - val_accuracy: 0.9649\n",
      "Epoch 353/500\n",
      "15/15 [==============================] - 0s 2ms/step - loss: 0.0223 - accuracy: 0.9934 - val_loss: 0.0818 - val_accuracy: 0.9649\n",
      "Epoch 354/500\n",
      "15/15 [==============================] - 0s 2ms/step - loss: 0.0243 - accuracy: 0.9912 - val_loss: 0.0823 - val_accuracy: 0.9649\n",
      "Epoch 355/500\n",
      "15/15 [==============================] - 0s 2ms/step - loss: 0.0257 - accuracy: 0.9912 - val_loss: 0.0820 - val_accuracy: 0.9649\n",
      "Epoch 356/500\n",
      "15/15 [==============================] - 0s 2ms/step - loss: 0.0218 - accuracy: 0.9934 - val_loss: 0.0799 - val_accuracy: 0.9649\n",
      "Epoch 357/500\n",
      "15/15 [==============================] - 0s 2ms/step - loss: 0.0209 - accuracy: 0.9934 - val_loss: 0.0827 - val_accuracy: 0.9649\n",
      "Epoch 358/500\n",
      "15/15 [==============================] - 0s 2ms/step - loss: 0.0206 - accuracy: 0.9934 - val_loss: 0.0781 - val_accuracy: 0.9737\n",
      "Epoch 359/500\n",
      "15/15 [==============================] - 0s 2ms/step - loss: 0.0326 - accuracy: 0.9868 - val_loss: 0.1020 - val_accuracy: 0.9737\n",
      "Epoch 360/500\n",
      "15/15 [==============================] - 0s 2ms/step - loss: 0.0290 - accuracy: 0.9912 - val_loss: 0.0788 - val_accuracy: 0.9737\n",
      "Epoch 361/500\n",
      "15/15 [==============================] - 0s 2ms/step - loss: 0.0227 - accuracy: 0.9912 - val_loss: 0.0911 - val_accuracy: 0.9737\n",
      "Epoch 362/500\n",
      "15/15 [==============================] - 0s 2ms/step - loss: 0.0231 - accuracy: 0.9934 - val_loss: 0.0806 - val_accuracy: 0.9649\n",
      "Epoch 363/500\n",
      "15/15 [==============================] - 0s 2ms/step - loss: 0.0235 - accuracy: 0.9934 - val_loss: 0.0887 - val_accuracy: 0.9737\n",
      "Epoch 364/500\n",
      "15/15 [==============================] - 0s 574us/step - loss: 0.0216 - accuracy: 0.9934 - val_loss: 0.0837 - val_accuracy: 0.9649\n",
      "Epoch 365/500\n",
      "15/15 [==============================] - 0s 2ms/step - loss: 0.0215 - accuracy: 0.9934 - val_loss: 0.0844 - val_accuracy: 0.9649\n",
      "Epoch 366/500\n",
      "15/15 [==============================] - 0s 2ms/step - loss: 0.0207 - accuracy: 0.9934 - val_loss: 0.0812 - val_accuracy: 0.9649\n",
      "Epoch 367/500\n",
      "15/15 [==============================] - 0s 2ms/step - loss: 0.0204 - accuracy: 0.9934 - val_loss: 0.0851 - val_accuracy: 0.9649\n",
      "Epoch 368/500\n",
      "15/15 [==============================] - 0s 2ms/step - loss: 0.0201 - accuracy: 0.9934 - val_loss: 0.0799 - val_accuracy: 0.9649\n",
      "Epoch 369/500\n",
      "15/15 [==============================] - 0s 2ms/step - loss: 0.0208 - accuracy: 0.9934 - val_loss: 0.0818 - val_accuracy: 0.9649\n",
      "Epoch 370/500\n",
      "15/15 [==============================] - 0s 2ms/step - loss: 0.0230 - accuracy: 0.9934 - val_loss: 0.0904 - val_accuracy: 0.9737\n",
      "Epoch 371/500\n",
      "15/15 [==============================] - 0s 2ms/step - loss: 0.0234 - accuracy: 0.9934 - val_loss: 0.0812 - val_accuracy: 0.9649\n",
      "Epoch 372/500\n",
      "15/15 [==============================] - 0s 2ms/step - loss: 0.0216 - accuracy: 0.9934 - val_loss: 0.0849 - val_accuracy: 0.9649\n",
      "Epoch 373/500\n",
      "15/15 [==============================] - 0s 2ms/step - loss: 0.0214 - accuracy: 0.9934 - val_loss: 0.0822 - val_accuracy: 0.9649\n",
      "Epoch 374/500\n",
      "15/15 [==============================] - 0s 2ms/step - loss: 0.0227 - accuracy: 0.9934 - val_loss: 0.0856 - val_accuracy: 0.9649\n",
      "Epoch 375/500\n",
      "15/15 [==============================] - 0s 2ms/step - loss: 0.0242 - accuracy: 0.9934 - val_loss: 0.0881 - val_accuracy: 0.9649\n",
      "Epoch 376/500\n",
      "15/15 [==============================] - 0s 2ms/step - loss: 0.0221 - accuracy: 0.9934 - val_loss: 0.0816 - val_accuracy: 0.9649\n",
      "Epoch 377/500\n",
      "15/15 [==============================] - 0s 2ms/step - loss: 0.0206 - accuracy: 0.9934 - val_loss: 0.0844 - val_accuracy: 0.9649\n",
      "Epoch 378/500\n",
      "15/15 [==============================] - 0s 2ms/step - loss: 0.0195 - accuracy: 0.9934 - val_loss: 0.0806 - val_accuracy: 0.9737\n",
      "Epoch 379/500\n",
      "15/15 [==============================] - 0s 2ms/step - loss: 0.0192 - accuracy: 0.9956 - val_loss: 0.0866 - val_accuracy: 0.9649\n",
      "Epoch 380/500\n",
      "15/15 [==============================] - 0s 2ms/step - loss: 0.0205 - accuracy: 0.9934 - val_loss: 0.0822 - val_accuracy: 0.9649\n",
      "Epoch 381/500\n",
      "15/15 [==============================] - 0s 2ms/step - loss: 0.0191 - accuracy: 0.9934 - val_loss: 0.0846 - val_accuracy: 0.9649\n",
      "Epoch 382/500\n",
      "15/15 [==============================] - 0s 2ms/step - loss: 0.0230 - accuracy: 0.9890 - val_loss: 0.0986 - val_accuracy: 0.9737\n",
      "Epoch 383/500\n",
      "15/15 [==============================] - 0s 2ms/step - loss: 0.0249 - accuracy: 0.9934 - val_loss: 0.0836 - val_accuracy: 0.9649\n",
      "Epoch 384/500\n",
      "15/15 [==============================] - 0s 2ms/step - loss: 0.0224 - accuracy: 0.9934 - val_loss: 0.0918 - val_accuracy: 0.9649\n",
      "Epoch 385/500\n",
      "15/15 [==============================] - 0s 2ms/step - loss: 0.0190 - accuracy: 0.9934 - val_loss: 0.0816 - val_accuracy: 0.9737\n",
      "Epoch 386/500\n",
      "15/15 [==============================] - 0s 2ms/step - loss: 0.0193 - accuracy: 0.9956 - val_loss: 0.0879 - val_accuracy: 0.9649\n",
      "Epoch 387/500\n",
      "15/15 [==============================] - 0s 2ms/step - loss: 0.0189 - accuracy: 0.9934 - val_loss: 0.0836 - val_accuracy: 0.9649\n",
      "Epoch 388/500\n",
      "15/15 [==============================] - 0s 2ms/step - loss: 0.0202 - accuracy: 0.9934 - val_loss: 0.0941 - val_accuracy: 0.9737\n",
      "Epoch 389/500\n",
      "15/15 [==============================] - 0s 2ms/step - loss: 0.0210 - accuracy: 0.9934 - val_loss: 0.0881 - val_accuracy: 0.9649\n",
      "Epoch 390/500\n",
      "15/15 [==============================] - 0s 2ms/step - loss: 0.0193 - accuracy: 0.9934 - val_loss: 0.0835 - val_accuracy: 0.9649\n",
      "Epoch 391/500\n",
      "15/15 [==============================] - 0s 1ms/step - loss: 0.0189 - accuracy: 0.9934 - val_loss: 0.0878 - val_accuracy: 0.9649\n",
      "Epoch 392/500\n",
      "15/15 [==============================] - 0s 2ms/step - loss: 0.0179 - accuracy: 0.9934 - val_loss: 0.0843 - val_accuracy: 0.9649\n",
      "Epoch 393/500\n",
      "15/15 [==============================] - 0s 2ms/step - loss: 0.0202 - accuracy: 0.9934 - val_loss: 0.0827 - val_accuracy: 0.9737\n",
      "Epoch 394/500\n",
      "15/15 [==============================] - 0s 2ms/step - loss: 0.0193 - accuracy: 0.9956 - val_loss: 0.0884 - val_accuracy: 0.9649\n",
      "Epoch 395/500\n",
      "15/15 [==============================] - 0s 2ms/step - loss: 0.0205 - accuracy: 0.9934 - val_loss: 0.0840 - val_accuracy: 0.9649\n",
      "Epoch 396/500\n",
      "15/15 [==============================] - 0s 2ms/step - loss: 0.0198 - accuracy: 0.9934 - val_loss: 0.0893 - val_accuracy: 0.9649\n",
      "Epoch 397/500\n",
      "15/15 [==============================] - 0s 2ms/step - loss: 0.0196 - accuracy: 0.9934 - val_loss: 0.0906 - val_accuracy: 0.9649\n",
      "Epoch 398/500\n",
      "15/15 [==============================] - 0s 2ms/step - loss: 0.0225 - accuracy: 0.9934 - val_loss: 0.0840 - val_accuracy: 0.9649\n",
      "Epoch 399/500\n",
      "15/15 [==============================] - 0s 2ms/step - loss: 0.0175 - accuracy: 0.9956 - val_loss: 0.0944 - val_accuracy: 0.9737\n",
      "Epoch 400/500\n",
      "15/15 [==============================] - 0s 2ms/step - loss: 0.0210 - accuracy: 0.9934 - val_loss: 0.0834 - val_accuracy: 0.9649\n",
      "Epoch 401/500\n"
     ]
    },
    {
     "name": "stdout",
     "output_type": "stream",
     "text": [
      "15/15 [==============================] - 0s 2ms/step - loss: 0.0174 - accuracy: 0.9934 - val_loss: 0.0901 - val_accuracy: 0.9649\n",
      "Epoch 402/500\n",
      "15/15 [==============================] - 0s 2ms/step - loss: 0.0180 - accuracy: 0.9934 - val_loss: 0.0849 - val_accuracy: 0.9649\n",
      "Epoch 403/500\n",
      "15/15 [==============================] - 0s 2ms/step - loss: 0.0202 - accuracy: 0.9912 - val_loss: 0.0930 - val_accuracy: 0.9649\n",
      "Epoch 404/500\n",
      "15/15 [==============================] - 0s 2ms/step - loss: 0.0213 - accuracy: 0.9934 - val_loss: 0.0887 - val_accuracy: 0.9649\n",
      "Epoch 405/500\n",
      "15/15 [==============================] - 0s 2ms/step - loss: 0.0188 - accuracy: 0.9934 - val_loss: 0.0864 - val_accuracy: 0.9649\n",
      "Epoch 406/500\n",
      "15/15 [==============================] - 0s 2ms/step - loss: 0.0180 - accuracy: 0.9934 - val_loss: 0.0901 - val_accuracy: 0.9649\n",
      "Epoch 407/500\n",
      "15/15 [==============================] - 0s 2ms/step - loss: 0.0185 - accuracy: 0.9934 - val_loss: 0.0900 - val_accuracy: 0.9649\n",
      "Epoch 408/500\n",
      "15/15 [==============================] - 0s 2ms/step - loss: 0.0178 - accuracy: 0.9934 - val_loss: 0.0864 - val_accuracy: 0.9649\n",
      "Epoch 409/500\n",
      "15/15 [==============================] - 0s 1ms/step - loss: 0.0180 - accuracy: 0.9934 - val_loss: 0.0931 - val_accuracy: 0.9649\n",
      "Epoch 410/500\n",
      "15/15 [==============================] - 0s 2ms/step - loss: 0.0182 - accuracy: 0.9934 - val_loss: 0.0874 - val_accuracy: 0.9649\n",
      "Epoch 411/500\n",
      "15/15 [==============================] - 0s 2ms/step - loss: 0.0174 - accuracy: 0.9934 - val_loss: 0.0880 - val_accuracy: 0.9649\n",
      "Epoch 412/500\n",
      "15/15 [==============================] - 0s 2ms/step - loss: 0.0171 - accuracy: 0.9934 - val_loss: 0.0911 - val_accuracy: 0.9649\n",
      "Epoch 413/500\n",
      "15/15 [==============================] - 0s 2ms/step - loss: 0.0171 - accuracy: 0.9934 - val_loss: 0.0869 - val_accuracy: 0.9649\n",
      "Epoch 414/500\n",
      "15/15 [==============================] - 0s 2ms/step - loss: 0.0189 - accuracy: 0.9956 - val_loss: 0.0899 - val_accuracy: 0.9649\n",
      "Epoch 415/500\n",
      "15/15 [==============================] - 0s 2ms/step - loss: 0.0179 - accuracy: 0.9934 - val_loss: 0.0943 - val_accuracy: 0.9649\n",
      "Epoch 416/500\n",
      "15/15 [==============================] - 0s 2ms/step - loss: 0.0188 - accuracy: 0.9934 - val_loss: 0.0885 - val_accuracy: 0.9649\n",
      "Epoch 417/500\n",
      "15/15 [==============================] - 0s 2ms/step - loss: 0.0180 - accuracy: 0.9956 - val_loss: 0.0984 - val_accuracy: 0.9737\n",
      "Epoch 418/500\n",
      "15/15 [==============================] - 0s 2ms/step - loss: 0.0167 - accuracy: 0.9934 - val_loss: 0.0904 - val_accuracy: 0.9649\n",
      "Epoch 419/500\n",
      "15/15 [==============================] - 0s 2ms/step - loss: 0.0170 - accuracy: 0.9934 - val_loss: 0.0927 - val_accuracy: 0.9649\n",
      "Epoch 420/500\n",
      "15/15 [==============================] - 0s 2ms/step - loss: 0.0163 - accuracy: 0.9934 - val_loss: 0.0913 - val_accuracy: 0.9649\n",
      "Epoch 421/500\n",
      "15/15 [==============================] - 0s 2ms/step - loss: 0.0171 - accuracy: 0.9934 - val_loss: 0.0888 - val_accuracy: 0.9649\n",
      "Epoch 422/500\n",
      "15/15 [==============================] - 0s 2ms/step - loss: 0.0167 - accuracy: 0.9956 - val_loss: 0.0937 - val_accuracy: 0.9649\n",
      "Epoch 423/500\n",
      "15/15 [==============================] - 0s 2ms/step - loss: 0.0169 - accuracy: 0.9934 - val_loss: 0.0960 - val_accuracy: 0.9649\n",
      "Epoch 424/500\n",
      "15/15 [==============================] - 0s 2ms/step - loss: 0.0185 - accuracy: 0.9934 - val_loss: 0.0970 - val_accuracy: 0.9649\n",
      "Epoch 425/500\n",
      "15/15 [==============================] - 0s 2ms/step - loss: 0.0170 - accuracy: 0.9934 - val_loss: 0.0891 - val_accuracy: 0.9649\n",
      "Epoch 426/500\n",
      "15/15 [==============================] - 0s 2ms/step - loss: 0.0162 - accuracy: 0.9956 - val_loss: 0.0942 - val_accuracy: 0.9649\n",
      "Epoch 427/500\n",
      "15/15 [==============================] - 0s 2ms/step - loss: 0.0168 - accuracy: 0.9934 - val_loss: 0.0944 - val_accuracy: 0.9649\n",
      "Epoch 428/500\n",
      "15/15 [==============================] - 0s 2ms/step - loss: 0.0222 - accuracy: 0.9934 - val_loss: 0.1050 - val_accuracy: 0.9737\n",
      "Epoch 429/500\n",
      "15/15 [==============================] - 0s 2ms/step - loss: 0.0201 - accuracy: 0.9956 - val_loss: 0.0931 - val_accuracy: 0.9649\n",
      "Epoch 430/500\n",
      "15/15 [==============================] - 0s 2ms/step - loss: 0.0170 - accuracy: 0.9934 - val_loss: 0.0947 - val_accuracy: 0.9649\n",
      "Epoch 431/500\n",
      "15/15 [==============================] - 0s 2ms/step - loss: 0.0191 - accuracy: 0.9934 - val_loss: 0.0986 - val_accuracy: 0.9649\n",
      "Epoch 432/500\n",
      "15/15 [==============================] - 0s 2ms/step - loss: 0.0186 - accuracy: 0.9934 - val_loss: 0.0917 - val_accuracy: 0.9649\n",
      "Epoch 433/500\n",
      "15/15 [==============================] - 0s 2ms/step - loss: 0.0164 - accuracy: 0.9956 - val_loss: 0.0975 - val_accuracy: 0.9649\n",
      "Epoch 434/500\n",
      "15/15 [==============================] - 0s 2ms/step - loss: 0.0172 - accuracy: 0.9934 - val_loss: 0.0890 - val_accuracy: 0.9649\n",
      "Epoch 435/500\n",
      "15/15 [==============================] - 0s 2ms/step - loss: 0.0182 - accuracy: 0.9934 - val_loss: 0.0969 - val_accuracy: 0.9649\n",
      "Epoch 436/500\n",
      "15/15 [==============================] - 0s 2ms/step - loss: 0.0163 - accuracy: 0.9956 - val_loss: 0.0951 - val_accuracy: 0.9649\n",
      "Epoch 437/500\n",
      "15/15 [==============================] - 0s 910us/step - loss: 0.0178 - accuracy: 0.9934 - val_loss: 0.0912 - val_accuracy: 0.9649\n",
      "Epoch 438/500\n",
      "15/15 [==============================] - 0s 2ms/step - loss: 0.0162 - accuracy: 0.9956 - val_loss: 0.0976 - val_accuracy: 0.9649\n",
      "Epoch 439/500\n",
      "15/15 [==============================] - 0s 2ms/step - loss: 0.0197 - accuracy: 0.9934 - val_loss: 0.0896 - val_accuracy: 0.9649\n",
      "Epoch 440/500\n",
      "15/15 [==============================] - 0s 2ms/step - loss: 0.0166 - accuracy: 0.9934 - val_loss: 0.1236 - val_accuracy: 0.9649\n",
      "Epoch 441/500\n",
      "15/15 [==============================] - 0s 2ms/step - loss: 0.0179 - accuracy: 0.9934 - val_loss: 0.0924 - val_accuracy: 0.9649\n",
      "Epoch 442/500\n",
      "15/15 [==============================] - 0s 2ms/step - loss: 0.0160 - accuracy: 0.9934 - val_loss: 0.0999 - val_accuracy: 0.9649\n",
      "Epoch 443/500\n",
      "15/15 [==============================] - 0s 2ms/step - loss: 0.0150 - accuracy: 0.9934 - val_loss: 0.0938 - val_accuracy: 0.9649\n",
      "Epoch 444/500\n",
      "15/15 [==============================] - 0s 1ms/step - loss: 0.0164 - accuracy: 0.9956 - val_loss: 0.0999 - val_accuracy: 0.9649\n",
      "Epoch 445/500\n",
      "15/15 [==============================] - 0s 2ms/step - loss: 0.0155 - accuracy: 0.9934 - val_loss: 0.0949 - val_accuracy: 0.9649\n",
      "Epoch 446/500\n",
      "15/15 [==============================] - 0s 2ms/step - loss: 0.0166 - accuracy: 0.9956 - val_loss: 0.0974 - val_accuracy: 0.9649\n",
      "Epoch 447/500\n",
      "15/15 [==============================] - 0s 2ms/step - loss: 0.0145 - accuracy: 0.9934 - val_loss: 0.0938 - val_accuracy: 0.9649\n",
      "Epoch 448/500\n",
      "15/15 [==============================] - 0s 2ms/step - loss: 0.0163 - accuracy: 0.9934 - val_loss: 0.0973 - val_accuracy: 0.9649\n",
      "Epoch 449/500\n",
      "15/15 [==============================] - 0s 2ms/step - loss: 0.0149 - accuracy: 0.9934 - val_loss: 0.0973 - val_accuracy: 0.9649\n",
      "Epoch 450/500\n",
      "15/15 [==============================] - 0s 2ms/step - loss: 0.0146 - accuracy: 0.9934 - val_loss: 0.0953 - val_accuracy: 0.9649\n",
      "Epoch 451/500\n",
      "15/15 [==============================] - 0s 2ms/step - loss: 0.0147 - accuracy: 0.9934 - val_loss: 0.0932 - val_accuracy: 0.9649\n",
      "Epoch 452/500\n",
      "15/15 [==============================] - 0s 2ms/step - loss: 0.0176 - accuracy: 0.9934 - val_loss: 0.1211 - val_accuracy: 0.9649\n",
      "Epoch 453/500\n",
      "15/15 [==============================] - 0s 2ms/step - loss: 0.0169 - accuracy: 0.9978 - val_loss: 0.0945 - val_accuracy: 0.9649\n",
      "Epoch 454/500\n",
      "15/15 [==============================] - 0s 2ms/step - loss: 0.0149 - accuracy: 0.9956 - val_loss: 0.1037 - val_accuracy: 0.9649\n",
      "Epoch 455/500\n",
      "15/15 [==============================] - 0s 2ms/step - loss: 0.0162 - accuracy: 0.9934 - val_loss: 0.0992 - val_accuracy: 0.9649\n",
      "Epoch 456/500\n",
      "15/15 [==============================] - 0s 2ms/step - loss: 0.0155 - accuracy: 0.9934 - val_loss: 0.0976 - val_accuracy: 0.9649\n",
      "Epoch 457/500\n",
      "15/15 [==============================] - 0s 2ms/step - loss: 0.0148 - accuracy: 0.9956 - val_loss: 0.0951 - val_accuracy: 0.9649\n",
      "Epoch 458/500\n"
     ]
    },
    {
     "name": "stdout",
     "output_type": "stream",
     "text": [
      "15/15 [==============================] - 0s 2ms/step - loss: 0.0146 - accuracy: 0.9934 - val_loss: 0.1047 - val_accuracy: 0.9649\n",
      "Epoch 459/500\n",
      "15/15 [==============================] - 0s 2ms/step - loss: 0.0145 - accuracy: 0.9934 - val_loss: 0.0981 - val_accuracy: 0.9649\n",
      "Epoch 460/500\n",
      "15/15 [==============================] - 0s 1ms/step - loss: 0.0170 - accuracy: 0.9934 - val_loss: 0.1017 - val_accuracy: 0.9649\n",
      "Epoch 461/500\n",
      "15/15 [==============================] - 0s 2ms/step - loss: 0.0216 - accuracy: 0.9912 - val_loss: 0.0928 - val_accuracy: 0.9649\n",
      "Epoch 462/500\n",
      "15/15 [==============================] - 0s 2ms/step - loss: 0.0261 - accuracy: 0.9912 - val_loss: 0.1358 - val_accuracy: 0.9474\n",
      "Epoch 463/500\n",
      "15/15 [==============================] - 0s 2ms/step - loss: 0.0221 - accuracy: 0.9934 - val_loss: 0.0988 - val_accuracy: 0.9649\n",
      "Epoch 464/500\n",
      "15/15 [==============================] - 0s 2ms/step - loss: 0.0172 - accuracy: 0.9934 - val_loss: 0.0966 - val_accuracy: 0.9649\n",
      "Epoch 465/500\n",
      "15/15 [==============================] - 0s 2ms/step - loss: 0.0142 - accuracy: 0.9956 - val_loss: 0.1047 - val_accuracy: 0.9649\n",
      "Epoch 466/500\n",
      "15/15 [==============================] - 0s 2ms/step - loss: 0.0173 - accuracy: 0.9934 - val_loss: 0.0943 - val_accuracy: 0.9649\n",
      "Epoch 467/500\n",
      "15/15 [==============================] - 0s 2ms/step - loss: 0.0141 - accuracy: 0.9956 - val_loss: 0.1122 - val_accuracy: 0.9649\n",
      "Epoch 468/500\n",
      "15/15 [==============================] - 0s 2ms/step - loss: 0.0166 - accuracy: 0.9934 - val_loss: 0.0979 - val_accuracy: 0.9649\n",
      "Epoch 469/500\n",
      "15/15 [==============================] - 0s 2ms/step - loss: 0.0231 - accuracy: 0.9912 - val_loss: 0.0967 - val_accuracy: 0.9649\n",
      "Epoch 470/500\n",
      "15/15 [==============================] - 0s 2ms/step - loss: 0.0243 - accuracy: 0.9868 - val_loss: 0.1270 - val_accuracy: 0.9561\n",
      "Epoch 471/500\n",
      "15/15 [==============================] - 0s 2ms/step - loss: 0.0150 - accuracy: 0.9934 - val_loss: 0.0966 - val_accuracy: 0.9649\n",
      "Epoch 472/500\n",
      "15/15 [==============================] - 0s 2ms/step - loss: 0.0138 - accuracy: 0.9978 - val_loss: 0.1105 - val_accuracy: 0.9649\n",
      "Epoch 473/500\n",
      "15/15 [==============================] - 0s 2ms/step - loss: 0.0136 - accuracy: 0.9956 - val_loss: 0.0980 - val_accuracy: 0.9649\n",
      "Epoch 474/500\n",
      "15/15 [==============================] - 0s 2ms/step - loss: 0.0134 - accuracy: 0.9978 - val_loss: 0.1041 - val_accuracy: 0.9649\n",
      "Epoch 475/500\n",
      "15/15 [==============================] - 0s 2ms/step - loss: 0.0128 - accuracy: 0.9956 - val_loss: 0.1002 - val_accuracy: 0.9649\n",
      "Epoch 476/500\n",
      "15/15 [==============================] - 0s 2ms/step - loss: 0.0132 - accuracy: 0.9956 - val_loss: 0.1027 - val_accuracy: 0.9649\n",
      "Epoch 477/500\n",
      "15/15 [==============================] - 0s 2ms/step - loss: 0.0129 - accuracy: 0.9956 - val_loss: 0.0984 - val_accuracy: 0.9649\n",
      "Epoch 478/500\n",
      "15/15 [==============================] - 0s 2ms/step - loss: 0.0131 - accuracy: 0.9956 - val_loss: 0.0994 - val_accuracy: 0.9649\n",
      "Epoch 479/500\n",
      "15/15 [==============================] - 0s 2ms/step - loss: 0.0129 - accuracy: 0.9956 - val_loss: 0.1067 - val_accuracy: 0.9737\n",
      "Epoch 480/500\n",
      "15/15 [==============================] - 0s 2ms/step - loss: 0.0140 - accuracy: 0.9956 - val_loss: 0.0987 - val_accuracy: 0.9649\n",
      "Epoch 481/500\n",
      "15/15 [==============================] - 0s 2ms/step - loss: 0.0127 - accuracy: 0.9956 - val_loss: 0.1033 - val_accuracy: 0.9649\n",
      "Epoch 482/500\n",
      "15/15 [==============================] - 0s 2ms/step - loss: 0.0128 - accuracy: 0.9956 - val_loss: 0.1050 - val_accuracy: 0.9649\n",
      "Epoch 483/500\n",
      "15/15 [==============================] - 0s 2ms/step - loss: 0.0121 - accuracy: 0.9978 - val_loss: 0.0992 - val_accuracy: 0.9649\n",
      "Epoch 484/500\n",
      "15/15 [==============================] - 0s 2ms/step - loss: 0.0122 - accuracy: 0.9978 - val_loss: 0.1059 - val_accuracy: 0.9649\n",
      "Epoch 485/500\n",
      "15/15 [==============================] - 0s 2ms/step - loss: 0.0134 - accuracy: 0.9956 - val_loss: 0.1100 - val_accuracy: 0.9649\n",
      "Epoch 486/500\n",
      "15/15 [==============================] - 0s 2ms/step - loss: 0.0147 - accuracy: 0.9956 - val_loss: 0.0969 - val_accuracy: 0.9649\n",
      "Epoch 487/500\n",
      "15/15 [==============================] - 0s 2ms/step - loss: 0.0141 - accuracy: 0.9956 - val_loss: 0.1100 - val_accuracy: 0.9649\n",
      "Epoch 488/500\n",
      "15/15 [==============================] - 0s 2ms/step - loss: 0.0131 - accuracy: 0.9956 - val_loss: 0.1030 - val_accuracy: 0.9649\n",
      "Epoch 489/500\n",
      "15/15 [==============================] - 0s 2ms/step - loss: 0.0121 - accuracy: 0.9956 - val_loss: 0.1086 - val_accuracy: 0.9649\n",
      "Epoch 490/500\n",
      "15/15 [==============================] - 0s 2ms/step - loss: 0.0132 - accuracy: 0.9956 - val_loss: 0.1082 - val_accuracy: 0.9649\n",
      "Epoch 491/500\n",
      "15/15 [==============================] - 0s 2ms/step - loss: 0.0150 - accuracy: 0.9956 - val_loss: 0.1106 - val_accuracy: 0.9649\n",
      "Epoch 492/500\n",
      "15/15 [==============================] - 0s 2ms/step - loss: 0.0141 - accuracy: 0.9978 - val_loss: 0.1073 - val_accuracy: 0.9649\n",
      "Epoch 493/500\n",
      "15/15 [==============================] - 0s 878us/step - loss: 0.0131 - accuracy: 0.9956 - val_loss: 0.1009 - val_accuracy: 0.9649\n",
      "Epoch 494/500\n",
      "15/15 [==============================] - 0s 2ms/step - loss: 0.0139 - accuracy: 0.9978 - val_loss: 0.1250 - val_accuracy: 0.9649\n",
      "Epoch 495/500\n",
      "15/15 [==============================] - 0s 2ms/step - loss: 0.0140 - accuracy: 0.9956 - val_loss: 0.1006 - val_accuracy: 0.9649\n",
      "Epoch 496/500\n",
      "15/15 [==============================] - 0s 2ms/step - loss: 0.0131 - accuracy: 0.9956 - val_loss: 0.1113 - val_accuracy: 0.9649\n",
      "Epoch 497/500\n",
      "15/15 [==============================] - 0s 2ms/step - loss: 0.0122 - accuracy: 0.9978 - val_loss: 0.1067 - val_accuracy: 0.9649\n",
      "Epoch 498/500\n",
      "15/15 [==============================] - 0s 2ms/step - loss: 0.0120 - accuracy: 0.9956 - val_loss: 0.1173 - val_accuracy: 0.9649\n",
      "Epoch 499/500\n",
      "15/15 [==============================] - 0s 2ms/step - loss: 0.0134 - accuracy: 0.9956 - val_loss: 0.1069 - val_accuracy: 0.9649\n",
      "Epoch 500/500\n",
      "15/15 [==============================] - 0s 2ms/step - loss: 0.0115 - accuracy: 0.9956 - val_loss: 0.1035 - val_accuracy: 0.9649\n"
     ]
    },
    {
     "data": {
      "text/plain": [
       "<tensorflow.python.keras.callbacks.History at 0x259c1964130>"
      ]
     },
     "execution_count": 24,
     "metadata": {},
     "output_type": "execute_result"
    }
   ],
   "source": [
    "model.fit(x=X_train, y=y_train, epochs=500, validation_data=(X_test,y_test), verbose=1)"
   ]
  },
  {
   "cell_type": "code",
   "execution_count": 25,
   "metadata": {
    "executionInfo": {
     "elapsed": 809,
     "status": "ok",
     "timestamp": 1610205470123,
     "user": {
      "displayName": "Richard C",
      "photoUrl": "",
      "userId": "08040814671867660929"
     },
     "user_tz": -180
    },
    "id": "vQIbjGQduQpQ"
   },
   "outputs": [
    {
     "data": {
      "text/html": [
       "<div>\n",
       "<style scoped>\n",
       "    .dataframe tbody tr th:only-of-type {\n",
       "        vertical-align: middle;\n",
       "    }\n",
       "\n",
       "    .dataframe tbody tr th {\n",
       "        vertical-align: top;\n",
       "    }\n",
       "\n",
       "    .dataframe thead th {\n",
       "        text-align: right;\n",
       "    }\n",
       "</style>\n",
       "<table border=\"1\" class=\"dataframe\">\n",
       "  <thead>\n",
       "    <tr style=\"text-align: right;\">\n",
       "      <th></th>\n",
       "      <th>loss</th>\n",
       "      <th>accuracy</th>\n",
       "      <th>val_loss</th>\n",
       "      <th>val_accuracy</th>\n",
       "    </tr>\n",
       "  </thead>\n",
       "  <tbody>\n",
       "    <tr>\n",
       "      <th>0</th>\n",
       "      <td>0.698</td>\n",
       "      <td>0.508</td>\n",
       "      <td>0.685</td>\n",
       "      <td>0.746</td>\n",
       "    </tr>\n",
       "    <tr>\n",
       "      <th>1</th>\n",
       "      <td>0.680</td>\n",
       "      <td>0.743</td>\n",
       "      <td>0.670</td>\n",
       "      <td>0.754</td>\n",
       "    </tr>\n",
       "    <tr>\n",
       "      <th>2</th>\n",
       "      <td>0.665</td>\n",
       "      <td>0.796</td>\n",
       "      <td>0.651</td>\n",
       "      <td>0.781</td>\n",
       "    </tr>\n",
       "    <tr>\n",
       "      <th>3</th>\n",
       "      <td>0.645</td>\n",
       "      <td>0.855</td>\n",
       "      <td>0.626</td>\n",
       "      <td>0.816</td>\n",
       "    </tr>\n",
       "    <tr>\n",
       "      <th>4</th>\n",
       "      <td>0.622</td>\n",
       "      <td>0.857</td>\n",
       "      <td>0.598</td>\n",
       "      <td>0.833</td>\n",
       "    </tr>\n",
       "    <tr>\n",
       "      <th>...</th>\n",
       "      <td>...</td>\n",
       "      <td>...</td>\n",
       "      <td>...</td>\n",
       "      <td>...</td>\n",
       "    </tr>\n",
       "    <tr>\n",
       "      <th>495</th>\n",
       "      <td>0.013</td>\n",
       "      <td>0.996</td>\n",
       "      <td>0.111</td>\n",
       "      <td>0.965</td>\n",
       "    </tr>\n",
       "    <tr>\n",
       "      <th>496</th>\n",
       "      <td>0.012</td>\n",
       "      <td>0.998</td>\n",
       "      <td>0.107</td>\n",
       "      <td>0.965</td>\n",
       "    </tr>\n",
       "    <tr>\n",
       "      <th>497</th>\n",
       "      <td>0.012</td>\n",
       "      <td>0.996</td>\n",
       "      <td>0.117</td>\n",
       "      <td>0.965</td>\n",
       "    </tr>\n",
       "    <tr>\n",
       "      <th>498</th>\n",
       "      <td>0.013</td>\n",
       "      <td>0.996</td>\n",
       "      <td>0.107</td>\n",
       "      <td>0.965</td>\n",
       "    </tr>\n",
       "    <tr>\n",
       "      <th>499</th>\n",
       "      <td>0.012</td>\n",
       "      <td>0.996</td>\n",
       "      <td>0.103</td>\n",
       "      <td>0.965</td>\n",
       "    </tr>\n",
       "  </tbody>\n",
       "</table>\n",
       "<p>500 rows × 4 columns</p>\n",
       "</div>"
      ],
      "text/plain": [
       "     loss  accuracy  val_loss  val_accuracy\n",
       "0   0.698     0.508     0.685         0.746\n",
       "1   0.680     0.743     0.670         0.754\n",
       "2   0.665     0.796     0.651         0.781\n",
       "3   0.645     0.855     0.626         0.816\n",
       "4   0.622     0.857     0.598         0.833\n",
       "..    ...       ...       ...           ...\n",
       "495 0.013     0.996     0.111         0.965\n",
       "496 0.012     0.998     0.107         0.965\n",
       "497 0.012     0.996     0.117         0.965\n",
       "498 0.013     0.996     0.107         0.965\n",
       "499 0.012     0.996     0.103         0.965\n",
       "\n",
       "[500 rows x 4 columns]"
      ]
     },
     "execution_count": 25,
     "metadata": {},
     "output_type": "execute_result"
    }
   ],
   "source": [
    "model_losses=pd.DataFrame(model.history.history)\n",
    "model_losses"
   ]
  },
  {
   "cell_type": "code",
   "execution_count": 26,
   "metadata": {
    "colab": {
     "base_uri": "https://localhost:8080/",
     "height": 203
    },
    "executionInfo": {
     "elapsed": 806,
     "status": "ok",
     "timestamp": 1610205543675,
     "user": {
      "displayName": "Richard C",
      "photoUrl": "",
      "userId": "08040814671867660929"
     },
     "user_tz": -180
    },
    "id": "D2ESVoHNuio3",
    "outputId": "b1d77954-e47c-4902-a95a-6561219300c0"
   },
   "outputs": [
    {
     "data": {
      "image/png": "[encoded data removed]",
      "text/plain": [
       "<Figure size 864x432 with 1 Axes>"
      ]
     },
     "metadata": {},
     "output_type": "display_data"
    }
   ],
   "source": [
    "model_losses.plot();"
   ]
  },
  {
   "cell_type": "markdown",
   "metadata": {
    "id": "UogGQGs4vsuD"
   },
   "source": [
    "* Early Stopping"
   ]
  },
  {
   "cell_type": "code",
   "execution_count": 27,
   "metadata": {
    "executionInfo": {
     "elapsed": 819,
     "status": "ok",
     "timestamp": 1610205884545,
     "user": {
      "displayName": "Richard C",
      "photoUrl": "",
      "userId": "08040814671867660929"
     },
     "user_tz": -180
    },
    "id": "4D17nNk7vrDT"
   },
   "outputs": [],
   "source": [
    "from tensorflow.keras.callbacks import EarlyStopping"
   ]
  },
  {
   "cell_type": "code",
   "execution_count": 28,
   "metadata": {
    "executionInfo": {
     "elapsed": 872,
     "status": "ok",
     "timestamp": 1610205897987,
     "user": {
      "displayName": "Richard C",
      "photoUrl": "",
      "userId": "08040814671867660929"
     },
     "user_tz": -180
    },
    "id": "VcPSEww_u_wp"
   },
   "outputs": [],
   "source": [
    "model = Sequential()\n",
    "model.add(Dense(24, activation=\"relu\"))\n",
    "model.add(Dense(12, activation=\"relu\"))\n",
    "model.add(Dense(1, activation=\"sigmoid\"))\n",
    "model.compile(loss=\"binary_crossentropy\", optimizer=\"adam\", metrics=\"accuracy\")"
   ]
  },
  {
   "cell_type": "code",
   "execution_count": 29,
   "metadata": {},
   "outputs": [],
   "source": [
    "#The patience is often set somewhere between 10 and 100 (10 or 20 is more common), \n",
    "#but it really depends on your dataset and network."
   ]
  },
  {
   "cell_type": "code",
   "execution_count": 30,
   "metadata": {
    "executionInfo": {
     "elapsed": 754,
     "status": "ok",
     "timestamp": 1610206054322,
     "user": {
      "displayName": "Richard C",
      "photoUrl": "",
      "userId": "08040814671867660929"
     },
     "user_tz": -180
    },
    "id": "7gT47GwcwC2Q"
   },
   "outputs": [],
   "source": [
    "early_stop = EarlyStopping(monitor=\"val_loss\", mode=\"auto\", verbose=1, patience=15)"
   ]
  },
  {
   "cell_type": "code",
   "execution_count": 31,
   "metadata": {
    "colab": {
     "base_uri": "https://localhost:8080/"
    },
    "executionInfo": {
     "elapsed": 9401,
     "status": "ok",
     "timestamp": 1610206149266,
     "user": {
      "displayName": "Richard C",
      "photoUrl": "",
      "userId": "08040814671867660929"
     },
     "user_tz": -180
    },
    "id": "J6h5PWZqwHq0",
    "outputId": "3aff7f04-b48d-4b43-94ed-c51528ddb538"
   },
   "outputs": [
    {
     "name": "stdout",
     "output_type": "stream",
     "text": [
      "Epoch 1/500\n",
      "15/15 [==============================] - 0s 8ms/step - loss: 0.6702 - accuracy: 0.5626 - val_loss: 0.6523 - val_accuracy: 0.7632\n",
      "Epoch 2/500\n",
      "15/15 [==============================] - 0s 2ms/step - loss: 0.6397 - accuracy: 0.8308 - val_loss: 0.6160 - val_accuracy: 0.8509\n",
      "Epoch 3/500\n",
      "15/15 [==============================] - 0s 2ms/step - loss: 0.6024 - accuracy: 0.8857 - val_loss: 0.5768 - val_accuracy: 0.8421\n",
      "Epoch 4/500\n",
      "15/15 [==============================] - 0s 2ms/step - loss: 0.5648 - accuracy: 0.8725 - val_loss: 0.5349 - val_accuracy: 0.8860\n",
      "Epoch 5/500\n",
      "15/15 [==============================] - 0s 2ms/step - loss: 0.5244 - accuracy: 0.9011 - val_loss: 0.4899 - val_accuracy: 0.8947\n",
      "Epoch 6/500\n",
      "15/15 [==============================] - 0s 2ms/step - loss: 0.4777 - accuracy: 0.8967 - val_loss: 0.4397 - val_accuracy: 0.9035\n",
      "Epoch 7/500\n",
      "15/15 [==============================] - 0s 2ms/step - loss: 0.4305 - accuracy: 0.9033 - val_loss: 0.3921 - val_accuracy: 0.9123\n",
      "Epoch 8/500\n",
      "15/15 [==============================] - 0s 2ms/step - loss: 0.3883 - accuracy: 0.9209 - val_loss: 0.3501 - val_accuracy: 0.9298\n",
      "Epoch 9/500\n",
      "15/15 [==============================] - 0s 2ms/step - loss: 0.3500 - accuracy: 0.9077 - val_loss: 0.3136 - val_accuracy: 0.9298\n",
      "Epoch 10/500\n",
      "15/15 [==============================] - 0s 2ms/step - loss: 0.3137 - accuracy: 0.9165 - val_loss: 0.2823 - val_accuracy: 0.9386\n",
      "Epoch 11/500\n",
      "15/15 [==============================] - 0s 2ms/step - loss: 0.2848 - accuracy: 0.9253 - val_loss: 0.2560 - val_accuracy: 0.9474\n",
      "Epoch 12/500\n",
      "15/15 [==============================] - 0s 2ms/step - loss: 0.2616 - accuracy: 0.9165 - val_loss: 0.2332 - val_accuracy: 0.9474\n",
      "Epoch 13/500\n",
      "15/15 [==============================] - 0s 2ms/step - loss: 0.2406 - accuracy: 0.9297 - val_loss: 0.2127 - val_accuracy: 0.9474\n",
      "Epoch 14/500\n",
      "15/15 [==============================] - 0s 2ms/step - loss: 0.2205 - accuracy: 0.9297 - val_loss: 0.1965 - val_accuracy: 0.9386\n",
      "Epoch 15/500\n",
      "15/15 [==============================] - 0s 2ms/step - loss: 0.2048 - accuracy: 0.9319 - val_loss: 0.1828 - val_accuracy: 0.9298\n",
      "Epoch 16/500\n",
      "15/15 [==============================] - 0s 2ms/step - loss: 0.1919 - accuracy: 0.9385 - val_loss: 0.1713 - val_accuracy: 0.9474\n",
      "Epoch 17/500\n",
      "15/15 [==============================] - 0s 2ms/step - loss: 0.1806 - accuracy: 0.9429 - val_loss: 0.1614 - val_accuracy: 0.9386\n",
      "Epoch 18/500\n",
      "15/15 [==============================] - 0s 2ms/step - loss: 0.1722 - accuracy: 0.9538 - val_loss: 0.1510 - val_accuracy: 0.9474\n",
      "Epoch 19/500\n",
      "15/15 [==============================] - 0s 2ms/step - loss: 0.1622 - accuracy: 0.9473 - val_loss: 0.1434 - val_accuracy: 0.9474\n",
      "Epoch 20/500\n",
      "15/15 [==============================] - 0s 2ms/step - loss: 0.1552 - accuracy: 0.9538 - val_loss: 0.1363 - val_accuracy: 0.9561\n",
      "Epoch 21/500\n",
      "15/15 [==============================] - 0s 2ms/step - loss: 0.1471 - accuracy: 0.9560 - val_loss: 0.1308 - val_accuracy: 0.9561\n",
      "Epoch 22/500\n",
      "15/15 [==============================] - 0s 2ms/step - loss: 0.1421 - accuracy: 0.9560 - val_loss: 0.1249 - val_accuracy: 0.9561\n",
      "Epoch 23/500\n",
      "15/15 [==============================] - 0s 2ms/step - loss: 0.1340 - accuracy: 0.9604 - val_loss: 0.1217 - val_accuracy: 0.9737\n",
      "Epoch 24/500\n",
      "15/15 [==============================] - 0s 2ms/step - loss: 0.1284 - accuracy: 0.9626 - val_loss: 0.1165 - val_accuracy: 0.9737\n",
      "Epoch 25/500\n",
      "15/15 [==============================] - 0s 2ms/step - loss: 0.1245 - accuracy: 0.9670 - val_loss: 0.1121 - val_accuracy: 0.9737\n",
      "Epoch 26/500\n",
      "15/15 [==============================] - 0s 2ms/step - loss: 0.1204 - accuracy: 0.9670 - val_loss: 0.1078 - val_accuracy: 0.9649\n",
      "Epoch 27/500\n",
      "15/15 [==============================] - 0s 2ms/step - loss: 0.1145 - accuracy: 0.9648 - val_loss: 0.1073 - val_accuracy: 0.9737\n",
      "Epoch 28/500\n",
      "15/15 [==============================] - 0s 2ms/step - loss: 0.1112 - accuracy: 0.9714 - val_loss: 0.1020 - val_accuracy: 0.9737\n",
      "Epoch 29/500\n",
      "15/15 [==============================] - 0s 2ms/step - loss: 0.1071 - accuracy: 0.9758 - val_loss: 0.1021 - val_accuracy: 0.9737\n",
      "Epoch 30/500\n",
      "15/15 [==============================] - 0s 2ms/step - loss: 0.1060 - accuracy: 0.9648 - val_loss: 0.0969 - val_accuracy: 0.9737\n",
      "Epoch 31/500\n",
      "15/15 [==============================] - 0s 2ms/step - loss: 0.1016 - accuracy: 0.9758 - val_loss: 0.0975 - val_accuracy: 0.9737\n",
      "Epoch 32/500\n",
      "15/15 [==============================] - 0s 2ms/step - loss: 0.0996 - accuracy: 0.9758 - val_loss: 0.0934 - val_accuracy: 0.9737\n",
      "Epoch 33/500\n",
      "15/15 [==============================] - 0s 2ms/step - loss: 0.0972 - accuracy: 0.9736 - val_loss: 0.0937 - val_accuracy: 0.9737\n",
      "Epoch 34/500\n",
      "15/15 [==============================] - 0s 2ms/step - loss: 0.0944 - accuracy: 0.9802 - val_loss: 0.0900 - val_accuracy: 0.9737\n",
      "Epoch 35/500\n",
      "15/15 [==============================] - 0s 2ms/step - loss: 0.0920 - accuracy: 0.9758 - val_loss: 0.0878 - val_accuracy: 0.9737\n",
      "Epoch 36/500\n",
      "15/15 [==============================] - 0s 2ms/step - loss: 0.0886 - accuracy: 0.9780 - val_loss: 0.0877 - val_accuracy: 0.9737\n",
      "Epoch 37/500\n",
      "15/15 [==============================] - 0s 2ms/step - loss: 0.0859 - accuracy: 0.9802 - val_loss: 0.0841 - val_accuracy: 0.9737\n",
      "Epoch 38/500\n",
      "15/15 [==============================] - 0s 2ms/step - loss: 0.0844 - accuracy: 0.9780 - val_loss: 0.0856 - val_accuracy: 0.9737\n",
      "Epoch 39/500\n",
      "15/15 [==============================] - 0s 2ms/step - loss: 0.0826 - accuracy: 0.9846 - val_loss: 0.0826 - val_accuracy: 0.9737\n",
      "Epoch 40/500\n",
      "15/15 [==============================] - 0s 2ms/step - loss: 0.0814 - accuracy: 0.9802 - val_loss: 0.0830 - val_accuracy: 0.9737\n",
      "Epoch 41/500\n",
      "15/15 [==============================] - 0s 828us/step - loss: 0.0808 - accuracy: 0.9846 - val_loss: 0.0804 - val_accuracy: 0.9737\n",
      "Epoch 42/500\n",
      "15/15 [==============================] - 0s 2ms/step - loss: 0.0781 - accuracy: 0.9824 - val_loss: 0.0844 - val_accuracy: 0.9737\n",
      "Epoch 43/500\n",
      "15/15 [==============================] - 0s 2ms/step - loss: 0.0785 - accuracy: 0.9824 - val_loss: 0.0781 - val_accuracy: 0.9737\n",
      "Epoch 44/500\n",
      "15/15 [==============================] - 0s 2ms/step - loss: 0.0755 - accuracy: 0.9846 - val_loss: 0.0794 - val_accuracy: 0.9737\n",
      "Epoch 45/500\n",
      "15/15 [==============================] - 0s 2ms/step - loss: 0.0730 - accuracy: 0.9846 - val_loss: 0.0771 - val_accuracy: 0.9737\n",
      "Epoch 46/500\n",
      "15/15 [==============================] - 0s 2ms/step - loss: 0.0722 - accuracy: 0.9868 - val_loss: 0.0771 - val_accuracy: 0.9737\n",
      "Epoch 47/500\n",
      "15/15 [==============================] - 0s 2ms/step - loss: 0.0728 - accuracy: 0.9824 - val_loss: 0.0754 - val_accuracy: 0.9737\n",
      "Epoch 48/500\n",
      "15/15 [==============================] - 0s 2ms/step - loss: 0.0714 - accuracy: 0.9802 - val_loss: 0.0763 - val_accuracy: 0.9737\n",
      "Epoch 49/500\n",
      "15/15 [==============================] - 0s 2ms/step - loss: 0.0693 - accuracy: 0.9846 - val_loss: 0.0741 - val_accuracy: 0.9737\n",
      "Epoch 50/500\n",
      "15/15 [==============================] - 0s 2ms/step - loss: 0.0676 - accuracy: 0.9868 - val_loss: 0.0741 - val_accuracy: 0.9737\n",
      "Epoch 51/500\n",
      "15/15 [==============================] - 0s 2ms/step - loss: 0.0660 - accuracy: 0.9868 - val_loss: 0.0745 - val_accuracy: 0.9737\n",
      "Epoch 52/500\n",
      "15/15 [==============================] - 0s 2ms/step - loss: 0.0669 - accuracy: 0.9890 - val_loss: 0.0714 - val_accuracy: 0.9737\n",
      "Epoch 53/500\n",
      "15/15 [==============================] - 0s 2ms/step - loss: 0.0644 - accuracy: 0.9868 - val_loss: 0.0763 - val_accuracy: 0.9737\n",
      "Epoch 54/500\n",
      "15/15 [==============================] - 0s 2ms/step - loss: 0.0647 - accuracy: 0.9824 - val_loss: 0.0723 - val_accuracy: 0.9737\n",
      "Epoch 55/500\n",
      "15/15 [==============================] - 0s 2ms/step - loss: 0.0630 - accuracy: 0.9890 - val_loss: 0.0712 - val_accuracy: 0.9737\n",
      "Epoch 56/500\n",
      "15/15 [==============================] - 0s 2ms/step - loss: 0.0640 - accuracy: 0.9868 - val_loss: 0.0737 - val_accuracy: 0.9737\n",
      "Epoch 57/500\n",
      "15/15 [==============================] - 0s 2ms/step - loss: 0.0611 - accuracy: 0.9868 - val_loss: 0.0696 - val_accuracy: 0.9737\n",
      "Epoch 58/500\n",
      "15/15 [==============================] - 0s 2ms/step - loss: 0.0604 - accuracy: 0.9890 - val_loss: 0.0727 - val_accuracy: 0.9737\n"
     ]
    },
    {
     "name": "stdout",
     "output_type": "stream",
     "text": [
      "Epoch 59/500\n",
      "15/15 [==============================] - 0s 2ms/step - loss: 0.0590 - accuracy: 0.9868 - val_loss: 0.0703 - val_accuracy: 0.9737\n",
      "Epoch 60/500\n",
      "15/15 [==============================] - 0s 2ms/step - loss: 0.0607 - accuracy: 0.9912 - val_loss: 0.0754 - val_accuracy: 0.9737\n",
      "Epoch 61/500\n",
      "15/15 [==============================] - 0s 2ms/step - loss: 0.0605 - accuracy: 0.9780 - val_loss: 0.0681 - val_accuracy: 0.9737\n",
      "Epoch 62/500\n",
      "15/15 [==============================] - 0s 2ms/step - loss: 0.0594 - accuracy: 0.9824 - val_loss: 0.0720 - val_accuracy: 0.9737\n",
      "Epoch 63/500\n",
      "15/15 [==============================] - 0s 2ms/step - loss: 0.0567 - accuracy: 0.9868 - val_loss: 0.0677 - val_accuracy: 0.9737\n",
      "Epoch 64/500\n",
      "15/15 [==============================] - 0s 2ms/step - loss: 0.0574 - accuracy: 0.9868 - val_loss: 0.0692 - val_accuracy: 0.9737\n",
      "Epoch 65/500\n",
      "15/15 [==============================] - 0s 2ms/step - loss: 0.0562 - accuracy: 0.9868 - val_loss: 0.0684 - val_accuracy: 0.9737\n",
      "Epoch 66/500\n",
      "15/15 [==============================] - 0s 2ms/step - loss: 0.0547 - accuracy: 0.9868 - val_loss: 0.0686 - val_accuracy: 0.9737\n",
      "Epoch 67/500\n",
      "15/15 [==============================] - 0s 2ms/step - loss: 0.0543 - accuracy: 0.9890 - val_loss: 0.0664 - val_accuracy: 0.9737\n",
      "Epoch 68/500\n",
      "15/15 [==============================] - 0s 2ms/step - loss: 0.0531 - accuracy: 0.9912 - val_loss: 0.0718 - val_accuracy: 0.9737\n",
      "Epoch 69/500\n",
      "15/15 [==============================] - 0s 2ms/step - loss: 0.0541 - accuracy: 0.9868 - val_loss: 0.0681 - val_accuracy: 0.9737\n",
      "Epoch 70/500\n",
      "15/15 [==============================] - 0s 2ms/step - loss: 0.0557 - accuracy: 0.9824 - val_loss: 0.0681 - val_accuracy: 0.9737\n",
      "Epoch 71/500\n",
      "15/15 [==============================] - 0s 2ms/step - loss: 0.0523 - accuracy: 0.9890 - val_loss: 0.0675 - val_accuracy: 0.9737\n",
      "Epoch 72/500\n",
      "15/15 [==============================] - 0s 2ms/step - loss: 0.0528 - accuracy: 0.9868 - val_loss: 0.0678 - val_accuracy: 0.9737\n",
      "Epoch 73/500\n",
      "15/15 [==============================] - 0s 2ms/step - loss: 0.0522 - accuracy: 0.9912 - val_loss: 0.0674 - val_accuracy: 0.9737\n",
      "Epoch 74/500\n",
      "15/15 [==============================] - 0s 2ms/step - loss: 0.0507 - accuracy: 0.9912 - val_loss: 0.0657 - val_accuracy: 0.9737\n",
      "Epoch 75/500\n",
      "15/15 [==============================] - 0s 2ms/step - loss: 0.0506 - accuracy: 0.9868 - val_loss: 0.0700 - val_accuracy: 0.9737\n",
      "Epoch 76/500\n",
      "15/15 [==============================] - 0s 2ms/step - loss: 0.0501 - accuracy: 0.9890 - val_loss: 0.0671 - val_accuracy: 0.9737\n",
      "Epoch 77/500\n",
      "15/15 [==============================] - 0s 2ms/step - loss: 0.0489 - accuracy: 0.9912 - val_loss: 0.0679 - val_accuracy: 0.9737\n",
      "Epoch 78/500\n",
      "15/15 [==============================] - 0s 2ms/step - loss: 0.0502 - accuracy: 0.9890 - val_loss: 0.0662 - val_accuracy: 0.9737\n",
      "Epoch 79/500\n",
      "15/15 [==============================] - 0s 2ms/step - loss: 0.0487 - accuracy: 0.9890 - val_loss: 0.0687 - val_accuracy: 0.9737\n",
      "Epoch 80/500\n",
      "15/15 [==============================] - 0s 2ms/step - loss: 0.0481 - accuracy: 0.9868 - val_loss: 0.0650 - val_accuracy: 0.9737\n",
      "Epoch 81/500\n",
      "15/15 [==============================] - 0s 2ms/step - loss: 0.0475 - accuracy: 0.9912 - val_loss: 0.0695 - val_accuracy: 0.9737\n",
      "Epoch 82/500\n",
      "15/15 [==============================] - 0s 2ms/step - loss: 0.0496 - accuracy: 0.9868 - val_loss: 0.0637 - val_accuracy: 0.9649\n",
      "Epoch 83/500\n",
      "15/15 [==============================] - 0s 2ms/step - loss: 0.0487 - accuracy: 0.9868 - val_loss: 0.0700 - val_accuracy: 0.9737\n",
      "Epoch 84/500\n",
      "15/15 [==============================] - 0s 2ms/step - loss: 0.0484 - accuracy: 0.9868 - val_loss: 0.0642 - val_accuracy: 0.9737\n",
      "Epoch 85/500\n",
      "15/15 [==============================] - 0s 2ms/step - loss: 0.0471 - accuracy: 0.9890 - val_loss: 0.0641 - val_accuracy: 0.9737\n",
      "Epoch 86/500\n",
      "15/15 [==============================] - 0s 2ms/step - loss: 0.0458 - accuracy: 0.9912 - val_loss: 0.0657 - val_accuracy: 0.9737\n",
      "Epoch 87/500\n",
      "15/15 [==============================] - 0s 2ms/step - loss: 0.0463 - accuracy: 0.9846 - val_loss: 0.0635 - val_accuracy: 0.9737\n",
      "Epoch 88/500\n",
      "15/15 [==============================] - 0s 2ms/step - loss: 0.0469 - accuracy: 0.9890 - val_loss: 0.0690 - val_accuracy: 0.9737\n",
      "Epoch 89/500\n",
      "15/15 [==============================] - 0s 2ms/step - loss: 0.0447 - accuracy: 0.9912 - val_loss: 0.0649 - val_accuracy: 0.9737\n",
      "Epoch 90/500\n",
      "15/15 [==============================] - 0s 2ms/step - loss: 0.0451 - accuracy: 0.9912 - val_loss: 0.0683 - val_accuracy: 0.9737\n",
      "Epoch 91/500\n",
      "15/15 [==============================] - 0s 2ms/step - loss: 0.0450 - accuracy: 0.9890 - val_loss: 0.0643 - val_accuracy: 0.9737\n",
      "Epoch 92/500\n",
      "15/15 [==============================] - 0s 2ms/step - loss: 0.0453 - accuracy: 0.9868 - val_loss: 0.0632 - val_accuracy: 0.9737\n",
      "Epoch 93/500\n",
      "15/15 [==============================] - 0s 2ms/step - loss: 0.0440 - accuracy: 0.9912 - val_loss: 0.0649 - val_accuracy: 0.9737\n",
      "Epoch 94/500\n",
      "15/15 [==============================] - 0s 2ms/step - loss: 0.0442 - accuracy: 0.9868 - val_loss: 0.0635 - val_accuracy: 0.9737\n",
      "Epoch 95/500\n",
      "15/15 [==============================] - 0s 2ms/step - loss: 0.0466 - accuracy: 0.9868 - val_loss: 0.0742 - val_accuracy: 0.9737\n",
      "Epoch 96/500\n",
      "15/15 [==============================] - 0s 2ms/step - loss: 0.0451 - accuracy: 0.9890 - val_loss: 0.0639 - val_accuracy: 0.9737\n",
      "Epoch 97/500\n",
      "15/15 [==============================] - 0s 2ms/step - loss: 0.0422 - accuracy: 0.9934 - val_loss: 0.0672 - val_accuracy: 0.9737\n",
      "Epoch 98/500\n",
      "15/15 [==============================] - 0s 2ms/step - loss: 0.0428 - accuracy: 0.9890 - val_loss: 0.0627 - val_accuracy: 0.9649\n",
      "Epoch 99/500\n",
      "15/15 [==============================] - 0s 2ms/step - loss: 0.0425 - accuracy: 0.9890 - val_loss: 0.0630 - val_accuracy: 0.9737\n",
      "Epoch 100/500\n",
      "15/15 [==============================] - 0s 2ms/step - loss: 0.0426 - accuracy: 0.9912 - val_loss: 0.0639 - val_accuracy: 0.9737\n",
      "Epoch 101/500\n",
      "15/15 [==============================] - 0s 2ms/step - loss: 0.0419 - accuracy: 0.9912 - val_loss: 0.0688 - val_accuracy: 0.9737\n",
      "Epoch 102/500\n",
      "15/15 [==============================] - 0s 2ms/step - loss: 0.0417 - accuracy: 0.9890 - val_loss: 0.0646 - val_accuracy: 0.9737\n",
      "Epoch 103/500\n",
      "15/15 [==============================] - 0s 2ms/step - loss: 0.0407 - accuracy: 0.9890 - val_loss: 0.0647 - val_accuracy: 0.9737\n",
      "Epoch 104/500\n",
      "15/15 [==============================] - 0s 2ms/step - loss: 0.0441 - accuracy: 0.9868 - val_loss: 0.0690 - val_accuracy: 0.9737\n",
      "Epoch 105/500\n",
      "15/15 [==============================] - 0s 1ms/step - loss: 0.0419 - accuracy: 0.9890 - val_loss: 0.0659 - val_accuracy: 0.9737\n",
      "Epoch 106/500\n",
      "15/15 [==============================] - 0s 2ms/step - loss: 0.0409 - accuracy: 0.9934 - val_loss: 0.0666 - val_accuracy: 0.9737\n",
      "Epoch 107/500\n",
      "15/15 [==============================] - 0s 2ms/step - loss: 0.0399 - accuracy: 0.9912 - val_loss: 0.0658 - val_accuracy: 0.9737\n",
      "Epoch 108/500\n",
      "15/15 [==============================] - 0s 2ms/step - loss: 0.0414 - accuracy: 0.9890 - val_loss: 0.0681 - val_accuracy: 0.9737\n",
      "Epoch 109/500\n",
      "15/15 [==============================] - 0s 2ms/step - loss: 0.0406 - accuracy: 0.9890 - val_loss: 0.0627 - val_accuracy: 0.9737\n",
      "Epoch 110/500\n",
      "15/15 [==============================] - 0s 2ms/step - loss: 0.0391 - accuracy: 0.9890 - val_loss: 0.0662 - val_accuracy: 0.9737\n",
      "Epoch 111/500\n",
      "15/15 [==============================] - 0s 2ms/step - loss: 0.0401 - accuracy: 0.9912 - val_loss: 0.0659 - val_accuracy: 0.9737\n",
      "Epoch 112/500\n",
      "15/15 [==============================] - 0s 2ms/step - loss: 0.0422 - accuracy: 0.9890 - val_loss: 0.0738 - val_accuracy: 0.9737\n",
      "Epoch 113/500\n",
      "15/15 [==============================] - 0s 1ms/step - loss: 0.0392 - accuracy: 0.9868 - val_loss: 0.0625 - val_accuracy: 0.9649\n",
      "Epoch 114/500\n",
      "15/15 [==============================] - 0s 2ms/step - loss: 0.0409 - accuracy: 0.9890 - val_loss: 0.0689 - val_accuracy: 0.9737\n",
      "Epoch 115/500\n",
      "15/15 [==============================] - 0s 2ms/step - loss: 0.0386 - accuracy: 0.9868 - val_loss: 0.0622 - val_accuracy: 0.9737\n",
      "Epoch 116/500\n"
     ]
    },
    {
     "name": "stdout",
     "output_type": "stream",
     "text": [
      "15/15 [==============================] - 0s 2ms/step - loss: 0.0385 - accuracy: 0.9934 - val_loss: 0.0630 - val_accuracy: 0.9737\n",
      "Epoch 117/500\n",
      "15/15 [==============================] - 0s 2ms/step - loss: 0.0376 - accuracy: 0.9934 - val_loss: 0.0659 - val_accuracy: 0.9737\n",
      "Epoch 118/500\n",
      "15/15 [==============================] - 0s 2ms/step - loss: 0.0389 - accuracy: 0.9890 - val_loss: 0.0624 - val_accuracy: 0.9649\n",
      "Epoch 119/500\n",
      "15/15 [==============================] - 0s 2ms/step - loss: 0.0375 - accuracy: 0.9934 - val_loss: 0.0645 - val_accuracy: 0.9737\n",
      "Epoch 120/500\n",
      "15/15 [==============================] - 0s 2ms/step - loss: 0.0383 - accuracy: 0.9890 - val_loss: 0.0634 - val_accuracy: 0.9737\n",
      "Epoch 121/500\n",
      "15/15 [==============================] - 0s 2ms/step - loss: 0.0371 - accuracy: 0.9934 - val_loss: 0.0653 - val_accuracy: 0.9737\n",
      "Epoch 122/500\n",
      "15/15 [==============================] - 0s 2ms/step - loss: 0.0374 - accuracy: 0.9890 - val_loss: 0.0639 - val_accuracy: 0.9737\n",
      "Epoch 123/500\n",
      "15/15 [==============================] - 0s 2ms/step - loss: 0.0368 - accuracy: 0.9934 - val_loss: 0.0646 - val_accuracy: 0.9737\n",
      "Epoch 124/500\n",
      "15/15 [==============================] - 0s 2ms/step - loss: 0.0369 - accuracy: 0.9890 - val_loss: 0.0713 - val_accuracy: 0.9737\n",
      "Epoch 125/500\n",
      "15/15 [==============================] - 0s 2ms/step - loss: 0.0362 - accuracy: 0.9912 - val_loss: 0.0618 - val_accuracy: 0.9649\n",
      "Epoch 126/500\n",
      "15/15 [==============================] - 0s 2ms/step - loss: 0.0359 - accuracy: 0.9912 - val_loss: 0.0687 - val_accuracy: 0.9737\n",
      "Epoch 127/500\n",
      "15/15 [==============================] - 0s 2ms/step - loss: 0.0363 - accuracy: 0.9890 - val_loss: 0.0621 - val_accuracy: 0.9649\n",
      "Epoch 128/500\n",
      "15/15 [==============================] - 0s 2ms/step - loss: 0.0385 - accuracy: 0.9934 - val_loss: 0.0699 - val_accuracy: 0.9737\n",
      "Epoch 129/500\n",
      "15/15 [==============================] - 0s 2ms/step - loss: 0.0356 - accuracy: 0.9912 - val_loss: 0.0617 - val_accuracy: 0.9649\n",
      "Epoch 130/500\n",
      "15/15 [==============================] - 0s 2ms/step - loss: 0.0353 - accuracy: 0.9934 - val_loss: 0.0738 - val_accuracy: 0.9649\n",
      "Epoch 131/500\n",
      "15/15 [==============================] - 0s 2ms/step - loss: 0.0361 - accuracy: 0.9912 - val_loss: 0.0639 - val_accuracy: 0.9737\n",
      "Epoch 132/500\n",
      "15/15 [==============================] - 0s 2ms/step - loss: 0.0348 - accuracy: 0.9912 - val_loss: 0.0663 - val_accuracy: 0.9737\n",
      "Epoch 133/500\n",
      "15/15 [==============================] - 0s 2ms/step - loss: 0.0361 - accuracy: 0.9912 - val_loss: 0.0662 - val_accuracy: 0.9737\n",
      "Epoch 134/500\n",
      "15/15 [==============================] - 0s 2ms/step - loss: 0.0344 - accuracy: 0.9912 - val_loss: 0.0688 - val_accuracy: 0.9737\n",
      "Epoch 135/500\n",
      "15/15 [==============================] - 0s 2ms/step - loss: 0.0343 - accuracy: 0.9912 - val_loss: 0.0658 - val_accuracy: 0.9737\n",
      "Epoch 136/500\n",
      "15/15 [==============================] - 0s 2ms/step - loss: 0.0385 - accuracy: 0.9868 - val_loss: 0.0638 - val_accuracy: 0.9737\n",
      "Epoch 137/500\n",
      "15/15 [==============================] - 0s 2ms/step - loss: 0.0358 - accuracy: 0.9912 - val_loss: 0.0726 - val_accuracy: 0.9649\n",
      "Epoch 138/500\n",
      "15/15 [==============================] - 0s 2ms/step - loss: 0.0342 - accuracy: 0.9890 - val_loss: 0.0629 - val_accuracy: 0.9737\n",
      "Epoch 139/500\n",
      "15/15 [==============================] - 0s 2ms/step - loss: 0.0347 - accuracy: 0.9912 - val_loss: 0.0688 - val_accuracy: 0.9737\n",
      "Epoch 140/500\n",
      "15/15 [==============================] - 0s 2ms/step - loss: 0.0337 - accuracy: 0.9912 - val_loss: 0.0650 - val_accuracy: 0.9737\n",
      "Epoch 141/500\n",
      "15/15 [==============================] - 0s 2ms/step - loss: 0.0335 - accuracy: 0.9934 - val_loss: 0.0654 - val_accuracy: 0.9737\n",
      "Epoch 142/500\n",
      "15/15 [==============================] - 0s 2ms/step - loss: 0.0334 - accuracy: 0.9912 - val_loss: 0.0664 - val_accuracy: 0.9737\n",
      "Epoch 143/500\n",
      "15/15 [==============================] - 0s 2ms/step - loss: 0.0352 - accuracy: 0.9890 - val_loss: 0.0650 - val_accuracy: 0.9737\n",
      "Epoch 144/500\n",
      "15/15 [==============================] - 0s 2ms/step - loss: 0.0342 - accuracy: 0.9912 - val_loss: 0.0658 - val_accuracy: 0.9737\n",
      "Epoch 00144: early stopping\n"
     ]
    },
    {
     "data": {
      "text/plain": [
       "<tensorflow.python.keras.callbacks.History at 0x259c9f698e0>"
      ]
     },
     "execution_count": 31,
     "metadata": {},
     "output_type": "execute_result"
    }
   ],
   "source": [
    "model.fit(x=X_train, y=y_train, epochs=500, validation_data=(X_test,y_test), verbose=1, callbacks=early_stop)"
   ]
  },
  {
   "cell_type": "code",
   "execution_count": 32,
   "metadata": {
    "colab": {
     "base_uri": "https://localhost:8080/",
     "height": 282
    },
    "executionInfo": {
     "elapsed": 1014,
     "status": "ok",
     "timestamp": 1610206228126,
     "user": {
      "displayName": "Richard C",
      "photoUrl": "",
      "userId": "08040814671867660929"
     },
     "user_tz": -180
    },
    "id": "_y5lzpn-xKkj",
    "outputId": "3609ecfe-1c67-42d2-b308-850b014969bc"
   },
   "outputs": [
    {
     "data": {
      "text/html": [
       "<div>\n",
       "<style scoped>\n",
       "    .dataframe tbody tr th:only-of-type {\n",
       "        vertical-align: middle;\n",
       "    }\n",
       "\n",
       "    .dataframe tbody tr th {\n",
       "        vertical-align: top;\n",
       "    }\n",
       "\n",
       "    .dataframe thead th {\n",
       "        text-align: right;\n",
       "    }\n",
       "</style>\n",
       "<table border=\"1\" class=\"dataframe\">\n",
       "  <thead>\n",
       "    <tr style=\"text-align: right;\">\n",
       "      <th></th>\n",
       "      <th>loss</th>\n",
       "      <th>accuracy</th>\n",
       "      <th>val_loss</th>\n",
       "      <th>val_accuracy</th>\n",
       "    </tr>\n",
       "  </thead>\n",
       "  <tbody>\n",
       "    <tr>\n",
       "      <th>0</th>\n",
       "      <td>0.670</td>\n",
       "      <td>0.563</td>\n",
       "      <td>0.652</td>\n",
       "      <td>0.763</td>\n",
       "    </tr>\n",
       "    <tr>\n",
       "      <th>1</th>\n",
       "      <td>0.640</td>\n",
       "      <td>0.831</td>\n",
       "      <td>0.616</td>\n",
       "      <td>0.851</td>\n",
       "    </tr>\n",
       "    <tr>\n",
       "      <th>2</th>\n",
       "      <td>0.602</td>\n",
       "      <td>0.886</td>\n",
       "      <td>0.577</td>\n",
       "      <td>0.842</td>\n",
       "    </tr>\n",
       "    <tr>\n",
       "      <th>3</th>\n",
       "      <td>0.565</td>\n",
       "      <td>0.873</td>\n",
       "      <td>0.535</td>\n",
       "      <td>0.886</td>\n",
       "    </tr>\n",
       "    <tr>\n",
       "      <th>4</th>\n",
       "      <td>0.524</td>\n",
       "      <td>0.901</td>\n",
       "      <td>0.490</td>\n",
       "      <td>0.895</td>\n",
       "    </tr>\n",
       "    <tr>\n",
       "      <th>...</th>\n",
       "      <td>...</td>\n",
       "      <td>...</td>\n",
       "      <td>...</td>\n",
       "      <td>...</td>\n",
       "    </tr>\n",
       "    <tr>\n",
       "      <th>139</th>\n",
       "      <td>0.034</td>\n",
       "      <td>0.991</td>\n",
       "      <td>0.065</td>\n",
       "      <td>0.974</td>\n",
       "    </tr>\n",
       "    <tr>\n",
       "      <th>140</th>\n",
       "      <td>0.034</td>\n",
       "      <td>0.993</td>\n",
       "      <td>0.065</td>\n",
       "      <td>0.974</td>\n",
       "    </tr>\n",
       "    <tr>\n",
       "      <th>141</th>\n",
       "      <td>0.033</td>\n",
       "      <td>0.991</td>\n",
       "      <td>0.066</td>\n",
       "      <td>0.974</td>\n",
       "    </tr>\n",
       "    <tr>\n",
       "      <th>142</th>\n",
       "      <td>0.035</td>\n",
       "      <td>0.989</td>\n",
       "      <td>0.065</td>\n",
       "      <td>0.974</td>\n",
       "    </tr>\n",
       "    <tr>\n",
       "      <th>143</th>\n",
       "      <td>0.034</td>\n",
       "      <td>0.991</td>\n",
       "      <td>0.066</td>\n",
       "      <td>0.974</td>\n",
       "    </tr>\n",
       "  </tbody>\n",
       "</table>\n",
       "<p>144 rows × 4 columns</p>\n",
       "</div>"
      ],
      "text/plain": [
       "     loss  accuracy  val_loss  val_accuracy\n",
       "0   0.670     0.563     0.652         0.763\n",
       "1   0.640     0.831     0.616         0.851\n",
       "2   0.602     0.886     0.577         0.842\n",
       "3   0.565     0.873     0.535         0.886\n",
       "4   0.524     0.901     0.490         0.895\n",
       "..    ...       ...       ...           ...\n",
       "139 0.034     0.991     0.065         0.974\n",
       "140 0.034     0.993     0.065         0.974\n",
       "141 0.033     0.991     0.066         0.974\n",
       "142 0.035     0.989     0.065         0.974\n",
       "143 0.034     0.991     0.066         0.974\n",
       "\n",
       "[144 rows x 4 columns]"
      ]
     },
     "execution_count": 32,
     "metadata": {},
     "output_type": "execute_result"
    }
   ],
   "source": [
    "model_losses=pd.DataFrame(model.history.history)\n",
    "model_losses"
   ]
  },
  {
   "cell_type": "code",
   "execution_count": 33,
   "metadata": {},
   "outputs": [
    {
     "data": {
      "image/png": "[encoded data removed]",
      "text/plain": [
       "<Figure size 864x432 with 1 Axes>"
      ]
     },
     "metadata": {},
     "output_type": "display_data"
    }
   ],
   "source": [
    "model_losses.plot();"
   ]
  },
  {
   "cell_type": "markdown",
   "metadata": {
    "id": "ZSiIoSQ2yxiB"
   },
   "source": [
    "* Dropout Layers"
   ]
  },
  {
   "cell_type": "code",
   "execution_count": 34,
   "metadata": {
    "executionInfo": {
     "elapsed": 763,
     "status": "ok",
     "timestamp": 1610206748175,
     "user": {
      "displayName": "Richard C",
      "photoUrl": "",
      "userId": "08040814671867660929"
     },
     "user_tz": -180
    },
    "id": "JRIThyJUyweN"
   },
   "outputs": [],
   "source": [
    "from tensorflow.keras.layers import Dropout"
   ]
  },
  {
   "cell_type": "code",
   "execution_count": 35,
   "metadata": {
    "executionInfo": {
     "elapsed": 799,
     "status": "ok",
     "timestamp": 1610207016041,
     "user": {
      "displayName": "Richard C",
      "photoUrl": "",
      "userId": "08040814671867660929"
     },
     "user_tz": -180
    },
    "id": "CJokLHStyr1h"
   },
   "outputs": [],
   "source": [
    "model = Sequential()\n",
    "\n",
    "model.add(Dense(24, activation=\"relu\"))\n",
    "model.add(Dropout(0.5))\n",
    "\n",
    "model.add(Dense(12, activation=\"relu\"))\n",
    "model.add(Dropout(0.5))\n",
    "\n",
    "model.add(Dense(1, activation=\"sigmoid\"))\n",
    "model.compile(loss=\"binary_crossentropy\", optimizer=\"adam\", metrics=\"accuracy\")"
   ]
  },
  {
   "cell_type": "code",
   "execution_count": 36,
   "metadata": {
    "colab": {
     "base_uri": "https://localhost:8080/"
    },
    "executionInfo": {
     "elapsed": 14714,
     "status": "ok",
     "timestamp": 1610207117278,
     "user": {
      "displayName": "Richard C",
      "photoUrl": "",
      "userId": "08040814671867660929"
     },
     "user_tz": -180
    },
    "id": "TeQ4lysU0XxP",
    "outputId": "c26f2bb6-5946-4ef4-a450-4718ab451bc0"
   },
   "outputs": [
    {
     "name": "stdout",
     "output_type": "stream",
     "text": [
      "Epoch 1/500\n",
      "15/15 [==============================] - 0s 8ms/step - loss: 0.7840 - accuracy: 0.4747 - val_loss: 0.7169 - val_accuracy: 0.3772\n",
      "Epoch 2/500\n",
      "15/15 [==============================] - 0s 2ms/step - loss: 0.6990 - accuracy: 0.5187 - val_loss: 0.6843 - val_accuracy: 0.3860\n",
      "Epoch 3/500\n",
      "15/15 [==============================] - 0s 2ms/step - loss: 0.6897 - accuracy: 0.5560 - val_loss: 0.6611 - val_accuracy: 0.7193\n",
      "Epoch 4/500\n",
      "15/15 [==============================] - 0s 2ms/step - loss: 0.6810 - accuracy: 0.5648 - val_loss: 0.6447 - val_accuracy: 0.8596\n",
      "Epoch 5/500\n",
      "15/15 [==============================] - 0s 2ms/step - loss: 0.6557 - accuracy: 0.6308 - val_loss: 0.6247 - val_accuracy: 0.7982\n",
      "Epoch 6/500\n",
      "15/15 [==============================] - 0s 2ms/step - loss: 0.6414 - accuracy: 0.6703 - val_loss: 0.6053 - val_accuracy: 0.7982\n",
      "Epoch 7/500\n",
      "15/15 [==============================] - 0s 1ms/step - loss: 0.6128 - accuracy: 0.6967 - val_loss: 0.5792 - val_accuracy: 0.8246\n",
      "Epoch 8/500\n",
      "15/15 [==============================] - 0s 2ms/step - loss: 0.6330 - accuracy: 0.6857 - val_loss: 0.5583 - val_accuracy: 0.9035\n",
      "Epoch 9/500\n",
      "15/15 [==============================] - 0s 2ms/step - loss: 0.6170 - accuracy: 0.6703 - val_loss: 0.5453 - val_accuracy: 0.9035\n",
      "Epoch 10/500\n",
      "15/15 [==============================] - 0s 2ms/step - loss: 0.5965 - accuracy: 0.7011 - val_loss: 0.5248 - val_accuracy: 0.8333\n",
      "Epoch 11/500\n",
      "15/15 [==============================] - 0s 2ms/step - loss: 0.5639 - accuracy: 0.7648 - val_loss: 0.4963 - val_accuracy: 0.8860\n",
      "Epoch 12/500\n",
      "15/15 [==============================] - 0s 2ms/step - loss: 0.5438 - accuracy: 0.7714 - val_loss: 0.4661 - val_accuracy: 0.8947\n",
      "Epoch 13/500\n",
      "15/15 [==============================] - 0s 2ms/step - loss: 0.5236 - accuracy: 0.7978 - val_loss: 0.4416 - val_accuracy: 0.9035\n",
      "Epoch 14/500\n",
      "15/15 [==============================] - 0s 2ms/step - loss: 0.5027 - accuracy: 0.7846 - val_loss: 0.4158 - val_accuracy: 0.8947\n",
      "Epoch 15/500\n",
      "15/15 [==============================] - 0s 2ms/step - loss: 0.4885 - accuracy: 0.8110 - val_loss: 0.3902 - val_accuracy: 0.9123\n",
      "Epoch 16/500\n",
      "15/15 [==============================] - 0s 2ms/step - loss: 0.4647 - accuracy: 0.8374 - val_loss: 0.3633 - val_accuracy: 0.9298\n",
      "Epoch 17/500\n",
      "15/15 [==============================] - 0s 2ms/step - loss: 0.4412 - accuracy: 0.8352 - val_loss: 0.3388 - val_accuracy: 0.9211\n",
      "Epoch 18/500\n",
      "15/15 [==============================] - 0s 2ms/step - loss: 0.4567 - accuracy: 0.8154 - val_loss: 0.3193 - val_accuracy: 0.9211\n",
      "Epoch 19/500\n",
      "15/15 [==============================] - 0s 2ms/step - loss: 0.4143 - accuracy: 0.8484 - val_loss: 0.2971 - val_accuracy: 0.9211\n",
      "Epoch 20/500\n",
      "15/15 [==============================] - 0s 2ms/step - loss: 0.4043 - accuracy: 0.8418 - val_loss: 0.2822 - val_accuracy: 0.9386\n",
      "Epoch 21/500\n",
      "15/15 [==============================] - 0s 2ms/step - loss: 0.3886 - accuracy: 0.8571 - val_loss: 0.2685 - val_accuracy: 0.9298\n",
      "Epoch 22/500\n",
      "15/15 [==============================] - 0s 2ms/step - loss: 0.3865 - accuracy: 0.8462 - val_loss: 0.2557 - val_accuracy: 0.9386\n",
      "Epoch 23/500\n",
      "15/15 [==============================] - 0s 2ms/step - loss: 0.3634 - accuracy: 0.8659 - val_loss: 0.2438 - val_accuracy: 0.9298\n",
      "Epoch 24/500\n",
      "15/15 [==============================] - 0s 2ms/step - loss: 0.3303 - accuracy: 0.8835 - val_loss: 0.2298 - val_accuracy: 0.9474\n",
      "Epoch 25/500\n",
      "15/15 [==============================] - 0s 2ms/step - loss: 0.3444 - accuracy: 0.8879 - val_loss: 0.2178 - val_accuracy: 0.9561\n",
      "Epoch 26/500\n",
      "15/15 [==============================] - 0s 2ms/step - loss: 0.3250 - accuracy: 0.8681 - val_loss: 0.2078 - val_accuracy: 0.9386\n",
      "Epoch 27/500\n",
      "15/15 [==============================] - 0s 2ms/step - loss: 0.3333 - accuracy: 0.8769 - val_loss: 0.2022 - val_accuracy: 0.9386\n",
      "Epoch 28/500\n",
      "15/15 [==============================] - 0s 2ms/step - loss: 0.3502 - accuracy: 0.8549 - val_loss: 0.1935 - val_accuracy: 0.9474\n",
      "Epoch 29/500\n",
      "15/15 [==============================] - 0s 2ms/step - loss: 0.3049 - accuracy: 0.9055 - val_loss: 0.1862 - val_accuracy: 0.9474\n",
      "Epoch 30/500\n",
      "15/15 [==============================] - 0s 2ms/step - loss: 0.3037 - accuracy: 0.8967 - val_loss: 0.1806 - val_accuracy: 0.9649\n",
      "Epoch 31/500\n",
      "15/15 [==============================] - 0s 2ms/step - loss: 0.2931 - accuracy: 0.8989 - val_loss: 0.1730 - val_accuracy: 0.9474\n",
      "Epoch 32/500\n",
      "15/15 [==============================] - 0s 2ms/step - loss: 0.2772 - accuracy: 0.9055 - val_loss: 0.1697 - val_accuracy: 0.9737\n",
      "Epoch 33/500\n",
      "15/15 [==============================] - 0s 2ms/step - loss: 0.2850 - accuracy: 0.8857 - val_loss: 0.1626 - val_accuracy: 0.9649\n",
      "Epoch 34/500\n",
      "15/15 [==============================] - 0s 2ms/step - loss: 0.2755 - accuracy: 0.9099 - val_loss: 0.1551 - val_accuracy: 0.9474\n",
      "Epoch 35/500\n",
      "15/15 [==============================] - 0s 2ms/step - loss: 0.2869 - accuracy: 0.8967 - val_loss: 0.1515 - val_accuracy: 0.9474\n",
      "Epoch 36/500\n",
      "15/15 [==============================] - 0s 2ms/step - loss: 0.2885 - accuracy: 0.8989 - val_loss: 0.1465 - val_accuracy: 0.9561\n",
      "Epoch 37/500\n",
      "15/15 [==============================] - 0s 2ms/step - loss: 0.2487 - accuracy: 0.9143 - val_loss: 0.1477 - val_accuracy: 0.9561\n",
      "Epoch 38/500\n",
      "15/15 [==============================] - 0s 2ms/step - loss: 0.2375 - accuracy: 0.9099 - val_loss: 0.1395 - val_accuracy: 0.9561\n",
      "Epoch 39/500\n",
      "15/15 [==============================] - 0s 2ms/step - loss: 0.2456 - accuracy: 0.9209 - val_loss: 0.1316 - val_accuracy: 0.9649\n",
      "Epoch 40/500\n",
      "15/15 [==============================] - 0s 2ms/step - loss: 0.2462 - accuracy: 0.9165 - val_loss: 0.1283 - val_accuracy: 0.9649\n",
      "Epoch 41/500\n",
      "15/15 [==============================] - 0s 2ms/step - loss: 0.2379 - accuracy: 0.9121 - val_loss: 0.1285 - val_accuracy: 0.9561\n",
      "Epoch 42/500\n",
      "15/15 [==============================] - 0s 2ms/step - loss: 0.2527 - accuracy: 0.8945 - val_loss: 0.1253 - val_accuracy: 0.9649\n",
      "Epoch 43/500\n",
      "15/15 [==============================] - 0s 2ms/step - loss: 0.2087 - accuracy: 0.9319 - val_loss: 0.1221 - val_accuracy: 0.9649\n",
      "Epoch 44/500\n",
      "15/15 [==============================] - 0s 2ms/step - loss: 0.2428 - accuracy: 0.9231 - val_loss: 0.1193 - val_accuracy: 0.9561\n",
      "Epoch 45/500\n",
      "15/15 [==============================] - 0s 2ms/step - loss: 0.2392 - accuracy: 0.9143 - val_loss: 0.1170 - val_accuracy: 0.9649\n",
      "Epoch 46/500\n",
      "15/15 [==============================] - 0s 2ms/step - loss: 0.2306 - accuracy: 0.9121 - val_loss: 0.1156 - val_accuracy: 0.9561\n",
      "Epoch 47/500\n",
      "15/15 [==============================] - 0s 2ms/step - loss: 0.2264 - accuracy: 0.9121 - val_loss: 0.1162 - val_accuracy: 0.9649\n",
      "Epoch 48/500\n",
      "15/15 [==============================] - 0s 2ms/step - loss: 0.2182 - accuracy: 0.9231 - val_loss: 0.1140 - val_accuracy: 0.9649\n",
      "Epoch 49/500\n",
      "15/15 [==============================] - 0s 2ms/step - loss: 0.2219 - accuracy: 0.9187 - val_loss: 0.1119 - val_accuracy: 0.9561\n",
      "Epoch 50/500\n",
      "15/15 [==============================] - 0s 2ms/step - loss: 0.2065 - accuracy: 0.9231 - val_loss: 0.1121 - val_accuracy: 0.9737\n",
      "Epoch 51/500\n",
      "15/15 [==============================] - 0s 2ms/step - loss: 0.2143 - accuracy: 0.9275 - val_loss: 0.1086 - val_accuracy: 0.9649\n",
      "Epoch 52/500\n",
      "15/15 [==============================] - 0s 2ms/step - loss: 0.2289 - accuracy: 0.9209 - val_loss: 0.1064 - val_accuracy: 0.9561\n",
      "Epoch 53/500\n",
      "15/15 [==============================] - 0s 2ms/step - loss: 0.1813 - accuracy: 0.9231 - val_loss: 0.1037 - val_accuracy: 0.9737\n",
      "Epoch 54/500\n",
      "15/15 [==============================] - 0s 2ms/step - loss: 0.2005 - accuracy: 0.9275 - val_loss: 0.1049 - val_accuracy: 0.9737\n",
      "Epoch 55/500\n",
      "15/15 [==============================] - 0s 2ms/step - loss: 0.1755 - accuracy: 0.9495 - val_loss: 0.0995 - val_accuracy: 0.9737\n",
      "Epoch 56/500\n",
      "15/15 [==============================] - 0s 2ms/step - loss: 0.1877 - accuracy: 0.9538 - val_loss: 0.0969 - val_accuracy: 0.9561\n",
      "Epoch 57/500\n",
      "15/15 [==============================] - 0s 2ms/step - loss: 0.1774 - accuracy: 0.9473 - val_loss: 0.0948 - val_accuracy: 0.9649\n",
      "Epoch 58/500\n",
      "15/15 [==============================] - 0s 2ms/step - loss: 0.1928 - accuracy: 0.9319 - val_loss: 0.0934 - val_accuracy: 0.9737\n"
     ]
    },
    {
     "name": "stdout",
     "output_type": "stream",
     "text": [
      "Epoch 59/500\n",
      "15/15 [==============================] - 0s 2ms/step - loss: 0.2007 - accuracy: 0.9275 - val_loss: 0.0937 - val_accuracy: 0.9649\n",
      "Epoch 60/500\n",
      "15/15 [==============================] - 0s 2ms/step - loss: 0.1853 - accuracy: 0.9385 - val_loss: 0.0964 - val_accuracy: 0.9737\n",
      "Epoch 61/500\n",
      "15/15 [==============================] - 0s 2ms/step - loss: 0.1782 - accuracy: 0.9451 - val_loss: 0.0930 - val_accuracy: 0.9737\n",
      "Epoch 62/500\n",
      "15/15 [==============================] - 0s 2ms/step - loss: 0.1828 - accuracy: 0.9429 - val_loss: 0.0921 - val_accuracy: 0.9737\n",
      "Epoch 63/500\n",
      "15/15 [==============================] - 0s 1ms/step - loss: 0.1730 - accuracy: 0.9385 - val_loss: 0.0912 - val_accuracy: 0.9737\n",
      "Epoch 64/500\n",
      "15/15 [==============================] - 0s 2ms/step - loss: 0.1576 - accuracy: 0.9516 - val_loss: 0.0877 - val_accuracy: 0.9737\n",
      "Epoch 65/500\n",
      "15/15 [==============================] - 0s 2ms/step - loss: 0.1964 - accuracy: 0.9385 - val_loss: 0.0879 - val_accuracy: 0.9737\n",
      "Epoch 66/500\n",
      "15/15 [==============================] - 0s 2ms/step - loss: 0.1709 - accuracy: 0.9385 - val_loss: 0.0899 - val_accuracy: 0.9737\n",
      "Epoch 67/500\n",
      "15/15 [==============================] - 0s 2ms/step - loss: 0.1714 - accuracy: 0.9385 - val_loss: 0.0888 - val_accuracy: 0.9737\n",
      "Epoch 68/500\n",
      "15/15 [==============================] - 0s 2ms/step - loss: 0.1706 - accuracy: 0.9341 - val_loss: 0.0883 - val_accuracy: 0.9737\n",
      "Epoch 69/500\n",
      "15/15 [==============================] - 0s 2ms/step - loss: 0.1653 - accuracy: 0.9385 - val_loss: 0.0897 - val_accuracy: 0.9737\n",
      "Epoch 70/500\n",
      "15/15 [==============================] - 0s 2ms/step - loss: 0.1320 - accuracy: 0.9670 - val_loss: 0.0835 - val_accuracy: 0.9737\n",
      "Epoch 71/500\n",
      "15/15 [==============================] - 0s 2ms/step - loss: 0.1574 - accuracy: 0.9451 - val_loss: 0.0812 - val_accuracy: 0.9649\n",
      "Epoch 72/500\n",
      "15/15 [==============================] - 0s 2ms/step - loss: 0.1596 - accuracy: 0.9473 - val_loss: 0.0835 - val_accuracy: 0.9737\n",
      "Epoch 73/500\n",
      "15/15 [==============================] - 0s 2ms/step - loss: 0.1451 - accuracy: 0.9538 - val_loss: 0.0836 - val_accuracy: 0.9649\n",
      "Epoch 74/500\n",
      "15/15 [==============================] - 0s 2ms/step - loss: 0.1558 - accuracy: 0.9429 - val_loss: 0.0819 - val_accuracy: 0.9649\n",
      "Epoch 75/500\n",
      "15/15 [==============================] - 0s 2ms/step - loss: 0.1785 - accuracy: 0.9407 - val_loss: 0.0829 - val_accuracy: 0.9737\n",
      "Epoch 76/500\n",
      "15/15 [==============================] - 0s 2ms/step - loss: 0.1490 - accuracy: 0.9495 - val_loss: 0.0823 - val_accuracy: 0.9649\n",
      "Epoch 77/500\n",
      "15/15 [==============================] - 0s 2ms/step - loss: 0.1408 - accuracy: 0.9538 - val_loss: 0.0799 - val_accuracy: 0.9649\n",
      "Epoch 78/500\n",
      "15/15 [==============================] - 0s 2ms/step - loss: 0.1575 - accuracy: 0.9451 - val_loss: 0.0815 - val_accuracy: 0.9737\n",
      "Epoch 79/500\n",
      "15/15 [==============================] - 0s 2ms/step - loss: 0.1432 - accuracy: 0.9451 - val_loss: 0.0796 - val_accuracy: 0.9737\n",
      "Epoch 80/500\n",
      "15/15 [==============================] - 0s 2ms/step - loss: 0.1372 - accuracy: 0.9560 - val_loss: 0.0774 - val_accuracy: 0.9737\n",
      "Epoch 81/500\n",
      "15/15 [==============================] - 0s 2ms/step - loss: 0.1610 - accuracy: 0.9516 - val_loss: 0.0744 - val_accuracy: 0.9649\n",
      "Epoch 82/500\n",
      "15/15 [==============================] - 0s 2ms/step - loss: 0.1656 - accuracy: 0.9341 - val_loss: 0.0802 - val_accuracy: 0.9737\n",
      "Epoch 83/500\n",
      "15/15 [==============================] - 0s 2ms/step - loss: 0.1479 - accuracy: 0.9429 - val_loss: 0.0789 - val_accuracy: 0.9737\n",
      "Epoch 84/500\n",
      "15/15 [==============================] - 0s 2ms/step - loss: 0.1302 - accuracy: 0.9648 - val_loss: 0.0788 - val_accuracy: 0.9649\n",
      "Epoch 85/500\n",
      "15/15 [==============================] - 0s 2ms/step - loss: 0.1412 - accuracy: 0.9429 - val_loss: 0.0792 - val_accuracy: 0.9649\n",
      "Epoch 86/500\n",
      "15/15 [==============================] - 0s 2ms/step - loss: 0.1488 - accuracy: 0.9516 - val_loss: 0.0789 - val_accuracy: 0.9649\n",
      "Epoch 87/500\n",
      "15/15 [==============================] - 0s 2ms/step - loss: 0.1286 - accuracy: 0.9495 - val_loss: 0.0832 - val_accuracy: 0.9737\n",
      "Epoch 88/500\n",
      "15/15 [==============================] - 0s 2ms/step - loss: 0.1500 - accuracy: 0.9451 - val_loss: 0.0821 - val_accuracy: 0.9737\n",
      "Epoch 89/500\n",
      "15/15 [==============================] - 0s 2ms/step - loss: 0.1413 - accuracy: 0.9538 - val_loss: 0.0837 - val_accuracy: 0.9737\n",
      "Epoch 90/500\n",
      "15/15 [==============================] - 0s 2ms/step - loss: 0.1430 - accuracy: 0.9516 - val_loss: 0.0798 - val_accuracy: 0.9649\n",
      "Epoch 91/500\n",
      "15/15 [==============================] - 0s 2ms/step - loss: 0.1285 - accuracy: 0.9560 - val_loss: 0.0790 - val_accuracy: 0.9649\n",
      "Epoch 92/500\n",
      "15/15 [==============================] - 0s 2ms/step - loss: 0.1347 - accuracy: 0.9516 - val_loss: 0.0781 - val_accuracy: 0.9649\n",
      "Epoch 93/500\n",
      "15/15 [==============================] - 0s 2ms/step - loss: 0.1350 - accuracy: 0.9538 - val_loss: 0.0808 - val_accuracy: 0.9737\n",
      "Epoch 94/500\n",
      "15/15 [==============================] - 0s 2ms/step - loss: 0.1531 - accuracy: 0.9582 - val_loss: 0.0783 - val_accuracy: 0.9649\n",
      "Epoch 95/500\n",
      "15/15 [==============================] - 0s 2ms/step - loss: 0.1186 - accuracy: 0.9582 - val_loss: 0.0789 - val_accuracy: 0.9737\n",
      "Epoch 96/500\n",
      "15/15 [==============================] - 0s 2ms/step - loss: 0.1277 - accuracy: 0.9560 - val_loss: 0.0746 - val_accuracy: 0.9649\n",
      "Epoch 00096: early stopping\n"
     ]
    },
    {
     "data": {
      "text/plain": [
       "<tensorflow.python.keras.callbacks.History at 0x259cb2ad3a0>"
      ]
     },
     "execution_count": 36,
     "metadata": {},
     "output_type": "execute_result"
    }
   ],
   "source": [
    "model.fit(x=X_train, y=y_train, epochs=500, validation_data=(X_test,y_test), verbose=1, callbacks=early_stop)"
   ]
  },
  {
   "cell_type": "code",
   "execution_count": 37,
   "metadata": {
    "colab": {
     "base_uri": "https://localhost:8080/",
     "height": 282
    },
    "executionInfo": {
     "elapsed": 983,
     "status": "ok",
     "timestamp": 1610207163141,
     "user": {
      "displayName": "Richard C",
      "photoUrl": "",
      "userId": "08040814671867660929"
     },
     "user_tz": -180
    },
    "id": "vxC_lAMC013d",
    "outputId": "76fe786f-5201-46df-cd06-0bc95a757207"
   },
   "outputs": [
    {
     "data": {
      "text/html": [
       "<div>\n",
       "<style scoped>\n",
       "    .dataframe tbody tr th:only-of-type {\n",
       "        vertical-align: middle;\n",
       "    }\n",
       "\n",
       "    .dataframe tbody tr th {\n",
       "        vertical-align: top;\n",
       "    }\n",
       "\n",
       "    .dataframe thead th {\n",
       "        text-align: right;\n",
       "    }\n",
       "</style>\n",
       "<table border=\"1\" class=\"dataframe\">\n",
       "  <thead>\n",
       "    <tr style=\"text-align: right;\">\n",
       "      <th></th>\n",
       "      <th>loss</th>\n",
       "      <th>accuracy</th>\n",
       "      <th>val_loss</th>\n",
       "      <th>val_accuracy</th>\n",
       "    </tr>\n",
       "  </thead>\n",
       "  <tbody>\n",
       "    <tr>\n",
       "      <th>0</th>\n",
       "      <td>0.784</td>\n",
       "      <td>0.475</td>\n",
       "      <td>0.717</td>\n",
       "      <td>0.377</td>\n",
       "    </tr>\n",
       "    <tr>\n",
       "      <th>1</th>\n",
       "      <td>0.699</td>\n",
       "      <td>0.519</td>\n",
       "      <td>0.684</td>\n",
       "      <td>0.386</td>\n",
       "    </tr>\n",
       "    <tr>\n",
       "      <th>2</th>\n",
       "      <td>0.690</td>\n",
       "      <td>0.556</td>\n",
       "      <td>0.661</td>\n",
       "      <td>0.719</td>\n",
       "    </tr>\n",
       "    <tr>\n",
       "      <th>3</th>\n",
       "      <td>0.681</td>\n",
       "      <td>0.565</td>\n",
       "      <td>0.645</td>\n",
       "      <td>0.860</td>\n",
       "    </tr>\n",
       "    <tr>\n",
       "      <th>4</th>\n",
       "      <td>0.656</td>\n",
       "      <td>0.631</td>\n",
       "      <td>0.625</td>\n",
       "      <td>0.798</td>\n",
       "    </tr>\n",
       "    <tr>\n",
       "      <th>...</th>\n",
       "      <td>...</td>\n",
       "      <td>...</td>\n",
       "      <td>...</td>\n",
       "      <td>...</td>\n",
       "    </tr>\n",
       "    <tr>\n",
       "      <th>91</th>\n",
       "      <td>0.135</td>\n",
       "      <td>0.952</td>\n",
       "      <td>0.078</td>\n",
       "      <td>0.965</td>\n",
       "    </tr>\n",
       "    <tr>\n",
       "      <th>92</th>\n",
       "      <td>0.135</td>\n",
       "      <td>0.954</td>\n",
       "      <td>0.081</td>\n",
       "      <td>0.974</td>\n",
       "    </tr>\n",
       "    <tr>\n",
       "      <th>93</th>\n",
       "      <td>0.153</td>\n",
       "      <td>0.958</td>\n",
       "      <td>0.078</td>\n",
       "      <td>0.965</td>\n",
       "    </tr>\n",
       "    <tr>\n",
       "      <th>94</th>\n",
       "      <td>0.119</td>\n",
       "      <td>0.958</td>\n",
       "      <td>0.079</td>\n",
       "      <td>0.974</td>\n",
       "    </tr>\n",
       "    <tr>\n",
       "      <th>95</th>\n",
       "      <td>0.128</td>\n",
       "      <td>0.956</td>\n",
       "      <td>0.075</td>\n",
       "      <td>0.965</td>\n",
       "    </tr>\n",
       "  </tbody>\n",
       "</table>\n",
       "<p>96 rows × 4 columns</p>\n",
       "</div>"
      ],
      "text/plain": [
       "    loss  accuracy  val_loss  val_accuracy\n",
       "0  0.784     0.475     0.717         0.377\n",
       "1  0.699     0.519     0.684         0.386\n",
       "2  0.690     0.556     0.661         0.719\n",
       "3  0.681     0.565     0.645         0.860\n",
       "4  0.656     0.631     0.625         0.798\n",
       "..   ...       ...       ...           ...\n",
       "91 0.135     0.952     0.078         0.965\n",
       "92 0.135     0.954     0.081         0.974\n",
       "93 0.153     0.958     0.078         0.965\n",
       "94 0.119     0.958     0.079         0.974\n",
       "95 0.128     0.956     0.075         0.965\n",
       "\n",
       "[96 rows x 4 columns]"
      ]
     },
     "execution_count": 37,
     "metadata": {},
     "output_type": "execute_result"
    }
   ],
   "source": [
    "model_losses=pd.DataFrame(model.history.history)\n",
    "model_losses"
   ]
  },
  {
   "cell_type": "code",
   "execution_count": 38,
   "metadata": {},
   "outputs": [
    {
     "data": {
      "image/png": "[encoded data removed]",
      "text/plain": [
       "<Figure size 864x432 with 1 Axes>"
      ]
     },
     "metadata": {},
     "output_type": "display_data"
    }
   ],
   "source": [
    "model_losses.plot();"
   ]
  },
  {
   "cell_type": "markdown",
   "metadata": {
    "id": "NuKmWd-41xDn"
   },
   "source": [
    "* Model Evaluation"
   ]
  },
  {
   "cell_type": "code",
   "execution_count": 39,
   "metadata": {
    "colab": {
     "base_uri": "https://localhost:8080/"
    },
    "executionInfo": {
     "elapsed": 770,
     "status": "ok",
     "timestamp": 1610208315522,
     "user": {
      "displayName": "Richard C",
      "photoUrl": "",
      "userId": "08040814671867660929"
     },
     "user_tz": -180
    },
    "id": "26nGJL6_46qu",
    "outputId": "561d17eb-7c24-4a06-8324-1c19fc1da8d9"
   },
   "outputs": [],
   "source": [
    "y_pred = model.predict_classes(X_test)"
   ]
  },
  {
   "cell_type": "code",
   "execution_count": 40,
   "metadata": {
    "executionInfo": {
     "elapsed": 778,
     "status": "ok",
     "timestamp": 1610208369141,
     "user": {
      "displayName": "Richard C",
      "photoUrl": "",
      "userId": "08040814671867660929"
     },
     "user_tz": -180
    },
    "id": "5kIzeYtG5KXz"
   },
   "outputs": [],
   "source": [
    "from sklearn.metrics import classification_report, confusion_matrix"
   ]
  },
  {
   "cell_type": "code",
   "execution_count": 41,
   "metadata": {
    "colab": {
     "base_uri": "https://localhost:8080/"
    },
    "executionInfo": {
     "elapsed": 808,
     "status": "ok",
     "timestamp": 1610208422671,
     "user": {
      "displayName": "Richard C",
      "photoUrl": "",
      "userId": "08040814671867660929"
     },
     "user_tz": -180
    },
    "id": "6lcXhplO5eRv",
    "outputId": "52b2ffe9-419d-44f4-b889-fadc4c5e0606"
   },
   "outputs": [
    {
     "name": "stdout",
     "output_type": "stream",
     "text": [
      "[[41  2]\n",
      " [ 2 69]]\n"
     ]
    }
   ],
   "source": [
    "print(confusion_matrix(y_test, y_pred))"
   ]
  },
  {
   "cell_type": "code",
   "execution_count": 42,
   "metadata": {
    "colab": {
     "base_uri": "https://localhost:8080/"
    },
    "executionInfo": {
     "elapsed": 978,
     "status": "ok",
     "timestamp": 1610208547365,
     "user": {
      "displayName": "Richard C",
      "photoUrl": "",
      "userId": "08040814671867660929"
     },
     "user_tz": -180
    },
    "id": "m30hPSLv54FY",
    "outputId": "cc51cbeb-5794-4487-998b-b66beba41046"
   },
   "outputs": [
    {
     "name": "stdout",
     "output_type": "stream",
     "text": [
      "              precision    recall  f1-score   support\n",
      "\n",
      "           0       0.95      0.95      0.95        43\n",
      "           1       0.97      0.97      0.97        71\n",
      "\n",
      "    accuracy                           0.96       114\n",
      "   macro avg       0.96      0.96      0.96       114\n",
      "weighted avg       0.96      0.96      0.96       114\n",
      "\n"
     ]
    }
   ],
   "source": [
    "print(classification_report(y_test, y_pred))"
   ]
  },
  {
   "cell_type": "markdown",
   "metadata": {
    "id": "Cq10ovAX6daY"
   },
   "source": [
    "* Making Predictions"
   ]
  },
  {
   "cell_type": "code",
   "execution_count": 43,
   "metadata": {
    "colab": {
     "base_uri": "https://localhost:8080/",
     "height": 163
    },
    "executionInfo": {
     "elapsed": 840,
     "status": "ok",
     "timestamp": 1610208670833,
     "user": {
      "displayName": "Richard C",
      "photoUrl": "",
      "userId": "08040814671867660929"
     },
     "user_tz": -180
    },
    "id": "ok2a8aJS6I4G",
    "outputId": "67e19b7a-30e6-471e-9777-03e210fc4a9c"
   },
   "outputs": [
    {
     "data": {
      "text/html": [
       "<div>\n",
       "<style scoped>\n",
       "    .dataframe tbody tr th:only-of-type {\n",
       "        vertical-align: middle;\n",
       "    }\n",
       "\n",
       "    .dataframe tbody tr th {\n",
       "        vertical-align: top;\n",
       "    }\n",
       "\n",
       "    .dataframe thead th {\n",
       "        text-align: right;\n",
       "    }\n",
       "</style>\n",
       "<table border=\"1\" class=\"dataframe\">\n",
       "  <thead>\n",
       "    <tr style=\"text-align: right;\">\n",
       "      <th></th>\n",
       "      <th>mean radius</th>\n",
       "      <th>mean texture</th>\n",
       "      <th>mean smoothness</th>\n",
       "      <th>mean compactness</th>\n",
       "      <th>mean concavity</th>\n",
       "      <th>mean concave points</th>\n",
       "      <th>mean symmetry</th>\n",
       "      <th>mean fractal dimension</th>\n",
       "      <th>radius error</th>\n",
       "      <th>texture error</th>\n",
       "      <th>...</th>\n",
       "      <th>fractal dimension error</th>\n",
       "      <th>worst radius</th>\n",
       "      <th>worst texture</th>\n",
       "      <th>worst smoothness</th>\n",
       "      <th>worst compactness</th>\n",
       "      <th>worst concavity</th>\n",
       "      <th>worst concave points</th>\n",
       "      <th>worst symmetry</th>\n",
       "      <th>worst fractal dimension</th>\n",
       "      <th>benign_0__mal_1</th>\n",
       "    </tr>\n",
       "  </thead>\n",
       "  <tbody>\n",
       "    <tr>\n",
       "      <th>0</th>\n",
       "      <td>17.990</td>\n",
       "      <td>10.380</td>\n",
       "      <td>0.118</td>\n",
       "      <td>0.278</td>\n",
       "      <td>0.300</td>\n",
       "      <td>0.147</td>\n",
       "      <td>0.242</td>\n",
       "      <td>0.079</td>\n",
       "      <td>1.095</td>\n",
       "      <td>0.905</td>\n",
       "      <td>...</td>\n",
       "      <td>0.006</td>\n",
       "      <td>25.380</td>\n",
       "      <td>17.330</td>\n",
       "      <td>0.162</td>\n",
       "      <td>0.666</td>\n",
       "      <td>0.712</td>\n",
       "      <td>0.265</td>\n",
       "      <td>0.460</td>\n",
       "      <td>0.119</td>\n",
       "      <td>0</td>\n",
       "    </tr>\n",
       "    <tr>\n",
       "      <th>1</th>\n",
       "      <td>20.570</td>\n",
       "      <td>17.770</td>\n",
       "      <td>0.085</td>\n",
       "      <td>0.079</td>\n",
       "      <td>0.087</td>\n",
       "      <td>0.070</td>\n",
       "      <td>0.181</td>\n",
       "      <td>0.057</td>\n",
       "      <td>0.543</td>\n",
       "      <td>0.734</td>\n",
       "      <td>...</td>\n",
       "      <td>0.004</td>\n",
       "      <td>24.990</td>\n",
       "      <td>23.410</td>\n",
       "      <td>0.124</td>\n",
       "      <td>0.187</td>\n",
       "      <td>0.242</td>\n",
       "      <td>0.186</td>\n",
       "      <td>0.275</td>\n",
       "      <td>0.089</td>\n",
       "      <td>0</td>\n",
       "    </tr>\n",
       "  </tbody>\n",
       "</table>\n",
       "<p>2 rows × 25 columns</p>\n",
       "</div>"
      ],
      "text/plain": [
       "   mean radius  mean texture  mean smoothness  mean compactness  \\\n",
       "0       17.990        10.380            0.118             0.278   \n",
       "1       20.570        17.770            0.085             0.079   \n",
       "\n",
       "   mean concavity  mean concave points  mean symmetry  mean fractal dimension  \\\n",
       "0           0.300                0.147          0.242                   0.079   \n",
       "1           0.087                0.070          0.181                   0.057   \n",
       "\n",
       "   radius error  texture error  ...  fractal dimension error  worst radius  \\\n",
       "0         1.095          0.905  ...                    0.006        25.380   \n",
       "1         0.543          0.734  ...                    0.004        24.990   \n",
       "\n",
       "   worst texture  worst smoothness  worst compactness  worst concavity  \\\n",
       "0         17.330             0.162              0.666            0.712   \n",
       "1         23.410             0.124              0.187            0.242   \n",
       "\n",
       "   worst concave points  worst symmetry  worst fractal dimension  \\\n",
       "0                 0.265           0.460                    0.119   \n",
       "1                 0.186           0.275                    0.089   \n",
       "\n",
       "   benign_0__mal_1  \n",
       "0                0  \n",
       "1                0  \n",
       "\n",
       "[2 rows x 25 columns]"
      ]
     },
     "execution_count": 43,
     "metadata": {},
     "output_type": "execute_result"
    }
   ],
   "source": [
    "df.head(2)"
   ]
  },
  {
   "cell_type": "code",
   "execution_count": 45,
   "metadata": {
    "colab": {
     "base_uri": "https://localhost:8080/"
    },
    "executionInfo": {
     "elapsed": 590,
     "status": "ok",
     "timestamp": 1610208679283,
     "user": {
      "displayName": "Richard C",
      "photoUrl": "",
      "userId": "08040814671867660929"
     },
     "user_tz": -180
    },
    "id": "vKW3zq9v6nDb",
    "outputId": "9d90b52c-ee57-417d-e8b7-d9e7e0b83753"
   },
   "outputs": [
    {
     "data": {
      "text/plain": [
       "(569, 25)"
      ]
     },
     "execution_count": 45,
     "metadata": {},
     "output_type": "execute_result"
    }
   ],
   "source": [
    "df.shape"
   ]
  },
  {
   "cell_type": "code",
   "execution_count": 46,
   "metadata": {
    "executionInfo": {
     "elapsed": 1066,
     "status": "ok",
     "timestamp": 1610209223037,
     "user": {
      "displayName": "Richard C",
      "photoUrl": "",
      "userId": "08040814671867660929"
     },
     "user_tz": -180
    },
    "id": "1TKEK3NR6pKp"
   },
   "outputs": [],
   "source": [
    "new_data = df.iloc[0][:-1]"
   ]
  },
  {
   "cell_type": "code",
   "execution_count": 47,
   "metadata": {},
   "outputs": [],
   "source": [
    "new_data1=df.iloc[1][:-1]"
   ]
  },
  {
   "cell_type": "code",
   "execution_count": 48,
   "metadata": {
    "colab": {
     "base_uri": "https://localhost:8080/"
    },
    "executionInfo": {
     "elapsed": 577,
     "status": "ok",
     "timestamp": 1610209223487,
     "user": {
      "displayName": "Richard C",
      "photoUrl": "",
      "userId": "08040814671867660929"
     },
     "user_tz": -180
    },
    "id": "0OEUGj0s6tcH",
    "outputId": "63b81bf9-d4f9-43af-b82b-e1de3b95307a"
   },
   "outputs": [
    {
     "data": {
      "text/plain": [
       "(24,)"
      ]
     },
     "execution_count": 48,
     "metadata": {},
     "output_type": "execute_result"
    }
   ],
   "source": [
    "new_data.shape"
   ]
  },
  {
   "cell_type": "code",
   "execution_count": 49,
   "metadata": {
    "colab": {
     "base_uri": "https://localhost:8080/"
    },
    "executionInfo": {
     "elapsed": 528,
     "status": "ok",
     "timestamp": 1610209225159,
     "user": {
      "displayName": "Richard C",
      "photoUrl": "",
      "userId": "08040814671867660929"
     },
     "user_tz": -180
    },
    "id": "3D09KJZ967dg",
    "outputId": "afdc9573-8369-48a7-96e1-0885f3716c4e"
   },
   "outputs": [
    {
     "data": {
      "text/plain": [
       "1"
      ]
     },
     "execution_count": 49,
     "metadata": {},
     "output_type": "execute_result"
    }
   ],
   "source": [
    "new_data.ndim"
   ]
  },
  {
   "cell_type": "code",
   "execution_count": 50,
   "metadata": {
    "colab": {
     "base_uri": "https://localhost:8080/"
    },
    "executionInfo": {
     "elapsed": 803,
     "status": "ok",
     "timestamp": 1610209228495,
     "user": {
      "displayName": "Richard C",
      "photoUrl": "",
      "userId": "08040814671867660929"
     },
     "user_tz": -180
    },
    "id": "_Au4bPJJ7EvK",
    "outputId": "424602a6-e01d-4d5f-e6c0-16e992464fda"
   },
   "outputs": [
    {
     "data": {
      "text/plain": [
       "2"
      ]
     },
     "execution_count": 50,
     "metadata": {},
     "output_type": "execute_result"
    }
   ],
   "source": [
    "X_train.ndim"
   ]
  },
  {
   "cell_type": "code",
   "execution_count": 51,
   "metadata": {
    "colab": {
     "base_uri": "https://localhost:8080/"
    },
    "executionInfo": {
     "elapsed": 834,
     "status": "ok",
     "timestamp": 1610209229609,
     "user": {
      "displayName": "Richard C",
      "photoUrl": "",
      "userId": "08040814671867660929"
     },
     "user_tz": -180
    },
    "id": "_HFHG5uH7Iar",
    "outputId": "05278585-9171-4019-a40a-0b753ec7d77a"
   },
   "outputs": [
    {
     "data": {
      "text/plain": [
       "(455, 24)"
      ]
     },
     "execution_count": 51,
     "metadata": {},
     "output_type": "execute_result"
    }
   ],
   "source": [
    "X_train.shape"
   ]
  },
  {
   "cell_type": "code",
   "execution_count": 52,
   "metadata": {},
   "outputs": [
    {
     "data": {
      "text/plain": [
       "(114, 24)"
      ]
     },
     "execution_count": 52,
     "metadata": {},
     "output_type": "execute_result"
    }
   ],
   "source": [
    "X_test.shape"
   ]
  },
  {
   "cell_type": "code",
   "execution_count": 53,
   "metadata": {
    "executionInfo": {
     "elapsed": 858,
     "status": "ok",
     "timestamp": 1610209238292,
     "user": {
      "displayName": "Richard C",
      "photoUrl": "",
      "userId": "08040814671867660929"
     },
     "user_tz": -180
    },
    "id": "-ItSEvxr7Ymi"
   },
   "outputs": [],
   "source": [
    "a = new_data.values.reshape(-1,24)"
   ]
  },
  {
   "cell_type": "code",
   "execution_count": 54,
   "metadata": {
    "colab": {
     "base_uri": "https://localhost:8080/"
    },
    "executionInfo": {
     "elapsed": 911,
     "status": "ok",
     "timestamp": 1610209241814,
     "user": {
      "displayName": "Richard C",
      "photoUrl": "",
      "userId": "08040814671867660929"
     },
     "user_tz": -180
    },
    "id": "e55ibSPi7f8m",
    "outputId": "73bc7fcf-3bb5-4acf-ef04-67d9caa59659"
   },
   "outputs": [
    {
     "data": {
      "text/plain": [
       "(1, 24)"
      ]
     },
     "execution_count": 54,
     "metadata": {},
     "output_type": "execute_result"
    }
   ],
   "source": [
    "a.shape"
   ]
  },
  {
   "cell_type": "code",
   "execution_count": 55,
   "metadata": {
    "executionInfo": {
     "elapsed": 767,
     "status": "ok",
     "timestamp": 1610209246785,
     "user": {
      "displayName": "Richard C",
      "photoUrl": "",
      "userId": "08040814671867660929"
     },
     "user_tz": -180
    },
    "id": "c0FZ5QHS8WmG"
   },
   "outputs": [],
   "source": [
    "new_data = scaler.transform(new_data.values.reshape(-1,24))"
   ]
  },
  {
   "cell_type": "code",
   "execution_count": 56,
   "metadata": {},
   "outputs": [],
   "source": [
    "new_data1 = scaler.transform(new_data1.values.reshape(-1,24))"
   ]
  },
  {
   "cell_type": "code",
   "execution_count": 57,
   "metadata": {
    "colab": {
     "base_uri": "https://localhost:8080/"
    },
    "executionInfo": {
     "elapsed": 996,
     "status": "ok",
     "timestamp": 1610209274154,
     "user": {
      "displayName": "Richard C",
      "photoUrl": "",
      "userId": "08040814671867660929"
     },
     "user_tz": -180
    },
    "id": "7k4ZwB3c7gml",
    "outputId": "5f3e491b-6d99-41f2-892a-0ec5aaf5939f"
   },
   "outputs": [
    {
     "data": {
      "text/plain": [
       "array([[0]])"
      ]
     },
     "execution_count": 57,
     "metadata": {},
     "output_type": "execute_result"
    }
   ],
   "source": [
    "model.predict_classes(new_data)"
   ]
  },
  {
   "cell_type": "code",
   "execution_count": 58,
   "metadata": {},
   "outputs": [
    {
     "data": {
      "text/plain": [
       "array([[0]])"
      ]
     },
     "execution_count": 58,
     "metadata": {},
     "output_type": "execute_result"
    }
   ],
   "source": [
    "model.predict_classes(new_data1)"
   ]
  },
  {
   "cell_type": "markdown",
   "metadata": {},
   "source": [
    "* Comparison with ML"
   ]
  },
  {
   "cell_type": "code",
   "execution_count": 44,
   "metadata": {},
   "outputs": [],
   "source": [
    "from sklearn.ensemble import RandomForestClassifier"
   ]
  },
  {
   "cell_type": "code",
   "execution_count": 59,
   "metadata": {},
   "outputs": [
    {
     "name": "stdout",
     "output_type": "stream",
     "text": [
      "[[40  3]\n",
      " [ 2 69]]\n"
     ]
    }
   ],
   "source": [
    "rf_model = RandomForestClassifier()\n",
    "rf_model.fit(X_train, y_train)\n",
    "y_pred = rf_model.predict(X_test)\n",
    "print(confusion_matrix(y_test, y_pred))"
   ]
  },
  {
   "cell_type": "code",
   "execution_count": 60,
   "metadata": {},
   "outputs": [
    {
     "name": "stdout",
     "output_type": "stream",
     "text": [
      "              precision    recall  f1-score   support\n",
      "\n",
      "           0       0.95      0.93      0.94        43\n",
      "           1       0.96      0.97      0.97        71\n",
      "\n",
      "    accuracy                           0.96       114\n",
      "   macro avg       0.96      0.95      0.95       114\n",
      "weighted avg       0.96      0.96      0.96       114\n",
      "\n"
     ]
    }
   ],
   "source": [
    "print(classification_report(y_test, y_pred))"
   ]
  }
 ],
 "metadata": {
  "colab": {
   "authorship_tag": "ABX9TyPKBWWuNpSuP7DHsa+Zpo3l",
   "collapsed_sections": [],
   "name": "Untitled0.ipynb",
   "provenance": []
  },
  "kernelspec": {
   "display_name": "Python 3",
   "language": "python",
   "name": "python3"
  },
  "language_info": {
   "codemirror_mode": {
    "name": "ipython",
    "version": 3
   },
   "file_extension": ".py",
   "mimetype": "text/x-python",
   "name": "python",
   "nbconvert_exporter": "python",
   "pygments_lexer": "ipython3",
   "version": "3.8.5"
  }
 },
 "nbformat": 4,
 "nbformat_minor": 1
}
